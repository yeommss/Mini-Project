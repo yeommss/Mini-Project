{
 "cells": [
  {
   "cell_type": "code",
   "execution_count": 1,
   "metadata": {},
   "outputs": [],
   "source": [
    "import pandas as pd\n",
    "import numpy as np"
   ]
  },
  {
   "cell_type": "code",
   "execution_count": 2,
   "metadata": {},
   "outputs": [
    {
     "data": {
      "text/plain": [
       "['data/crime_final.csv',\n",
       " 'data/재범자_재범종류_및_기간_2011_2020.csv',\n",
       " 'data/범죄_발생부터_검거까지의_기간_2011_2020.csv',\n",
       " 'data/범죄자_범행시_전과_여부_및_횟수_20220603105708.csv']"
      ]
     },
     "execution_count": 2,
     "metadata": {},
     "output_type": "execute_result"
    }
   ],
   "source": [
    "from glob import glob\n",
    "\n",
    "glob('data/*')\n"
   ]
  },
  {
   "cell_type": "code",
   "execution_count": 3,
   "metadata": {},
   "outputs": [
    {
     "data": {
      "text/html": [
       "<div>\n",
       "<style scoped>\n",
       "    .dataframe tbody tr th:only-of-type {\n",
       "        vertical-align: middle;\n",
       "    }\n",
       "\n",
       "    .dataframe tbody tr th {\n",
       "        vertical-align: top;\n",
       "    }\n",
       "\n",
       "    .dataframe thead th {\n",
       "        text-align: right;\n",
       "    }\n",
       "</style>\n",
       "<table border=\"1\" class=\"dataframe\">\n",
       "  <thead>\n",
       "    <tr style=\"text-align: right;\">\n",
       "      <th></th>\n",
       "      <th>연도</th>\n",
       "      <th>범죄명</th>\n",
       "      <th>자백발생횟수</th>\n",
       "      <th>재범발생횟수</th>\n",
       "      <th>공범자수</th>\n",
       "      <th>마약소지</th>\n",
       "    </tr>\n",
       "  </thead>\n",
       "  <tbody>\n",
       "    <tr>\n",
       "      <th>0</th>\n",
       "      <td>2011</td>\n",
       "      <td>강간·강제추행</td>\n",
       "      <td>17652</td>\n",
       "      <td>8324</td>\n",
       "      <td>0</td>\n",
       "      <td>14</td>\n",
       "    </tr>\n",
       "    <tr>\n",
       "      <th>1</th>\n",
       "      <td>2011</td>\n",
       "      <td>강도</td>\n",
       "      <td>4890</td>\n",
       "      <td>3230</td>\n",
       "      <td>0</td>\n",
       "      <td>12</td>\n",
       "    </tr>\n",
       "    <tr>\n",
       "      <th>2</th>\n",
       "      <td>2011</td>\n",
       "      <td>공갈</td>\n",
       "      <td>3786</td>\n",
       "      <td>1949</td>\n",
       "      <td>0</td>\n",
       "      <td>5</td>\n",
       "    </tr>\n",
       "    <tr>\n",
       "      <th>3</th>\n",
       "      <td>2011</td>\n",
       "      <td>교통범죄</td>\n",
       "      <td>524350</td>\n",
       "      <td>253502</td>\n",
       "      <td>0</td>\n",
       "      <td>82</td>\n",
       "    </tr>\n",
       "    <tr>\n",
       "      <th>4</th>\n",
       "      <td>2011</td>\n",
       "      <td>기타범죄</td>\n",
       "      <td>224781</td>\n",
       "      <td>111959</td>\n",
       "      <td>0</td>\n",
       "      <td>102</td>\n",
       "    </tr>\n",
       "  </tbody>\n",
       "</table>\n",
       "</div>"
      ],
      "text/plain": [
       "     연도      범죄명  자백발생횟수  재범발생횟수  공범자수  마약소지\n",
       "0  2011  강간·강제추행   17652    8324     0    14\n",
       "1  2011       강도    4890    3230     0    12\n",
       "2  2011       공갈    3786    1949     0     5\n",
       "3  2011     교통범죄  524350  253502     0    82\n",
       "4  2011     기타범죄  224781  111959     0   102"
      ]
     },
     "execution_count": 3,
     "metadata": {},
     "output_type": "execute_result"
    }
   ],
   "source": [
    "df = pd.read_csv('data/crime_final.csv')\n",
    "df.head()"
   ]
  },
  {
   "cell_type": "code",
   "execution_count": 6,
   "metadata": {},
   "outputs": [
    {
     "data": {
      "text/plain": [
       "(374, 6)"
      ]
     },
     "execution_count": 6,
     "metadata": {},
     "output_type": "execute_result"
    }
   ],
   "source": [
    "df.shape"
   ]
  },
  {
   "cell_type": "code",
   "execution_count": 75,
   "metadata": {},
   "outputs": [
    {
     "name": "stdout",
     "output_type": "stream",
     "text": [
      "<class 'pandas.core.frame.DataFrame'>\n",
      "RangeIndex: 374 entries, 0 to 373\n",
      "Data columns (total 6 columns):\n",
      " #   Column  Non-Null Count  Dtype \n",
      "---  ------  --------------  ----- \n",
      " 0   연도      374 non-null    int64 \n",
      " 1   범죄명     374 non-null    object\n",
      " 2   자백발생횟수  374 non-null    int64 \n",
      " 3   재범발생횟수  374 non-null    int64 \n",
      " 4   공범자수    374 non-null    int64 \n",
      " 5   마약소지    374 non-null    int64 \n",
      "dtypes: int64(5), object(1)\n",
      "memory usage: 17.7+ KB\n"
     ]
    }
   ],
   "source": [
    "df.info()"
   ]
  },
  {
   "cell_type": "code",
   "execution_count": 76,
   "metadata": {},
   "outputs": [
    {
     "data": {
      "text/html": [
       "<div>\n",
       "<style scoped>\n",
       "    .dataframe tbody tr th:only-of-type {\n",
       "        vertical-align: middle;\n",
       "    }\n",
       "\n",
       "    .dataframe tbody tr th {\n",
       "        vertical-align: top;\n",
       "    }\n",
       "\n",
       "    .dataframe thead th {\n",
       "        text-align: right;\n",
       "    }\n",
       "</style>\n",
       "<table border=\"1\" class=\"dataframe\">\n",
       "  <thead>\n",
       "    <tr style=\"text-align: right;\">\n",
       "      <th></th>\n",
       "      <th>연도</th>\n",
       "      <th>범죄명</th>\n",
       "      <th>자백발생횟수</th>\n",
       "      <th>재범발생횟수</th>\n",
       "      <th>공범자수</th>\n",
       "      <th>마약소지</th>\n",
       "    </tr>\n",
       "  </thead>\n",
       "  <tbody>\n",
       "    <tr>\n",
       "      <th>0</th>\n",
       "      <td>2011</td>\n",
       "      <td>강간·강제추행</td>\n",
       "      <td>17652</td>\n",
       "      <td>8324</td>\n",
       "      <td>0</td>\n",
       "      <td>14</td>\n",
       "    </tr>\n",
       "    <tr>\n",
       "      <th>1</th>\n",
       "      <td>2011</td>\n",
       "      <td>강도</td>\n",
       "      <td>4890</td>\n",
       "      <td>3230</td>\n",
       "      <td>0</td>\n",
       "      <td>12</td>\n",
       "    </tr>\n",
       "    <tr>\n",
       "      <th>2</th>\n",
       "      <td>2011</td>\n",
       "      <td>공갈</td>\n",
       "      <td>3786</td>\n",
       "      <td>1949</td>\n",
       "      <td>0</td>\n",
       "      <td>5</td>\n",
       "    </tr>\n",
       "    <tr>\n",
       "      <th>3</th>\n",
       "      <td>2011</td>\n",
       "      <td>교통범죄</td>\n",
       "      <td>524350</td>\n",
       "      <td>253502</td>\n",
       "      <td>0</td>\n",
       "      <td>82</td>\n",
       "    </tr>\n",
       "    <tr>\n",
       "      <th>4</th>\n",
       "      <td>2011</td>\n",
       "      <td>기타범죄</td>\n",
       "      <td>224781</td>\n",
       "      <td>111959</td>\n",
       "      <td>0</td>\n",
       "      <td>102</td>\n",
       "    </tr>\n",
       "  </tbody>\n",
       "</table>\n",
       "</div>"
      ],
      "text/plain": [
       "     연도      범죄명  자백발생횟수  재범발생횟수  공범자수  마약소지\n",
       "0  2011  강간·강제추행   17652    8324     0    14\n",
       "1  2011       강도    4890    3230     0    12\n",
       "2  2011       공갈    3786    1949     0     5\n",
       "3  2011     교통범죄  524350  253502     0    82\n",
       "4  2011     기타범죄  224781  111959     0   102"
      ]
     },
     "execution_count": 76,
     "metadata": {},
     "output_type": "execute_result"
    }
   ],
   "source": [
    "df.head()"
   ]
  },
  {
   "cell_type": "code",
   "execution_count": 77,
   "metadata": {},
   "outputs": [
    {
     "data": {
      "text/html": [
       "<div>\n",
       "<style scoped>\n",
       "    .dataframe tbody tr th:only-of-type {\n",
       "        vertical-align: middle;\n",
       "    }\n",
       "\n",
       "    .dataframe tbody tr th {\n",
       "        vertical-align: top;\n",
       "    }\n",
       "\n",
       "    .dataframe thead th {\n",
       "        text-align: right;\n",
       "    }\n",
       "</style>\n",
       "<table border=\"1\" class=\"dataframe\">\n",
       "  <thead>\n",
       "    <tr style=\"text-align: right;\">\n",
       "      <th></th>\n",
       "      <th>연도</th>\n",
       "      <th>범죄명</th>\n",
       "      <th>자백발생횟수</th>\n",
       "      <th>재범발생횟수</th>\n",
       "      <th>공범자수</th>\n",
       "      <th>마약소지</th>\n",
       "    </tr>\n",
       "  </thead>\n",
       "  <tbody>\n",
       "    <tr>\n",
       "      <th>369</th>\n",
       "      <td>2020</td>\n",
       "      <td>폭력행위등</td>\n",
       "      <td>25342</td>\n",
       "      <td>12499</td>\n",
       "      <td>18738</td>\n",
       "      <td>2</td>\n",
       "    </tr>\n",
       "    <tr>\n",
       "      <th>370</th>\n",
       "      <td>2020</td>\n",
       "      <td>폭행</td>\n",
       "      <td>178448</td>\n",
       "      <td>70520</td>\n",
       "      <td>5035</td>\n",
       "      <td>26</td>\n",
       "    </tr>\n",
       "    <tr>\n",
       "      <th>371</th>\n",
       "      <td>2020</td>\n",
       "      <td>협박</td>\n",
       "      <td>22507</td>\n",
       "      <td>11381</td>\n",
       "      <td>601</td>\n",
       "      <td>6</td>\n",
       "    </tr>\n",
       "    <tr>\n",
       "      <th>372</th>\n",
       "      <td>2020</td>\n",
       "      <td>환경범죄</td>\n",
       "      <td>4329</td>\n",
       "      <td>2908</td>\n",
       "      <td>1010</td>\n",
       "      <td>0</td>\n",
       "    </tr>\n",
       "    <tr>\n",
       "      <th>373</th>\n",
       "      <td>2020</td>\n",
       "      <td>횡령</td>\n",
       "      <td>35930</td>\n",
       "      <td>13269</td>\n",
       "      <td>2919</td>\n",
       "      <td>4</td>\n",
       "    </tr>\n",
       "  </tbody>\n",
       "</table>\n",
       "</div>"
      ],
      "text/plain": [
       "       연도    범죄명  자백발생횟수  재범발생횟수   공범자수  마약소지\n",
       "369  2020  폭력행위등   25342   12499  18738     2\n",
       "370  2020     폭행  178448   70520   5035    26\n",
       "371  2020     협박   22507   11381    601     6\n",
       "372  2020   환경범죄    4329    2908   1010     0\n",
       "373  2020     횡령   35930   13269   2919     4"
      ]
     },
     "execution_count": 77,
     "metadata": {},
     "output_type": "execute_result"
    }
   ],
   "source": [
    "df.tail()"
   ]
  },
  {
   "cell_type": "code",
   "execution_count": 78,
   "metadata": {},
   "outputs": [
    {
     "data": {
      "text/html": [
       "<div>\n",
       "<style scoped>\n",
       "    .dataframe tbody tr th:only-of-type {\n",
       "        vertical-align: middle;\n",
       "    }\n",
       "\n",
       "    .dataframe tbody tr th {\n",
       "        vertical-align: top;\n",
       "    }\n",
       "\n",
       "    .dataframe thead th {\n",
       "        text-align: right;\n",
       "    }\n",
       "</style>\n",
       "<table border=\"1\" class=\"dataframe\">\n",
       "  <thead>\n",
       "    <tr style=\"text-align: right;\">\n",
       "      <th></th>\n",
       "      <th>연도</th>\n",
       "      <th>자백발생횟수</th>\n",
       "      <th>재범발생횟수</th>\n",
       "      <th>공범자수</th>\n",
       "      <th>마약소지</th>\n",
       "    </tr>\n",
       "  </thead>\n",
       "  <tbody>\n",
       "    <tr>\n",
       "      <th>count</th>\n",
       "      <td>374.000000</td>\n",
       "      <td>374.000000</td>\n",
       "      <td>374.000000</td>\n",
       "      <td>374.000000</td>\n",
       "      <td>374.000000</td>\n",
       "    </tr>\n",
       "    <tr>\n",
       "      <th>mean</th>\n",
       "      <td>2015.564171</td>\n",
       "      <td>45345.513369</td>\n",
       "      <td>21357.975936</td>\n",
       "      <td>5246.895722</td>\n",
       "      <td>86.580214</td>\n",
       "    </tr>\n",
       "    <tr>\n",
       "      <th>std</th>\n",
       "      <td>2.852946</td>\n",
       "      <td>96218.749095</td>\n",
       "      <td>44553.285496</td>\n",
       "      <td>11333.299885</td>\n",
       "      <td>531.466072</td>\n",
       "    </tr>\n",
       "    <tr>\n",
       "      <th>min</th>\n",
       "      <td>2011.000000</td>\n",
       "      <td>86.000000</td>\n",
       "      <td>19.000000</td>\n",
       "      <td>0.000000</td>\n",
       "      <td>0.000000</td>\n",
       "    </tr>\n",
       "    <tr>\n",
       "      <th>25%</th>\n",
       "      <td>2013.000000</td>\n",
       "      <td>843.500000</td>\n",
       "      <td>387.000000</td>\n",
       "      <td>69.000000</td>\n",
       "      <td>0.000000</td>\n",
       "    </tr>\n",
       "    <tr>\n",
       "      <th>50%</th>\n",
       "      <td>2016.000000</td>\n",
       "      <td>5842.500000</td>\n",
       "      <td>2566.500000</td>\n",
       "      <td>539.500000</td>\n",
       "      <td>2.000000</td>\n",
       "    </tr>\n",
       "    <tr>\n",
       "      <th>75%</th>\n",
       "      <td>2018.000000</td>\n",
       "      <td>31851.000000</td>\n",
       "      <td>16652.750000</td>\n",
       "      <td>3494.500000</td>\n",
       "      <td>11.750000</td>\n",
       "    </tr>\n",
       "    <tr>\n",
       "      <th>max</th>\n",
       "      <td>2020.000000</td>\n",
       "      <td>555352.000000</td>\n",
       "      <td>275880.000000</td>\n",
       "      <td>70422.000000</td>\n",
       "      <td>5423.000000</td>\n",
       "    </tr>\n",
       "  </tbody>\n",
       "</table>\n",
       "</div>"
      ],
      "text/plain": [
       "                연도         자백발생횟수         재범발생횟수          공범자수         마약소지\n",
       "count   374.000000     374.000000     374.000000    374.000000   374.000000\n",
       "mean   2015.564171   45345.513369   21357.975936   5246.895722    86.580214\n",
       "std       2.852946   96218.749095   44553.285496  11333.299885   531.466072\n",
       "min    2011.000000      86.000000      19.000000      0.000000     0.000000\n",
       "25%    2013.000000     843.500000     387.000000     69.000000     0.000000\n",
       "50%    2016.000000    5842.500000    2566.500000    539.500000     2.000000\n",
       "75%    2018.000000   31851.000000   16652.750000   3494.500000    11.750000\n",
       "max    2020.000000  555352.000000  275880.000000  70422.000000  5423.000000"
      ]
     },
     "execution_count": 78,
     "metadata": {},
     "output_type": "execute_result"
    }
   ],
   "source": [
    "df.describe()"
   ]
  },
  {
   "cell_type": "code",
   "execution_count": 79,
   "metadata": {},
   "outputs": [
    {
     "data": {
      "text/html": [
       "<div>\n",
       "<style scoped>\n",
       "    .dataframe tbody tr th:only-of-type {\n",
       "        vertical-align: middle;\n",
       "    }\n",
       "\n",
       "    .dataframe tbody tr th {\n",
       "        vertical-align: top;\n",
       "    }\n",
       "\n",
       "    .dataframe thead th {\n",
       "        text-align: right;\n",
       "    }\n",
       "</style>\n",
       "<table border=\"1\" class=\"dataframe\">\n",
       "  <thead>\n",
       "    <tr style=\"text-align: right;\">\n",
       "      <th></th>\n",
       "      <th>범죄명</th>\n",
       "    </tr>\n",
       "  </thead>\n",
       "  <tbody>\n",
       "    <tr>\n",
       "      <th>count</th>\n",
       "      <td>374</td>\n",
       "    </tr>\n",
       "    <tr>\n",
       "      <th>unique</th>\n",
       "      <td>39</td>\n",
       "    </tr>\n",
       "    <tr>\n",
       "      <th>top</th>\n",
       "      <td>손괴</td>\n",
       "    </tr>\n",
       "    <tr>\n",
       "      <th>freq</th>\n",
       "      <td>10</td>\n",
       "    </tr>\n",
       "  </tbody>\n",
       "</table>\n",
       "</div>"
      ],
      "text/plain": [
       "        범죄명\n",
       "count   374\n",
       "unique   39\n",
       "top      손괴\n",
       "freq     10"
      ]
     },
     "execution_count": 79,
     "metadata": {},
     "output_type": "execute_result"
    }
   ],
   "source": [
    "df.describe(include='object')"
   ]
  },
  {
   "cell_type": "code",
   "execution_count": 80,
   "metadata": {},
   "outputs": [
    {
     "data": {
      "text/plain": [
       "연도        0\n",
       "범죄명       0\n",
       "자백발생횟수    0\n",
       "재범발생횟수    0\n",
       "공범자수      0\n",
       "마약소지      0\n",
       "dtype: int64"
      ]
     },
     "execution_count": 80,
     "metadata": {},
     "output_type": "execute_result"
    }
   ],
   "source": [
    "df.isnull().sum()"
   ]
  },
  {
   "cell_type": "code",
   "execution_count": 82,
   "metadata": {},
   "outputs": [
    {
     "data": {
      "text/plain": [
       "0"
      ]
     },
     "execution_count": 82,
     "metadata": {},
     "output_type": "execute_result"
    }
   ],
   "source": [
    "df.duplicated().sum()"
   ]
  },
  {
   "cell_type": "code",
   "execution_count": 83,
   "metadata": {},
   "outputs": [
    {
     "data": {
      "text/plain": [
       "손괴             10\n",
       "체포·감금          10\n",
       "약취·유인          10\n",
       "유가증권인지         10\n",
       "절도범죄           10\n",
       "증수뢰            10\n",
       "직권남용           10\n",
       "직무유기           10\n",
       "통화             10\n",
       "강도             10\n",
       "특별경제범죄         10\n",
       "폭력행위등          10\n",
       "폭행             10\n",
       "협박             10\n",
       "환경범죄           10\n",
       "횡령             10\n",
       "안보범죄           10\n",
       "성풍속범죄          10\n",
       "방화             10\n",
       "공갈             10\n",
       "상해             10\n",
       "살인미수등          10\n",
       "살인기수           10\n",
       "사기             10\n",
       "보건범죄           10\n",
       "병역범죄           10\n",
       "배임             10\n",
       "선거범죄           10\n",
       "문서·인장          10\n",
       "마약범죄           10\n",
       "도박범죄           10\n",
       "노동범죄           10\n",
       "기타범죄           10\n",
       "교통범죄           10\n",
       "강제추행            8\n",
       "기타 강간·강제추행등     8\n",
       "유사강간            8\n",
       "강간              8\n",
       "강간·강제추행         2\n",
       "Name: 범죄명, dtype: int64"
      ]
     },
     "execution_count": 83,
     "metadata": {},
     "output_type": "execute_result"
    }
   ],
   "source": [
    "df['범죄명'].value_counts()"
   ]
  },
  {
   "cell_type": "code",
   "execution_count": 5,
   "metadata": {},
   "outputs": [
    {
     "data": {
      "text/html": [
       "<style type=\"text/css\">\n",
       "#T_cd386_row0_col0, #T_cd386_row1_col1, #T_cd386_row2_col2, #T_cd386_row3_col3, #T_cd386_row4_col4 {\n",
       "  background-color: #b40426;\n",
       "  color: #f1f1f1;\n",
       "}\n",
       "#T_cd386_row0_col1, #T_cd386_row0_col2, #T_cd386_row1_col4, #T_cd386_row2_col0, #T_cd386_row2_col4, #T_cd386_row4_col3 {\n",
       "  background-color: #3b4cc0;\n",
       "  color: #f1f1f1;\n",
       "}\n",
       "#T_cd386_row0_col3, #T_cd386_row3_col4 {\n",
       "  background-color: #3f53c6;\n",
       "  color: #f1f1f1;\n",
       "}\n",
       "#T_cd386_row0_col4 {\n",
       "  background-color: #4961d2;\n",
       "  color: #f1f1f1;\n",
       "}\n",
       "#T_cd386_row1_col0 {\n",
       "  background-color: #3e51c5;\n",
       "  color: #f1f1f1;\n",
       "}\n",
       "#T_cd386_row1_col2, #T_cd386_row2_col1 {\n",
       "  background-color: #b70d28;\n",
       "  color: #f1f1f1;\n",
       "}\n",
       "#T_cd386_row1_col3 {\n",
       "  background-color: #cfdaea;\n",
       "  color: #000000;\n",
       "}\n",
       "#T_cd386_row2_col3 {\n",
       "  background-color: #d4dbe6;\n",
       "  color: #000000;\n",
       "}\n",
       "#T_cd386_row3_col0 {\n",
       "  background-color: #4a63d3;\n",
       "  color: #f1f1f1;\n",
       "}\n",
       "#T_cd386_row3_col1 {\n",
       "  background-color: #d3dbe7;\n",
       "  color: #000000;\n",
       "}\n",
       "#T_cd386_row3_col2 {\n",
       "  background-color: #d9dce1;\n",
       "  color: #000000;\n",
       "}\n",
       "#T_cd386_row4_col0 {\n",
       "  background-color: #4f69d9;\n",
       "  color: #f1f1f1;\n",
       "}\n",
       "#T_cd386_row4_col1 {\n",
       "  background-color: #3c4ec2;\n",
       "  color: #f1f1f1;\n",
       "}\n",
       "#T_cd386_row4_col2 {\n",
       "  background-color: #4055c8;\n",
       "  color: #f1f1f1;\n",
       "}\n",
       "</style>\n",
       "<table id=\"T_cd386\">\n",
       "  <thead>\n",
       "    <tr>\n",
       "      <th class=\"blank level0\" >&nbsp;</th>\n",
       "      <th id=\"T_cd386_level0_col0\" class=\"col_heading level0 col0\" >연도</th>\n",
       "      <th id=\"T_cd386_level0_col1\" class=\"col_heading level0 col1\" >자백발생횟수</th>\n",
       "      <th id=\"T_cd386_level0_col2\" class=\"col_heading level0 col2\" >재범발생횟수</th>\n",
       "      <th id=\"T_cd386_level0_col3\" class=\"col_heading level0 col3\" >공범자수</th>\n",
       "      <th id=\"T_cd386_level0_col4\" class=\"col_heading level0 col4\" >마약소지</th>\n",
       "    </tr>\n",
       "  </thead>\n",
       "  <tbody>\n",
       "    <tr>\n",
       "      <th id=\"T_cd386_level0_row0\" class=\"row_heading level0 row0\" >연도</th>\n",
       "      <td id=\"T_cd386_row0_col0\" class=\"data row0 col0\" >1.000000</td>\n",
       "      <td id=\"T_cd386_row0_col1\" class=\"data row0 col1\" >-0.033366</td>\n",
       "      <td id=\"T_cd386_row0_col2\" class=\"data row0 col2\" >-0.047155</td>\n",
       "      <td id=\"T_cd386_row0_col3\" class=\"data row0 col3\" >0.009578</td>\n",
       "      <td id=\"T_cd386_row0_col4\" class=\"data row0 col4\" >0.024405</td>\n",
       "    </tr>\n",
       "    <tr>\n",
       "      <th id=\"T_cd386_level0_row1\" class=\"row_heading level0 row1\" >자백발생횟수</th>\n",
       "      <td id=\"T_cd386_row1_col0\" class=\"data row1 col0\" >-0.033366</td>\n",
       "      <td id=\"T_cd386_row1_col1\" class=\"data row1 col1\" >1.000000</td>\n",
       "      <td id=\"T_cd386_row1_col2\" class=\"data row1 col2\" >0.988985</td>\n",
       "      <td id=\"T_cd386_row1_col3\" class=\"data row1 col3\" >0.444950</td>\n",
       "      <td id=\"T_cd386_row1_col4\" class=\"data row1 col4\" >-0.027354</td>\n",
       "    </tr>\n",
       "    <tr>\n",
       "      <th id=\"T_cd386_level0_row2\" class=\"row_heading level0 row2\" >재범발생횟수</th>\n",
       "      <td id=\"T_cd386_row2_col0\" class=\"data row2 col0\" >-0.047155</td>\n",
       "      <td id=\"T_cd386_row2_col1\" class=\"data row2 col1\" >0.988985</td>\n",
       "      <td id=\"T_cd386_row2_col2\" class=\"data row2 col2\" >1.000000</td>\n",
       "      <td id=\"T_cd386_row2_col3\" class=\"data row2 col3\" >0.461358</td>\n",
       "      <td id=\"T_cd386_row2_col4\" class=\"data row2 col4\" >-0.025432</td>\n",
       "    </tr>\n",
       "    <tr>\n",
       "      <th id=\"T_cd386_level0_row3\" class=\"row_heading level0 row3\" >공범자수</th>\n",
       "      <td id=\"T_cd386_row3_col0\" class=\"data row3 col0\" >0.009578</td>\n",
       "      <td id=\"T_cd386_row3_col1\" class=\"data row3 col1\" >0.444950</td>\n",
       "      <td id=\"T_cd386_row3_col2\" class=\"data row3 col2\" >0.461358</td>\n",
       "      <td id=\"T_cd386_row3_col3\" class=\"data row3 col3\" >1.000000</td>\n",
       "      <td id=\"T_cd386_row3_col4\" class=\"data row3 col4\" >-0.009340</td>\n",
       "    </tr>\n",
       "    <tr>\n",
       "      <th id=\"T_cd386_level0_row4\" class=\"row_heading level0 row4\" >마약소지</th>\n",
       "      <td id=\"T_cd386_row4_col0\" class=\"data row4 col0\" >0.024405</td>\n",
       "      <td id=\"T_cd386_row4_col1\" class=\"data row4 col1\" >-0.027354</td>\n",
       "      <td id=\"T_cd386_row4_col2\" class=\"data row4 col2\" >-0.025432</td>\n",
       "      <td id=\"T_cd386_row4_col3\" class=\"data row4 col3\" >-0.009340</td>\n",
       "      <td id=\"T_cd386_row4_col4\" class=\"data row4 col4\" >1.000000</td>\n",
       "    </tr>\n",
       "  </tbody>\n",
       "</table>\n"
      ],
      "text/plain": [
       "<pandas.io.formats.style.Styler at 0x7fdc005439a0>"
      ]
     },
     "execution_count": 5,
     "metadata": {},
     "output_type": "execute_result"
    }
   ],
   "source": [
    "df.corr().style.background_gradient(cmap='coolwarm')"
   ]
  },
  {
   "cell_type": "code",
   "execution_count": 9,
   "metadata": {},
   "outputs": [],
   "source": [
    "import plotly.express as px\n",
    "import plotly.graph_objects as go\n",
    "from plotly.subplots import make_subplots\n"
   ]
  },
  {
   "cell_type": "code",
   "execution_count": 8,
   "metadata": {},
   "outputs": [
    {
     "data": {
      "application/vnd.plotly.v1+json": {
       "config": {
        "plotlyServerURL": "https://plot.ly"
       },
       "data": [
        {
         "alignmentgroup": "True",
         "bingroup": "x",
         "histfunc": "sum",
         "hovertemplate": "범죄명=%{x}<br>sum of 자백발생횟수=%{y}<extra></extra>",
         "legendgroup": "",
         "marker": {
          "color": "#636efa",
          "pattern": {
           "shape": ""
          }
         },
         "name": "",
         "offsetgroup": "",
         "orientation": "v",
         "showlegend": false,
         "type": "histogram",
         "x": [
          "강간·강제추행",
          "강도",
          "공갈",
          "교통범죄",
          "기타범죄",
          "노동범죄",
          "도박범죄",
          "마약범죄",
          "문서·인장",
          "방화",
          "배임",
          "병역범죄",
          "보건범죄",
          "사기",
          "살인기수",
          "살인미수등",
          "상해",
          "선거범죄",
          "성풍속범죄",
          "손괴",
          "안보범죄",
          "약취·유인",
          "유가증권인지",
          "절도범죄",
          "증수뢰",
          "직권남용",
          "직무유기",
          "체포·감금",
          "통화",
          "특별경제범죄",
          "폭력행위등",
          "폭행",
          "협박",
          "환경범죄",
          "횡령",
          "강간·강제추행",
          "강도",
          "공갈",
          "교통범죄",
          "기타범죄",
          "노동범죄",
          "도박범죄",
          "마약범죄",
          "문서·인장",
          "방화",
          "배임",
          "병역범죄",
          "보건범죄",
          "사기",
          "살인기수",
          "살인미수등",
          "상해",
          "선거범죄",
          "성풍속범죄",
          "손괴",
          "안보범죄",
          "약취·유인",
          "유가증권인지",
          "절도범죄",
          "증수뢰",
          "직권남용",
          "직무유기",
          "체포·감금",
          "통화",
          "특별경제범죄",
          "폭력행위등",
          "폭행",
          "협박",
          "환경범죄",
          "횡령",
          "강간",
          "강도",
          "강제추행",
          "공갈",
          "교통범죄",
          "기타 강간·강제추행등",
          "기타범죄",
          "노동범죄",
          "도박범죄",
          "마약범죄",
          "문서·인장",
          "방화",
          "배임",
          "병역범죄",
          "보건범죄",
          "사기",
          "살인기수",
          "살인미수등",
          "상해",
          "선거범죄",
          "성풍속범죄",
          "손괴",
          "안보범죄",
          "약취·유인",
          "유가증권인지",
          "유사강간",
          "절도범죄",
          "증수뢰",
          "직권남용",
          "직무유기",
          "체포·감금",
          "통화",
          "특별경제범죄",
          "폭력행위등",
          "폭행",
          "협박",
          "환경범죄",
          "횡령",
          "강간",
          "강도",
          "강제추행",
          "공갈",
          "교통범죄",
          "기타 강간·강제추행등",
          "기타범죄",
          "노동범죄",
          "도박범죄",
          "마약범죄",
          "문서·인장",
          "방화",
          "배임",
          "병역범죄",
          "보건범죄",
          "사기",
          "살인기수",
          "살인미수등",
          "상해",
          "선거범죄",
          "성풍속범죄",
          "손괴",
          "안보범죄",
          "약취·유인",
          "유가증권인지",
          "유사강간",
          "절도범죄",
          "증수뢰",
          "직권남용",
          "직무유기",
          "체포·감금",
          "통화",
          "특별경제범죄",
          "폭력행위등",
          "폭행",
          "협박",
          "환경범죄",
          "횡령",
          "강간",
          "강도",
          "강제추행",
          "공갈",
          "교통범죄",
          "기타 강간·강제추행등",
          "기타범죄",
          "노동범죄",
          "도박범죄",
          "마약범죄",
          "문서·인장",
          "방화",
          "배임",
          "병역범죄",
          "보건범죄",
          "사기",
          "살인기수",
          "살인미수등",
          "상해",
          "선거범죄",
          "성풍속범죄",
          "손괴",
          "안보범죄",
          "약취·유인",
          "유가증권인지",
          "유사강간",
          "절도범죄",
          "증수뢰",
          "직권남용",
          "직무유기",
          "체포·감금",
          "통화",
          "특별경제범죄",
          "폭력행위등",
          "폭행",
          "협박",
          "환경범죄",
          "횡령",
          "강간",
          "강도",
          "강제추행",
          "공갈",
          "교통범죄",
          "기타 강간·강제추행등",
          "기타범죄",
          "노동범죄",
          "도박범죄",
          "마약범죄",
          "문서·인장",
          "방화",
          "배임",
          "병역범죄",
          "보건범죄",
          "사기",
          "살인기수",
          "살인미수등",
          "상해",
          "선거범죄",
          "성풍속범죄",
          "손괴",
          "안보범죄",
          "약취·유인",
          "유가증권인지",
          "유사강간",
          "절도범죄",
          "증수뢰",
          "직권남용",
          "직무유기",
          "체포·감금",
          "통화",
          "특별경제범죄",
          "폭력행위등",
          "폭행",
          "협박",
          "환경범죄",
          "횡령",
          "강간",
          "강도",
          "강제추행",
          "공갈",
          "교통범죄",
          "기타 강간·강제추행등",
          "기타범죄",
          "노동범죄",
          "도박범죄",
          "마약범죄",
          "문서·인장",
          "방화",
          "배임",
          "병역범죄",
          "보건범죄",
          "사기",
          "살인기수",
          "살인미수등",
          "상해",
          "선거범죄",
          "성풍속범죄",
          "손괴",
          "안보범죄",
          "약취·유인",
          "유가증권인지",
          "유사강간",
          "절도범죄",
          "증수뢰",
          "직권남용",
          "직무유기",
          "체포·감금",
          "통화",
          "특별경제범죄",
          "폭력행위등",
          "폭행",
          "협박",
          "환경범죄",
          "횡령",
          "강간",
          "강도",
          "강제추행",
          "공갈",
          "교통범죄",
          "기타 강간·강제추행등",
          "기타범죄",
          "노동범죄",
          "도박범죄",
          "마약범죄",
          "문서·인장",
          "방화",
          "배임",
          "병역범죄",
          "보건범죄",
          "사기",
          "살인기수",
          "살인미수등",
          "상해",
          "선거범죄",
          "성풍속범죄",
          "손괴",
          "안보범죄",
          "약취·유인",
          "유가증권인지",
          "유사강간",
          "절도범죄",
          "증수뢰",
          "직권남용",
          "직무유기",
          "체포·감금",
          "통화",
          "특별경제범죄",
          "폭력행위등",
          "폭행",
          "협박",
          "환경범죄",
          "횡령",
          "강간",
          "강도",
          "강제추행",
          "공갈",
          "교통범죄",
          "기타 강간·강제추행등",
          "기타범죄",
          "노동범죄",
          "도박범죄",
          "마약범죄",
          "문서·인장",
          "방화",
          "배임",
          "병역범죄",
          "보건범죄",
          "사기",
          "살인기수",
          "살인미수등",
          "상해",
          "선거범죄",
          "성풍속범죄",
          "손괴",
          "안보범죄",
          "약취·유인",
          "유가증권인지",
          "유사강간",
          "절도범죄",
          "증수뢰",
          "직권남용",
          "직무유기",
          "체포·감금",
          "통화",
          "특별경제범죄",
          "폭력행위등",
          "폭행",
          "협박",
          "환경범죄",
          "횡령",
          "강간",
          "강도",
          "강제추행",
          "공갈",
          "교통범죄",
          "기타 강간·강제추행등",
          "기타범죄",
          "노동범죄",
          "도박범죄",
          "마약범죄",
          "문서·인장",
          "방화",
          "배임",
          "병역범죄",
          "보건범죄",
          "사기",
          "살인기수",
          "살인미수등",
          "상해",
          "선거범죄",
          "성풍속범죄",
          "손괴",
          "안보범죄",
          "약취·유인",
          "유가증권인지",
          "유사강간",
          "절도범죄",
          "증수뢰",
          "직권남용",
          "직무유기",
          "체포·감금",
          "통화",
          "특별경제범죄",
          "폭력행위등",
          "폭행",
          "협박",
          "환경범죄",
          "횡령"
         ],
         "xaxis": "x",
         "y": [
          17652,
          4890,
          3786,
          524350,
          224781,
          2641,
          46174,
          5409,
          22105,
          1519,
          7860,
          22752,
          20445,
          264634,
          449,
          836,
          89138,
          400,
          15209,
          28749,
          160,
          340,
          1025,
          111390,
          1239,
          357,
          669,
          969,
          121,
          91622,
          103423,
          161782,
          3855,
          3113,
          31389,
          18012,
          3322,
          5455,
          512076,
          208432,
          2378,
          34584,
          4731,
          19479,
          1399,
          7510,
          18359,
          19531,
          220887,
          446,
          610,
          84850,
          1855,
          16321,
          29631,
          126,
          270,
          633,
          104434,
          832,
          409,
          823,
          1113,
          163,
          93427,
          106256,
          167975,
          4732,
          3247,
          29507,
          5856,
          2593,
          12496,
          3189,
          536756,
          1887,
          213524,
          2309,
          29326,
          5049,
          20406,
          1386,
          8425,
          23200,
          23046,
          239309,
          377,
          620,
          75206,
          409,
          18688,
          29295,
          152,
          260,
          548,
          136,
          102658,
          855,
          523,
          802,
          1086,
          434,
          83308,
          89858,
          166337,
          4682,
          3588,
          32723,
          5517,
          2078,
          13400,
          3674,
          533126,
          1193,
          230854,
          2131,
          27749,
          5264,
          19460,
          1466,
          9361,
          18523,
          22085,
          222173,
          447,
          575,
          66885,
          2800,
          13945,
          29907,
          90,
          252,
          552,
          389,
          95645,
          848,
          595,
          801,
          1118,
          334,
          87648,
          80113,
          171166,
          5160,
          3136,
          31975,
          5621,
          1999,
          14488,
          2930,
          549374,
          686,
          241747,
          2395,
          29166,
          6913,
          19022,
          1517,
          8233,
          18241,
          20721,
          228205,
          389,
          586,
          62059,
          1121,
          11917,
          31749,
          174,
          252,
          399,
          535,
          103166,
          842,
          587,
          860,
          1226,
          286,
          90356,
          73002,
          192308,
          9197,
          3176,
          35945,
          5829,
          1716,
          16016,
          3638,
          555352,
          521,
          310870,
          5860,
          33942,
          8443,
          18024,
          1396,
          7608,
          15659,
          21649,
          223210,
          379,
          616,
          65695,
          1525,
          11207,
          34995,
          151,
          305,
          373,
          598,
          106415,
          788,
          577,
          642,
          1687,
          220,
          77669,
          40963,
          216857,
          16825,
          3802,
          35583,
          5943,
          1456,
          18272,
          3573,
          484552,
          371,
          272830,
          4964,
          23735,
          8512,
          15918,
          1286,
          7806,
          14574,
          19130,
          208482,
          344,
          561,
          58851,
          787,
          12046,
          34900,
          251,
          285,
          330,
          694,
          105695,
          1128,
          679,
          663,
          1911,
          531,
          72452,
          36647,
          210745,
          16599,
          4378,
          33580,
          5947,
          1165,
          17631,
          3521,
          413147,
          458,
          247023,
          2073,
          19470,
          7677,
          15576,
          1387,
          8209,
          13254,
          16965,
          229854,
          350,
          516,
          52867,
          3280,
          12713,
          35690,
          187,
          260,
          295,
          848,
          97334,
          1131,
          811,
          713,
          1608,
          255,
          75348,
          31885,
          204801,
          18337,
          4066,
          35270,
          6138,
          1336,
          17892,
          3552,
          383717,
          495,
          256000,
          865,
          21306,
          9875,
          16253,
          1317,
          8151,
          11809,
          18024,
          246160,
          345,
          525,
          48854,
          1180,
          12473,
          38438,
          545,
          351,
          208,
          895,
          101295,
          942,
          974,
          788,
          1654,
          143,
          79175,
          28625,
          202710,
          22377,
          5088,
          35163,
          6113,
          1202,
          16382,
          3434,
          356446,
          349,
          244539,
          613,
          21125,
          11630,
          15465,
          1196,
          8324,
          3164,
          21810,
          245009,
          341,
          454,
          43552,
          1545,
          13546,
          38716,
          678,
          296,
          117,
          934,
          98425,
          807,
          1021,
          947,
          1695,
          86,
          67904,
          25342,
          178448,
          22507,
          4329,
          35930
         ],
         "yaxis": "y"
        }
       ],
       "layout": {
        "barmode": "relative",
        "legend": {
         "tracegroupgap": 0
        },
        "margin": {
         "t": 60
        },
        "template": {
         "data": {
          "bar": [
           {
            "error_x": {
             "color": "#2a3f5f"
            },
            "error_y": {
             "color": "#2a3f5f"
            },
            "marker": {
             "line": {
              "color": "#E5ECF6",
              "width": 0.5
             },
             "pattern": {
              "fillmode": "overlay",
              "size": 10,
              "solidity": 0.2
             }
            },
            "type": "bar"
           }
          ],
          "barpolar": [
           {
            "marker": {
             "line": {
              "color": "#E5ECF6",
              "width": 0.5
             },
             "pattern": {
              "fillmode": "overlay",
              "size": 10,
              "solidity": 0.2
             }
            },
            "type": "barpolar"
           }
          ],
          "carpet": [
           {
            "aaxis": {
             "endlinecolor": "#2a3f5f",
             "gridcolor": "white",
             "linecolor": "white",
             "minorgridcolor": "white",
             "startlinecolor": "#2a3f5f"
            },
            "baxis": {
             "endlinecolor": "#2a3f5f",
             "gridcolor": "white",
             "linecolor": "white",
             "minorgridcolor": "white",
             "startlinecolor": "#2a3f5f"
            },
            "type": "carpet"
           }
          ],
          "choropleth": [
           {
            "colorbar": {
             "outlinewidth": 0,
             "ticks": ""
            },
            "type": "choropleth"
           }
          ],
          "contour": [
           {
            "colorbar": {
             "outlinewidth": 0,
             "ticks": ""
            },
            "colorscale": [
             [
              0,
              "#0d0887"
             ],
             [
              0.1111111111111111,
              "#46039f"
             ],
             [
              0.2222222222222222,
              "#7201a8"
             ],
             [
              0.3333333333333333,
              "#9c179e"
             ],
             [
              0.4444444444444444,
              "#bd3786"
             ],
             [
              0.5555555555555556,
              "#d8576b"
             ],
             [
              0.6666666666666666,
              "#ed7953"
             ],
             [
              0.7777777777777778,
              "#fb9f3a"
             ],
             [
              0.8888888888888888,
              "#fdca26"
             ],
             [
              1,
              "#f0f921"
             ]
            ],
            "type": "contour"
           }
          ],
          "contourcarpet": [
           {
            "colorbar": {
             "outlinewidth": 0,
             "ticks": ""
            },
            "type": "contourcarpet"
           }
          ],
          "heatmap": [
           {
            "colorbar": {
             "outlinewidth": 0,
             "ticks": ""
            },
            "colorscale": [
             [
              0,
              "#0d0887"
             ],
             [
              0.1111111111111111,
              "#46039f"
             ],
             [
              0.2222222222222222,
              "#7201a8"
             ],
             [
              0.3333333333333333,
              "#9c179e"
             ],
             [
              0.4444444444444444,
              "#bd3786"
             ],
             [
              0.5555555555555556,
              "#d8576b"
             ],
             [
              0.6666666666666666,
              "#ed7953"
             ],
             [
              0.7777777777777778,
              "#fb9f3a"
             ],
             [
              0.8888888888888888,
              "#fdca26"
             ],
             [
              1,
              "#f0f921"
             ]
            ],
            "type": "heatmap"
           }
          ],
          "heatmapgl": [
           {
            "colorbar": {
             "outlinewidth": 0,
             "ticks": ""
            },
            "colorscale": [
             [
              0,
              "#0d0887"
             ],
             [
              0.1111111111111111,
              "#46039f"
             ],
             [
              0.2222222222222222,
              "#7201a8"
             ],
             [
              0.3333333333333333,
              "#9c179e"
             ],
             [
              0.4444444444444444,
              "#bd3786"
             ],
             [
              0.5555555555555556,
              "#d8576b"
             ],
             [
              0.6666666666666666,
              "#ed7953"
             ],
             [
              0.7777777777777778,
              "#fb9f3a"
             ],
             [
              0.8888888888888888,
              "#fdca26"
             ],
             [
              1,
              "#f0f921"
             ]
            ],
            "type": "heatmapgl"
           }
          ],
          "histogram": [
           {
            "marker": {
             "pattern": {
              "fillmode": "overlay",
              "size": 10,
              "solidity": 0.2
             }
            },
            "type": "histogram"
           }
          ],
          "histogram2d": [
           {
            "colorbar": {
             "outlinewidth": 0,
             "ticks": ""
            },
            "colorscale": [
             [
              0,
              "#0d0887"
             ],
             [
              0.1111111111111111,
              "#46039f"
             ],
             [
              0.2222222222222222,
              "#7201a8"
             ],
             [
              0.3333333333333333,
              "#9c179e"
             ],
             [
              0.4444444444444444,
              "#bd3786"
             ],
             [
              0.5555555555555556,
              "#d8576b"
             ],
             [
              0.6666666666666666,
              "#ed7953"
             ],
             [
              0.7777777777777778,
              "#fb9f3a"
             ],
             [
              0.8888888888888888,
              "#fdca26"
             ],
             [
              1,
              "#f0f921"
             ]
            ],
            "type": "histogram2d"
           }
          ],
          "histogram2dcontour": [
           {
            "colorbar": {
             "outlinewidth": 0,
             "ticks": ""
            },
            "colorscale": [
             [
              0,
              "#0d0887"
             ],
             [
              0.1111111111111111,
              "#46039f"
             ],
             [
              0.2222222222222222,
              "#7201a8"
             ],
             [
              0.3333333333333333,
              "#9c179e"
             ],
             [
              0.4444444444444444,
              "#bd3786"
             ],
             [
              0.5555555555555556,
              "#d8576b"
             ],
             [
              0.6666666666666666,
              "#ed7953"
             ],
             [
              0.7777777777777778,
              "#fb9f3a"
             ],
             [
              0.8888888888888888,
              "#fdca26"
             ],
             [
              1,
              "#f0f921"
             ]
            ],
            "type": "histogram2dcontour"
           }
          ],
          "mesh3d": [
           {
            "colorbar": {
             "outlinewidth": 0,
             "ticks": ""
            },
            "type": "mesh3d"
           }
          ],
          "parcoords": [
           {
            "line": {
             "colorbar": {
              "outlinewidth": 0,
              "ticks": ""
             }
            },
            "type": "parcoords"
           }
          ],
          "pie": [
           {
            "automargin": true,
            "type": "pie"
           }
          ],
          "scatter": [
           {
            "fillpattern": {
             "fillmode": "overlay",
             "size": 10,
             "solidity": 0.2
            },
            "type": "scatter"
           }
          ],
          "scatter3d": [
           {
            "line": {
             "colorbar": {
              "outlinewidth": 0,
              "ticks": ""
             }
            },
            "marker": {
             "colorbar": {
              "outlinewidth": 0,
              "ticks": ""
             }
            },
            "type": "scatter3d"
           }
          ],
          "scattercarpet": [
           {
            "marker": {
             "colorbar": {
              "outlinewidth": 0,
              "ticks": ""
             }
            },
            "type": "scattercarpet"
           }
          ],
          "scattergeo": [
           {
            "marker": {
             "colorbar": {
              "outlinewidth": 0,
              "ticks": ""
             }
            },
            "type": "scattergeo"
           }
          ],
          "scattergl": [
           {
            "marker": {
             "colorbar": {
              "outlinewidth": 0,
              "ticks": ""
             }
            },
            "type": "scattergl"
           }
          ],
          "scattermapbox": [
           {
            "marker": {
             "colorbar": {
              "outlinewidth": 0,
              "ticks": ""
             }
            },
            "type": "scattermapbox"
           }
          ],
          "scatterpolar": [
           {
            "marker": {
             "colorbar": {
              "outlinewidth": 0,
              "ticks": ""
             }
            },
            "type": "scatterpolar"
           }
          ],
          "scatterpolargl": [
           {
            "marker": {
             "colorbar": {
              "outlinewidth": 0,
              "ticks": ""
             }
            },
            "type": "scatterpolargl"
           }
          ],
          "scatterternary": [
           {
            "marker": {
             "colorbar": {
              "outlinewidth": 0,
              "ticks": ""
             }
            },
            "type": "scatterternary"
           }
          ],
          "surface": [
           {
            "colorbar": {
             "outlinewidth": 0,
             "ticks": ""
            },
            "colorscale": [
             [
              0,
              "#0d0887"
             ],
             [
              0.1111111111111111,
              "#46039f"
             ],
             [
              0.2222222222222222,
              "#7201a8"
             ],
             [
              0.3333333333333333,
              "#9c179e"
             ],
             [
              0.4444444444444444,
              "#bd3786"
             ],
             [
              0.5555555555555556,
              "#d8576b"
             ],
             [
              0.6666666666666666,
              "#ed7953"
             ],
             [
              0.7777777777777778,
              "#fb9f3a"
             ],
             [
              0.8888888888888888,
              "#fdca26"
             ],
             [
              1,
              "#f0f921"
             ]
            ],
            "type": "surface"
           }
          ],
          "table": [
           {
            "cells": {
             "fill": {
              "color": "#EBF0F8"
             },
             "line": {
              "color": "white"
             }
            },
            "header": {
             "fill": {
              "color": "#C8D4E3"
             },
             "line": {
              "color": "white"
             }
            },
            "type": "table"
           }
          ]
         },
         "layout": {
          "annotationdefaults": {
           "arrowcolor": "#2a3f5f",
           "arrowhead": 0,
           "arrowwidth": 1
          },
          "autotypenumbers": "strict",
          "coloraxis": {
           "colorbar": {
            "outlinewidth": 0,
            "ticks": ""
           }
          },
          "colorscale": {
           "diverging": [
            [
             0,
             "#8e0152"
            ],
            [
             0.1,
             "#c51b7d"
            ],
            [
             0.2,
             "#de77ae"
            ],
            [
             0.3,
             "#f1b6da"
            ],
            [
             0.4,
             "#fde0ef"
            ],
            [
             0.5,
             "#f7f7f7"
            ],
            [
             0.6,
             "#e6f5d0"
            ],
            [
             0.7,
             "#b8e186"
            ],
            [
             0.8,
             "#7fbc41"
            ],
            [
             0.9,
             "#4d9221"
            ],
            [
             1,
             "#276419"
            ]
           ],
           "sequential": [
            [
             0,
             "#0d0887"
            ],
            [
             0.1111111111111111,
             "#46039f"
            ],
            [
             0.2222222222222222,
             "#7201a8"
            ],
            [
             0.3333333333333333,
             "#9c179e"
            ],
            [
             0.4444444444444444,
             "#bd3786"
            ],
            [
             0.5555555555555556,
             "#d8576b"
            ],
            [
             0.6666666666666666,
             "#ed7953"
            ],
            [
             0.7777777777777778,
             "#fb9f3a"
            ],
            [
             0.8888888888888888,
             "#fdca26"
            ],
            [
             1,
             "#f0f921"
            ]
           ],
           "sequentialminus": [
            [
             0,
             "#0d0887"
            ],
            [
             0.1111111111111111,
             "#46039f"
            ],
            [
             0.2222222222222222,
             "#7201a8"
            ],
            [
             0.3333333333333333,
             "#9c179e"
            ],
            [
             0.4444444444444444,
             "#bd3786"
            ],
            [
             0.5555555555555556,
             "#d8576b"
            ],
            [
             0.6666666666666666,
             "#ed7953"
            ],
            [
             0.7777777777777778,
             "#fb9f3a"
            ],
            [
             0.8888888888888888,
             "#fdca26"
            ],
            [
             1,
             "#f0f921"
            ]
           ]
          },
          "colorway": [
           "#636efa",
           "#EF553B",
           "#00cc96",
           "#ab63fa",
           "#FFA15A",
           "#19d3f3",
           "#FF6692",
           "#B6E880",
           "#FF97FF",
           "#FECB52"
          ],
          "font": {
           "color": "#2a3f5f"
          },
          "geo": {
           "bgcolor": "white",
           "lakecolor": "white",
           "landcolor": "#E5ECF6",
           "showlakes": true,
           "showland": true,
           "subunitcolor": "white"
          },
          "hoverlabel": {
           "align": "left"
          },
          "hovermode": "closest",
          "mapbox": {
           "style": "light"
          },
          "paper_bgcolor": "white",
          "plot_bgcolor": "#E5ECF6",
          "polar": {
           "angularaxis": {
            "gridcolor": "white",
            "linecolor": "white",
            "ticks": ""
           },
           "bgcolor": "#E5ECF6",
           "radialaxis": {
            "gridcolor": "white",
            "linecolor": "white",
            "ticks": ""
           }
          },
          "scene": {
           "xaxis": {
            "backgroundcolor": "#E5ECF6",
            "gridcolor": "white",
            "gridwidth": 2,
            "linecolor": "white",
            "showbackground": true,
            "ticks": "",
            "zerolinecolor": "white"
           },
           "yaxis": {
            "backgroundcolor": "#E5ECF6",
            "gridcolor": "white",
            "gridwidth": 2,
            "linecolor": "white",
            "showbackground": true,
            "ticks": "",
            "zerolinecolor": "white"
           },
           "zaxis": {
            "backgroundcolor": "#E5ECF6",
            "gridcolor": "white",
            "gridwidth": 2,
            "linecolor": "white",
            "showbackground": true,
            "ticks": "",
            "zerolinecolor": "white"
           }
          },
          "shapedefaults": {
           "line": {
            "color": "#2a3f5f"
           }
          },
          "ternary": {
           "aaxis": {
            "gridcolor": "white",
            "linecolor": "white",
            "ticks": ""
           },
           "baxis": {
            "gridcolor": "white",
            "linecolor": "white",
            "ticks": ""
           },
           "bgcolor": "#E5ECF6",
           "caxis": {
            "gridcolor": "white",
            "linecolor": "white",
            "ticks": ""
           }
          },
          "title": {
           "x": 0.05
          },
          "xaxis": {
           "automargin": true,
           "gridcolor": "white",
           "linecolor": "white",
           "ticks": "",
           "title": {
            "standoff": 15
           },
           "zerolinecolor": "white",
           "zerolinewidth": 2
          },
          "yaxis": {
           "automargin": true,
           "gridcolor": "white",
           "linecolor": "white",
           "ticks": "",
           "title": {
            "standoff": 15
           },
           "zerolinecolor": "white",
           "zerolinewidth": 2
          }
         }
        },
        "xaxis": {
         "anchor": "y",
         "domain": [
          0,
          1
         ],
         "title": {
          "text": "범죄명"
         }
        },
        "yaxis": {
         "anchor": "x",
         "domain": [
          0,
          1
         ],
         "title": {
          "text": "sum of 자백발생횟수"
         }
        }
       }
      }
     },
     "metadata": {},
     "output_type": "display_data"
    }
   ],
   "source": [
    "px.histogram(df, x='범죄명', y='자백발생횟수')"
   ]
  },
  {
   "cell_type": "code",
   "execution_count": 62,
   "metadata": {},
   "outputs": [
    {
     "data": {
      "application/vnd.plotly.v1+json": {
       "config": {
        "plotlyServerURL": "https://plot.ly"
       },
       "data": [
        {
         "alignmentgroup": "True",
         "bingroup": "x",
         "histfunc": "avg",
         "hovertemplate": "variable=자백발생횟수<br>범죄명=%{x}<br>avg of value=%{y}<extra></extra>",
         "legendgroup": "자백발생횟수",
         "marker": {
          "color": "#636efa",
          "pattern": {
           "shape": ""
          }
         },
         "name": "자백발생횟수",
         "offsetgroup": "자백발생횟수",
         "orientation": "v",
         "showlegend": true,
         "type": "histogram",
         "x": [
          "강간·강제추행",
          "강도",
          "공갈",
          "교통범죄",
          "기타범죄",
          "노동범죄",
          "도박범죄",
          "마약범죄",
          "문서·인장",
          "방화",
          "배임",
          "병역범죄",
          "보건범죄",
          "사기",
          "살인기수",
          "살인미수등",
          "상해",
          "선거범죄",
          "성풍속범죄",
          "손괴",
          "안보범죄",
          "약취·유인",
          "유가증권인지",
          "절도범죄",
          "증수뢰",
          "직권남용",
          "직무유기",
          "체포·감금",
          "통화",
          "특별경제범죄",
          "폭력행위등",
          "폭행",
          "협박",
          "환경범죄",
          "횡령",
          "강간·강제추행",
          "강도",
          "공갈",
          "교통범죄",
          "기타범죄",
          "노동범죄",
          "도박범죄",
          "마약범죄",
          "문서·인장",
          "방화",
          "배임",
          "병역범죄",
          "보건범죄",
          "사기",
          "살인기수",
          "살인미수등",
          "상해",
          "선거범죄",
          "성풍속범죄",
          "손괴",
          "안보범죄",
          "약취·유인",
          "유가증권인지",
          "절도범죄",
          "증수뢰",
          "직권남용",
          "직무유기",
          "체포·감금",
          "통화",
          "특별경제범죄",
          "폭력행위등",
          "폭행",
          "협박",
          "환경범죄",
          "횡령",
          "강간",
          "강도",
          "강제추행",
          "공갈",
          "교통범죄",
          "기타 강간·강제추행등",
          "기타범죄",
          "노동범죄",
          "도박범죄",
          "마약범죄",
          "문서·인장",
          "방화",
          "배임",
          "병역범죄",
          "보건범죄",
          "사기",
          "살인기수",
          "살인미수등",
          "상해",
          "선거범죄",
          "성풍속범죄",
          "손괴",
          "안보범죄",
          "약취·유인",
          "유가증권인지",
          "유사강간",
          "절도범죄",
          "증수뢰",
          "직권남용",
          "직무유기",
          "체포·감금",
          "통화",
          "특별경제범죄",
          "폭력행위등",
          "폭행",
          "협박",
          "환경범죄",
          "횡령",
          "강간",
          "강도",
          "강제추행",
          "공갈",
          "교통범죄",
          "기타 강간·강제추행등",
          "기타범죄",
          "노동범죄",
          "도박범죄",
          "마약범죄",
          "문서·인장",
          "방화",
          "배임",
          "병역범죄",
          "보건범죄",
          "사기",
          "살인기수",
          "살인미수등",
          "상해",
          "선거범죄",
          "성풍속범죄",
          "손괴",
          "안보범죄",
          "약취·유인",
          "유가증권인지",
          "유사강간",
          "절도범죄",
          "증수뢰",
          "직권남용",
          "직무유기",
          "체포·감금",
          "통화",
          "특별경제범죄",
          "폭력행위등",
          "폭행",
          "협박",
          "환경범죄",
          "횡령",
          "강간",
          "강도",
          "강제추행",
          "공갈",
          "교통범죄",
          "기타 강간·강제추행등",
          "기타범죄",
          "노동범죄",
          "도박범죄",
          "마약범죄",
          "문서·인장",
          "방화",
          "배임",
          "병역범죄",
          "보건범죄",
          "사기",
          "살인기수",
          "살인미수등",
          "상해",
          "선거범죄",
          "성풍속범죄",
          "손괴",
          "안보범죄",
          "약취·유인",
          "유가증권인지",
          "유사강간",
          "절도범죄",
          "증수뢰",
          "직권남용",
          "직무유기",
          "체포·감금",
          "통화",
          "특별경제범죄",
          "폭력행위등",
          "폭행",
          "협박",
          "환경범죄",
          "횡령",
          "강간",
          "강도",
          "강제추행",
          "공갈",
          "교통범죄",
          "기타 강간·강제추행등",
          "기타범죄",
          "노동범죄",
          "도박범죄",
          "마약범죄",
          "문서·인장",
          "방화",
          "배임",
          "병역범죄",
          "보건범죄",
          "사기",
          "살인기수",
          "살인미수등",
          "상해",
          "선거범죄",
          "성풍속범죄",
          "손괴",
          "안보범죄",
          "약취·유인",
          "유가증권인지",
          "유사강간",
          "절도범죄",
          "증수뢰",
          "직권남용",
          "직무유기",
          "체포·감금",
          "통화",
          "특별경제범죄",
          "폭력행위등",
          "폭행",
          "협박",
          "환경범죄",
          "횡령",
          "강간",
          "강도",
          "강제추행",
          "공갈",
          "교통범죄",
          "기타 강간·강제추행등",
          "기타범죄",
          "노동범죄",
          "도박범죄",
          "마약범죄",
          "문서·인장",
          "방화",
          "배임",
          "병역범죄",
          "보건범죄",
          "사기",
          "살인기수",
          "살인미수등",
          "상해",
          "선거범죄",
          "성풍속범죄",
          "손괴",
          "안보범죄",
          "약취·유인",
          "유가증권인지",
          "유사강간",
          "절도범죄",
          "증수뢰",
          "직권남용",
          "직무유기",
          "체포·감금",
          "통화",
          "특별경제범죄",
          "폭력행위등",
          "폭행",
          "협박",
          "환경범죄",
          "횡령",
          "강간",
          "강도",
          "강제추행",
          "공갈",
          "교통범죄",
          "기타 강간·강제추행등",
          "기타범죄",
          "노동범죄",
          "도박범죄",
          "마약범죄",
          "문서·인장",
          "방화",
          "배임",
          "병역범죄",
          "보건범죄",
          "사기",
          "살인기수",
          "살인미수등",
          "상해",
          "선거범죄",
          "성풍속범죄",
          "손괴",
          "안보범죄",
          "약취·유인",
          "유가증권인지",
          "유사강간",
          "절도범죄",
          "증수뢰",
          "직권남용",
          "직무유기",
          "체포·감금",
          "통화",
          "특별경제범죄",
          "폭력행위등",
          "폭행",
          "협박",
          "환경범죄",
          "횡령",
          "강간",
          "강도",
          "강제추행",
          "공갈",
          "교통범죄",
          "기타 강간·강제추행등",
          "기타범죄",
          "노동범죄",
          "도박범죄",
          "마약범죄",
          "문서·인장",
          "방화",
          "배임",
          "병역범죄",
          "보건범죄",
          "사기",
          "살인기수",
          "살인미수등",
          "상해",
          "선거범죄",
          "성풍속범죄",
          "손괴",
          "안보범죄",
          "약취·유인",
          "유가증권인지",
          "유사강간",
          "절도범죄",
          "증수뢰",
          "직권남용",
          "직무유기",
          "체포·감금",
          "통화",
          "특별경제범죄",
          "폭력행위등",
          "폭행",
          "협박",
          "환경범죄",
          "횡령",
          "강간",
          "강도",
          "강제추행",
          "공갈",
          "교통범죄",
          "기타 강간·강제추행등",
          "기타범죄",
          "노동범죄",
          "도박범죄",
          "마약범죄",
          "문서·인장",
          "방화",
          "배임",
          "병역범죄",
          "보건범죄",
          "사기",
          "살인기수",
          "살인미수등",
          "상해",
          "선거범죄",
          "성풍속범죄",
          "손괴",
          "안보범죄",
          "약취·유인",
          "유가증권인지",
          "유사강간",
          "절도범죄",
          "증수뢰",
          "직권남용",
          "직무유기",
          "체포·감금",
          "통화",
          "특별경제범죄",
          "폭력행위등",
          "폭행",
          "협박",
          "환경범죄",
          "횡령"
         ],
         "xaxis": "x",
         "y": [
          17652,
          4890,
          3786,
          524350,
          224781,
          2641,
          46174,
          5409,
          22105,
          1519,
          7860,
          22752,
          20445,
          264634,
          449,
          836,
          89138,
          400,
          15209,
          28749,
          160,
          340,
          1025,
          111390,
          1239,
          357,
          669,
          969,
          121,
          91622,
          103423,
          161782,
          3855,
          3113,
          31389,
          18012,
          3322,
          5455,
          512076,
          208432,
          2378,
          34584,
          4731,
          19479,
          1399,
          7510,
          18359,
          19531,
          220887,
          446,
          610,
          84850,
          1855,
          16321,
          29631,
          126,
          270,
          633,
          104434,
          832,
          409,
          823,
          1113,
          163,
          93427,
          106256,
          167975,
          4732,
          3247,
          29507,
          5856,
          2593,
          12496,
          3189,
          536756,
          1887,
          213524,
          2309,
          29326,
          5049,
          20406,
          1386,
          8425,
          23200,
          23046,
          239309,
          377,
          620,
          75206,
          409,
          18688,
          29295,
          152,
          260,
          548,
          136,
          102658,
          855,
          523,
          802,
          1086,
          434,
          83308,
          89858,
          166337,
          4682,
          3588,
          32723,
          5517,
          2078,
          13400,
          3674,
          533126,
          1193,
          230854,
          2131,
          27749,
          5264,
          19460,
          1466,
          9361,
          18523,
          22085,
          222173,
          447,
          575,
          66885,
          2800,
          13945,
          29907,
          90,
          252,
          552,
          389,
          95645,
          848,
          595,
          801,
          1118,
          334,
          87648,
          80113,
          171166,
          5160,
          3136,
          31975,
          5621,
          1999,
          14488,
          2930,
          549374,
          686,
          241747,
          2395,
          29166,
          6913,
          19022,
          1517,
          8233,
          18241,
          20721,
          228205,
          389,
          586,
          62059,
          1121,
          11917,
          31749,
          174,
          252,
          399,
          535,
          103166,
          842,
          587,
          860,
          1226,
          286,
          90356,
          73002,
          192308,
          9197,
          3176,
          35945,
          5829,
          1716,
          16016,
          3638,
          555352,
          521,
          310870,
          5860,
          33942,
          8443,
          18024,
          1396,
          7608,
          15659,
          21649,
          223210,
          379,
          616,
          65695,
          1525,
          11207,
          34995,
          151,
          305,
          373,
          598,
          106415,
          788,
          577,
          642,
          1687,
          220,
          77669,
          40963,
          216857,
          16825,
          3802,
          35583,
          5943,
          1456,
          18272,
          3573,
          484552,
          371,
          272830,
          4964,
          23735,
          8512,
          15918,
          1286,
          7806,
          14574,
          19130,
          208482,
          344,
          561,
          58851,
          787,
          12046,
          34900,
          251,
          285,
          330,
          694,
          105695,
          1128,
          679,
          663,
          1911,
          531,
          72452,
          36647,
          210745,
          16599,
          4378,
          33580,
          5947,
          1165,
          17631,
          3521,
          413147,
          458,
          247023,
          2073,
          19470,
          7677,
          15576,
          1387,
          8209,
          13254,
          16965,
          229854,
          350,
          516,
          52867,
          3280,
          12713,
          35690,
          187,
          260,
          295,
          848,
          97334,
          1131,
          811,
          713,
          1608,
          255,
          75348,
          31885,
          204801,
          18337,
          4066,
          35270,
          6138,
          1336,
          17892,
          3552,
          383717,
          495,
          256000,
          865,
          21306,
          9875,
          16253,
          1317,
          8151,
          11809,
          18024,
          246160,
          345,
          525,
          48854,
          1180,
          12473,
          38438,
          545,
          351,
          208,
          895,
          101295,
          942,
          974,
          788,
          1654,
          143,
          79175,
          28625,
          202710,
          22377,
          5088,
          35163,
          6113,
          1202,
          16382,
          3434,
          356446,
          349,
          244539,
          613,
          21125,
          11630,
          15465,
          1196,
          8324,
          3164,
          21810,
          245009,
          341,
          454,
          43552,
          1545,
          13546,
          38716,
          678,
          296,
          117,
          934,
          98425,
          807,
          1021,
          947,
          1695,
          86,
          67904,
          25342,
          178448,
          22507,
          4329,
          35930
         ],
         "yaxis": "y"
        },
        {
         "alignmentgroup": "True",
         "bingroup": "x",
         "histfunc": "avg",
         "hovertemplate": "variable=재범발생횟수<br>범죄명=%{x}<br>avg of value=%{y}<extra></extra>",
         "legendgroup": "재범발생횟수",
         "marker": {
          "color": "#EF553B",
          "pattern": {
           "shape": ""
          }
         },
         "name": "재범발생횟수",
         "offsetgroup": "재범발생횟수",
         "orientation": "v",
         "showlegend": true,
         "type": "histogram",
         "x": [
          "강간·강제추행",
          "강도",
          "공갈",
          "교통범죄",
          "기타범죄",
          "노동범죄",
          "도박범죄",
          "마약범죄",
          "문서·인장",
          "방화",
          "배임",
          "병역범죄",
          "보건범죄",
          "사기",
          "살인기수",
          "살인미수등",
          "상해",
          "선거범죄",
          "성풍속범죄",
          "손괴",
          "안보범죄",
          "약취·유인",
          "유가증권인지",
          "절도범죄",
          "증수뢰",
          "직권남용",
          "직무유기",
          "체포·감금",
          "통화",
          "특별경제범죄",
          "폭력행위등",
          "폭행",
          "협박",
          "환경범죄",
          "횡령",
          "강간·강제추행",
          "강도",
          "공갈",
          "교통범죄",
          "기타범죄",
          "노동범죄",
          "도박범죄",
          "마약범죄",
          "문서·인장",
          "방화",
          "배임",
          "병역범죄",
          "보건범죄",
          "사기",
          "살인기수",
          "살인미수등",
          "상해",
          "선거범죄",
          "성풍속범죄",
          "손괴",
          "안보범죄",
          "약취·유인",
          "유가증권인지",
          "절도범죄",
          "증수뢰",
          "직권남용",
          "직무유기",
          "체포·감금",
          "통화",
          "특별경제범죄",
          "폭력행위등",
          "폭행",
          "협박",
          "환경범죄",
          "횡령",
          "강간",
          "강도",
          "강제추행",
          "공갈",
          "교통범죄",
          "기타 강간·강제추행등",
          "기타범죄",
          "노동범죄",
          "도박범죄",
          "마약범죄",
          "문서·인장",
          "방화",
          "배임",
          "병역범죄",
          "보건범죄",
          "사기",
          "살인기수",
          "살인미수등",
          "상해",
          "선거범죄",
          "성풍속범죄",
          "손괴",
          "안보범죄",
          "약취·유인",
          "유가증권인지",
          "유사강간",
          "절도범죄",
          "증수뢰",
          "직권남용",
          "직무유기",
          "체포·감금",
          "통화",
          "특별경제범죄",
          "폭력행위등",
          "폭행",
          "협박",
          "환경범죄",
          "횡령",
          "강간",
          "강도",
          "강제추행",
          "공갈",
          "교통범죄",
          "기타 강간·강제추행등",
          "기타범죄",
          "노동범죄",
          "도박범죄",
          "마약범죄",
          "문서·인장",
          "방화",
          "배임",
          "병역범죄",
          "보건범죄",
          "사기",
          "살인기수",
          "살인미수등",
          "상해",
          "선거범죄",
          "성풍속범죄",
          "손괴",
          "안보범죄",
          "약취·유인",
          "유가증권인지",
          "유사강간",
          "절도범죄",
          "증수뢰",
          "직권남용",
          "직무유기",
          "체포·감금",
          "통화",
          "특별경제범죄",
          "폭력행위등",
          "폭행",
          "협박",
          "환경범죄",
          "횡령",
          "강간",
          "강도",
          "강제추행",
          "공갈",
          "교통범죄",
          "기타 강간·강제추행등",
          "기타범죄",
          "노동범죄",
          "도박범죄",
          "마약범죄",
          "문서·인장",
          "방화",
          "배임",
          "병역범죄",
          "보건범죄",
          "사기",
          "살인기수",
          "살인미수등",
          "상해",
          "선거범죄",
          "성풍속범죄",
          "손괴",
          "안보범죄",
          "약취·유인",
          "유가증권인지",
          "유사강간",
          "절도범죄",
          "증수뢰",
          "직권남용",
          "직무유기",
          "체포·감금",
          "통화",
          "특별경제범죄",
          "폭력행위등",
          "폭행",
          "협박",
          "환경범죄",
          "횡령",
          "강간",
          "강도",
          "강제추행",
          "공갈",
          "교통범죄",
          "기타 강간·강제추행등",
          "기타범죄",
          "노동범죄",
          "도박범죄",
          "마약범죄",
          "문서·인장",
          "방화",
          "배임",
          "병역범죄",
          "보건범죄",
          "사기",
          "살인기수",
          "살인미수등",
          "상해",
          "선거범죄",
          "성풍속범죄",
          "손괴",
          "안보범죄",
          "약취·유인",
          "유가증권인지",
          "유사강간",
          "절도범죄",
          "증수뢰",
          "직권남용",
          "직무유기",
          "체포·감금",
          "통화",
          "특별경제범죄",
          "폭력행위등",
          "폭행",
          "협박",
          "환경범죄",
          "횡령",
          "강간",
          "강도",
          "강제추행",
          "공갈",
          "교통범죄",
          "기타 강간·강제추행등",
          "기타범죄",
          "노동범죄",
          "도박범죄",
          "마약범죄",
          "문서·인장",
          "방화",
          "배임",
          "병역범죄",
          "보건범죄",
          "사기",
          "살인기수",
          "살인미수등",
          "상해",
          "선거범죄",
          "성풍속범죄",
          "손괴",
          "안보범죄",
          "약취·유인",
          "유가증권인지",
          "유사강간",
          "절도범죄",
          "증수뢰",
          "직권남용",
          "직무유기",
          "체포·감금",
          "통화",
          "특별경제범죄",
          "폭력행위등",
          "폭행",
          "협박",
          "환경범죄",
          "횡령",
          "강간",
          "강도",
          "강제추행",
          "공갈",
          "교통범죄",
          "기타 강간·강제추행등",
          "기타범죄",
          "노동범죄",
          "도박범죄",
          "마약범죄",
          "문서·인장",
          "방화",
          "배임",
          "병역범죄",
          "보건범죄",
          "사기",
          "살인기수",
          "살인미수등",
          "상해",
          "선거범죄",
          "성풍속범죄",
          "손괴",
          "안보범죄",
          "약취·유인",
          "유가증권인지",
          "유사강간",
          "절도범죄",
          "증수뢰",
          "직권남용",
          "직무유기",
          "체포·감금",
          "통화",
          "특별경제범죄",
          "폭력행위등",
          "폭행",
          "협박",
          "환경범죄",
          "횡령",
          "강간",
          "강도",
          "강제추행",
          "공갈",
          "교통범죄",
          "기타 강간·강제추행등",
          "기타범죄",
          "노동범죄",
          "도박범죄",
          "마약범죄",
          "문서·인장",
          "방화",
          "배임",
          "병역범죄",
          "보건범죄",
          "사기",
          "살인기수",
          "살인미수등",
          "상해",
          "선거범죄",
          "성풍속범죄",
          "손괴",
          "안보범죄",
          "약취·유인",
          "유가증권인지",
          "유사강간",
          "절도범죄",
          "증수뢰",
          "직권남용",
          "직무유기",
          "체포·감금",
          "통화",
          "특별경제범죄",
          "폭력행위등",
          "폭행",
          "협박",
          "환경범죄",
          "횡령",
          "강간",
          "강도",
          "강제추행",
          "공갈",
          "교통범죄",
          "기타 강간·강제추행등",
          "기타범죄",
          "노동범죄",
          "도박범죄",
          "마약범죄",
          "문서·인장",
          "방화",
          "배임",
          "병역범죄",
          "보건범죄",
          "사기",
          "살인기수",
          "살인미수등",
          "상해",
          "선거범죄",
          "성풍속범죄",
          "손괴",
          "안보범죄",
          "약취·유인",
          "유가증권인지",
          "유사강간",
          "절도범죄",
          "증수뢰",
          "직권남용",
          "직무유기",
          "체포·감금",
          "통화",
          "특별경제범죄",
          "폭력행위등",
          "폭행",
          "협박",
          "환경범죄",
          "횡령"
         ],
         "xaxis": "x",
         "y": [
          8324,
          3230,
          1949,
          253502,
          111959,
          1612,
          31382,
          3382,
          5817,
          977,
          1721,
          8792,
          10024,
          74252,
          239,
          563,
          59719,
          174,
          4388,
          18905,
          81,
          165,
          270,
          57431,
          562,
          31,
          50,
          419,
          53,
          37610,
          53990,
          58551,
          1608,
          2029,
          8912,
          9209,
          2391,
          3223,
          259955,
          112974,
          1506,
          26402,
          3395,
          6025,
          963,
          1820,
          10783,
          10819,
          79849,
          248,
          429,
          59179,
          903,
          6715,
          20211,
          83,
          139,
          210,
          58018,
          396,
          42,
          80,
          498,
          78,
          45000,
          59117,
          67122,
          2171,
          2127,
          10545,
          3023,
          1887,
          6793,
          1833,
          275880,
          1157,
          114621,
          1394,
          22379,
          3539,
          6602,
          961,
          2094,
          13022,
          13413,
          85967,
          196,
          434,
          52622,
          199,
          7223,
          19887,
          92,
          117,
          174,
          77,
          59482,
          424,
          37,
          65,
          513,
          91,
          38951,
          51986,
          67253,
          2147,
          2484,
          12057,
          2716,
          1514,
          7239,
          2211,
          258330,
          696,
          120899,
          1225,
          20669,
          3462,
          6442,
          1003,
          2762,
          11390,
          12088,
          85702,
          213,
          391,
          45878,
          1302,
          5379,
          19578,
          45,
          123,
          203,
          194,
          53016,
          387,
          37,
          43,
          459,
          76,
          41799,
          45358,
          64896,
          2212,
          2057,
          11464,
          2666,
          1425,
          7593,
          1580,
          256826,
          387,
          122654,
          1295,
          21225,
          4458,
          6293,
          1075,
          1966,
          11454,
          11009,
          90102,
          209,
          400,
          41842,
          612,
          5147,
          20169,
          95,
          112,
          146,
          254,
          57047,
          330,
          31,
          51,
          539,
          79,
          41454,
          41346,
          72047,
          4553,
          2132,
          13412,
          2676,
          1250,
          8268,
          2000,
          260344,
          315,
          158595,
          2451,
          23093,
          5305,
          5915,
          935,
          1897,
          9440,
          11204,
          87713,
          198,
          398,
          44716,
          662,
          4793,
          22102,
          49,
          135,
          125,
          296,
          59090,
          378,
          29,
          40,
          844,
          65,
          38389,
          20737,
          82208,
          9494,
          2538,
          13254,
          2595,
          1028,
          9168,
          1872,
          224720,
          199,
          136641,
          2019,
          17029,
          5487,
          4964,
          858,
          1992,
          8173,
          9377,
          82948,
          168,
          349,
          39709,
          380,
          5126,
          21845,
          165,
          126,
          126,
          329,
          59461,
          552,
          54,
          31,
          894,
          118,
          36691,
          18276,
          78850,
          9076,
          2918,
          12568,
          2451,
          829,
          8501,
          1682,
          179640,
          255,
          115109,
          998,
          13953,
          4638,
          4506,
          910,
          1724,
          7272,
          7599,
          88559,
          169,
          306,
          34854,
          1294,
          5265,
          21633,
          94,
          104,
          81,
          378,
          55663,
          418,
          56,
          20,
          687,
          60,
          36396,
          15524,
          76592,
          9510,
          2652,
          12429,
          2392,
          923,
          8557,
          1619,
          152778,
          259,
          116561,
          524,
          14812,
          5746,
          4489,
          856,
          1662,
          6374,
          8408,
          97171,
          156,
          319,
          32049,
          473,
          5099,
          22961,
          306,
          131,
          57,
          385,
          57279,
          388,
          49,
          26,
          681,
          47,
          38252,
          13575,
          77946,
          11506,
          3353,
          12932,
          2400,
          773,
          7940,
          1599,
          143499,
          204,
          109745,
          340,
          13902,
          6233,
          4362,
          792,
          1490,
          1993,
          9860,
          97665,
          164,
          244,
          28646,
          606,
          4963,
          22815,
          388,
          118,
          39,
          387,
          56375,
          305,
          26,
          19,
          724,
          22,
          32086,
          12499,
          70520,
          11381,
          2908,
          13269
         ],
         "yaxis": "y"
        }
       ],
       "layout": {
        "barmode": "group",
        "legend": {
         "title": {
          "text": "variable"
         },
         "tracegroupgap": 0
        },
        "template": {
         "data": {
          "bar": [
           {
            "error_x": {
             "color": "#2a3f5f"
            },
            "error_y": {
             "color": "#2a3f5f"
            },
            "marker": {
             "line": {
              "color": "#E5ECF6",
              "width": 0.5
             },
             "pattern": {
              "fillmode": "overlay",
              "size": 10,
              "solidity": 0.2
             }
            },
            "type": "bar"
           }
          ],
          "barpolar": [
           {
            "marker": {
             "line": {
              "color": "#E5ECF6",
              "width": 0.5
             },
             "pattern": {
              "fillmode": "overlay",
              "size": 10,
              "solidity": 0.2
             }
            },
            "type": "barpolar"
           }
          ],
          "carpet": [
           {
            "aaxis": {
             "endlinecolor": "#2a3f5f",
             "gridcolor": "white",
             "linecolor": "white",
             "minorgridcolor": "white",
             "startlinecolor": "#2a3f5f"
            },
            "baxis": {
             "endlinecolor": "#2a3f5f",
             "gridcolor": "white",
             "linecolor": "white",
             "minorgridcolor": "white",
             "startlinecolor": "#2a3f5f"
            },
            "type": "carpet"
           }
          ],
          "choropleth": [
           {
            "colorbar": {
             "outlinewidth": 0,
             "ticks": ""
            },
            "type": "choropleth"
           }
          ],
          "contour": [
           {
            "colorbar": {
             "outlinewidth": 0,
             "ticks": ""
            },
            "colorscale": [
             [
              0,
              "#0d0887"
             ],
             [
              0.1111111111111111,
              "#46039f"
             ],
             [
              0.2222222222222222,
              "#7201a8"
             ],
             [
              0.3333333333333333,
              "#9c179e"
             ],
             [
              0.4444444444444444,
              "#bd3786"
             ],
             [
              0.5555555555555556,
              "#d8576b"
             ],
             [
              0.6666666666666666,
              "#ed7953"
             ],
             [
              0.7777777777777778,
              "#fb9f3a"
             ],
             [
              0.8888888888888888,
              "#fdca26"
             ],
             [
              1,
              "#f0f921"
             ]
            ],
            "type": "contour"
           }
          ],
          "contourcarpet": [
           {
            "colorbar": {
             "outlinewidth": 0,
             "ticks": ""
            },
            "type": "contourcarpet"
           }
          ],
          "heatmap": [
           {
            "colorbar": {
             "outlinewidth": 0,
             "ticks": ""
            },
            "colorscale": [
             [
              0,
              "#0d0887"
             ],
             [
              0.1111111111111111,
              "#46039f"
             ],
             [
              0.2222222222222222,
              "#7201a8"
             ],
             [
              0.3333333333333333,
              "#9c179e"
             ],
             [
              0.4444444444444444,
              "#bd3786"
             ],
             [
              0.5555555555555556,
              "#d8576b"
             ],
             [
              0.6666666666666666,
              "#ed7953"
             ],
             [
              0.7777777777777778,
              "#fb9f3a"
             ],
             [
              0.8888888888888888,
              "#fdca26"
             ],
             [
              1,
              "#f0f921"
             ]
            ],
            "type": "heatmap"
           }
          ],
          "heatmapgl": [
           {
            "colorbar": {
             "outlinewidth": 0,
             "ticks": ""
            },
            "colorscale": [
             [
              0,
              "#0d0887"
             ],
             [
              0.1111111111111111,
              "#46039f"
             ],
             [
              0.2222222222222222,
              "#7201a8"
             ],
             [
              0.3333333333333333,
              "#9c179e"
             ],
             [
              0.4444444444444444,
              "#bd3786"
             ],
             [
              0.5555555555555556,
              "#d8576b"
             ],
             [
              0.6666666666666666,
              "#ed7953"
             ],
             [
              0.7777777777777778,
              "#fb9f3a"
             ],
             [
              0.8888888888888888,
              "#fdca26"
             ],
             [
              1,
              "#f0f921"
             ]
            ],
            "type": "heatmapgl"
           }
          ],
          "histogram": [
           {
            "marker": {
             "pattern": {
              "fillmode": "overlay",
              "size": 10,
              "solidity": 0.2
             }
            },
            "type": "histogram"
           }
          ],
          "histogram2d": [
           {
            "colorbar": {
             "outlinewidth": 0,
             "ticks": ""
            },
            "colorscale": [
             [
              0,
              "#0d0887"
             ],
             [
              0.1111111111111111,
              "#46039f"
             ],
             [
              0.2222222222222222,
              "#7201a8"
             ],
             [
              0.3333333333333333,
              "#9c179e"
             ],
             [
              0.4444444444444444,
              "#bd3786"
             ],
             [
              0.5555555555555556,
              "#d8576b"
             ],
             [
              0.6666666666666666,
              "#ed7953"
             ],
             [
              0.7777777777777778,
              "#fb9f3a"
             ],
             [
              0.8888888888888888,
              "#fdca26"
             ],
             [
              1,
              "#f0f921"
             ]
            ],
            "type": "histogram2d"
           }
          ],
          "histogram2dcontour": [
           {
            "colorbar": {
             "outlinewidth": 0,
             "ticks": ""
            },
            "colorscale": [
             [
              0,
              "#0d0887"
             ],
             [
              0.1111111111111111,
              "#46039f"
             ],
             [
              0.2222222222222222,
              "#7201a8"
             ],
             [
              0.3333333333333333,
              "#9c179e"
             ],
             [
              0.4444444444444444,
              "#bd3786"
             ],
             [
              0.5555555555555556,
              "#d8576b"
             ],
             [
              0.6666666666666666,
              "#ed7953"
             ],
             [
              0.7777777777777778,
              "#fb9f3a"
             ],
             [
              0.8888888888888888,
              "#fdca26"
             ],
             [
              1,
              "#f0f921"
             ]
            ],
            "type": "histogram2dcontour"
           }
          ],
          "mesh3d": [
           {
            "colorbar": {
             "outlinewidth": 0,
             "ticks": ""
            },
            "type": "mesh3d"
           }
          ],
          "parcoords": [
           {
            "line": {
             "colorbar": {
              "outlinewidth": 0,
              "ticks": ""
             }
            },
            "type": "parcoords"
           }
          ],
          "pie": [
           {
            "automargin": true,
            "type": "pie"
           }
          ],
          "scatter": [
           {
            "fillpattern": {
             "fillmode": "overlay",
             "size": 10,
             "solidity": 0.2
            },
            "type": "scatter"
           }
          ],
          "scatter3d": [
           {
            "line": {
             "colorbar": {
              "outlinewidth": 0,
              "ticks": ""
             }
            },
            "marker": {
             "colorbar": {
              "outlinewidth": 0,
              "ticks": ""
             }
            },
            "type": "scatter3d"
           }
          ],
          "scattercarpet": [
           {
            "marker": {
             "colorbar": {
              "outlinewidth": 0,
              "ticks": ""
             }
            },
            "type": "scattercarpet"
           }
          ],
          "scattergeo": [
           {
            "marker": {
             "colorbar": {
              "outlinewidth": 0,
              "ticks": ""
             }
            },
            "type": "scattergeo"
           }
          ],
          "scattergl": [
           {
            "marker": {
             "colorbar": {
              "outlinewidth": 0,
              "ticks": ""
             }
            },
            "type": "scattergl"
           }
          ],
          "scattermapbox": [
           {
            "marker": {
             "colorbar": {
              "outlinewidth": 0,
              "ticks": ""
             }
            },
            "type": "scattermapbox"
           }
          ],
          "scatterpolar": [
           {
            "marker": {
             "colorbar": {
              "outlinewidth": 0,
              "ticks": ""
             }
            },
            "type": "scatterpolar"
           }
          ],
          "scatterpolargl": [
           {
            "marker": {
             "colorbar": {
              "outlinewidth": 0,
              "ticks": ""
             }
            },
            "type": "scatterpolargl"
           }
          ],
          "scatterternary": [
           {
            "marker": {
             "colorbar": {
              "outlinewidth": 0,
              "ticks": ""
             }
            },
            "type": "scatterternary"
           }
          ],
          "surface": [
           {
            "colorbar": {
             "outlinewidth": 0,
             "ticks": ""
            },
            "colorscale": [
             [
              0,
              "#0d0887"
             ],
             [
              0.1111111111111111,
              "#46039f"
             ],
             [
              0.2222222222222222,
              "#7201a8"
             ],
             [
              0.3333333333333333,
              "#9c179e"
             ],
             [
              0.4444444444444444,
              "#bd3786"
             ],
             [
              0.5555555555555556,
              "#d8576b"
             ],
             [
              0.6666666666666666,
              "#ed7953"
             ],
             [
              0.7777777777777778,
              "#fb9f3a"
             ],
             [
              0.8888888888888888,
              "#fdca26"
             ],
             [
              1,
              "#f0f921"
             ]
            ],
            "type": "surface"
           }
          ],
          "table": [
           {
            "cells": {
             "fill": {
              "color": "#EBF0F8"
             },
             "line": {
              "color": "white"
             }
            },
            "header": {
             "fill": {
              "color": "#C8D4E3"
             },
             "line": {
              "color": "white"
             }
            },
            "type": "table"
           }
          ]
         },
         "layout": {
          "annotationdefaults": {
           "arrowcolor": "#2a3f5f",
           "arrowhead": 0,
           "arrowwidth": 1
          },
          "autotypenumbers": "strict",
          "coloraxis": {
           "colorbar": {
            "outlinewidth": 0,
            "ticks": ""
           }
          },
          "colorscale": {
           "diverging": [
            [
             0,
             "#8e0152"
            ],
            [
             0.1,
             "#c51b7d"
            ],
            [
             0.2,
             "#de77ae"
            ],
            [
             0.3,
             "#f1b6da"
            ],
            [
             0.4,
             "#fde0ef"
            ],
            [
             0.5,
             "#f7f7f7"
            ],
            [
             0.6,
             "#e6f5d0"
            ],
            [
             0.7,
             "#b8e186"
            ],
            [
             0.8,
             "#7fbc41"
            ],
            [
             0.9,
             "#4d9221"
            ],
            [
             1,
             "#276419"
            ]
           ],
           "sequential": [
            [
             0,
             "#0d0887"
            ],
            [
             0.1111111111111111,
             "#46039f"
            ],
            [
             0.2222222222222222,
             "#7201a8"
            ],
            [
             0.3333333333333333,
             "#9c179e"
            ],
            [
             0.4444444444444444,
             "#bd3786"
            ],
            [
             0.5555555555555556,
             "#d8576b"
            ],
            [
             0.6666666666666666,
             "#ed7953"
            ],
            [
             0.7777777777777778,
             "#fb9f3a"
            ],
            [
             0.8888888888888888,
             "#fdca26"
            ],
            [
             1,
             "#f0f921"
            ]
           ],
           "sequentialminus": [
            [
             0,
             "#0d0887"
            ],
            [
             0.1111111111111111,
             "#46039f"
            ],
            [
             0.2222222222222222,
             "#7201a8"
            ],
            [
             0.3333333333333333,
             "#9c179e"
            ],
            [
             0.4444444444444444,
             "#bd3786"
            ],
            [
             0.5555555555555556,
             "#d8576b"
            ],
            [
             0.6666666666666666,
             "#ed7953"
            ],
            [
             0.7777777777777778,
             "#fb9f3a"
            ],
            [
             0.8888888888888888,
             "#fdca26"
            ],
            [
             1,
             "#f0f921"
            ]
           ]
          },
          "colorway": [
           "#636efa",
           "#EF553B",
           "#00cc96",
           "#ab63fa",
           "#FFA15A",
           "#19d3f3",
           "#FF6692",
           "#B6E880",
           "#FF97FF",
           "#FECB52"
          ],
          "font": {
           "color": "#2a3f5f"
          },
          "geo": {
           "bgcolor": "white",
           "lakecolor": "white",
           "landcolor": "#E5ECF6",
           "showlakes": true,
           "showland": true,
           "subunitcolor": "white"
          },
          "hoverlabel": {
           "align": "left"
          },
          "hovermode": "closest",
          "mapbox": {
           "style": "light"
          },
          "paper_bgcolor": "white",
          "plot_bgcolor": "#E5ECF6",
          "polar": {
           "angularaxis": {
            "gridcolor": "white",
            "linecolor": "white",
            "ticks": ""
           },
           "bgcolor": "#E5ECF6",
           "radialaxis": {
            "gridcolor": "white",
            "linecolor": "white",
            "ticks": ""
           }
          },
          "scene": {
           "xaxis": {
            "backgroundcolor": "#E5ECF6",
            "gridcolor": "white",
            "gridwidth": 2,
            "linecolor": "white",
            "showbackground": true,
            "ticks": "",
            "zerolinecolor": "white"
           },
           "yaxis": {
            "backgroundcolor": "#E5ECF6",
            "gridcolor": "white",
            "gridwidth": 2,
            "linecolor": "white",
            "showbackground": true,
            "ticks": "",
            "zerolinecolor": "white"
           },
           "zaxis": {
            "backgroundcolor": "#E5ECF6",
            "gridcolor": "white",
            "gridwidth": 2,
            "linecolor": "white",
            "showbackground": true,
            "ticks": "",
            "zerolinecolor": "white"
           }
          },
          "shapedefaults": {
           "line": {
            "color": "#2a3f5f"
           }
          },
          "ternary": {
           "aaxis": {
            "gridcolor": "white",
            "linecolor": "white",
            "ticks": ""
           },
           "baxis": {
            "gridcolor": "white",
            "linecolor": "white",
            "ticks": ""
           },
           "bgcolor": "#E5ECF6",
           "caxis": {
            "gridcolor": "white",
            "linecolor": "white",
            "ticks": ""
           }
          },
          "title": {
           "x": 0.05
          },
          "xaxis": {
           "automargin": true,
           "gridcolor": "white",
           "linecolor": "white",
           "ticks": "",
           "title": {
            "standoff": 15
           },
           "zerolinecolor": "white",
           "zerolinewidth": 2
          },
          "yaxis": {
           "automargin": true,
           "gridcolor": "white",
           "linecolor": "white",
           "ticks": "",
           "title": {
            "standoff": 15
           },
           "zerolinecolor": "white",
           "zerolinewidth": 2
          }
         }
        },
        "title": {
         "text": "범죄에 따른 평균 자백/재범 발생횟수"
        },
        "xaxis": {
         "anchor": "y",
         "domain": [
          0,
          1
         ],
         "title": {
          "text": "범죄명"
         }
        },
        "yaxis": {
         "anchor": "x",
         "domain": [
          0,
          1
         ],
         "title": {
          "text": "avg of value"
         }
        }
       }
      }
     },
     "metadata": {},
     "output_type": "display_data"
    }
   ],
   "source": [
    "px.histogram(df, x='범죄명', y=['자백발생횟수', '재범발생횟수'], barmode='group',\n",
    "            histfunc='avg',\n",
    "            title='범죄에 따른 평균 자백/재범 발생횟수')"
   ]
  },
  {
   "cell_type": "code",
   "execution_count": 51,
   "metadata": {},
   "outputs": [
    {
     "data": {
      "application/vnd.plotly.v1+json": {
       "config": {
        "plotlyServerURL": "https://plot.ly"
       },
       "data": [
        {
         "histfunc": "avg",
         "type": "histogram",
         "x": [
          "강간·강제추행",
          "강도",
          "공갈",
          "교통범죄",
          "기타범죄",
          "노동범죄",
          "도박범죄",
          "마약범죄",
          "문서·인장",
          "방화",
          "배임",
          "병역범죄",
          "보건범죄",
          "사기",
          "살인기수",
          "살인미수등",
          "상해",
          "선거범죄",
          "성풍속범죄",
          "손괴",
          "안보범죄",
          "약취·유인",
          "유가증권인지",
          "절도범죄",
          "증수뢰",
          "직권남용",
          "직무유기",
          "체포·감금",
          "통화",
          "특별경제범죄",
          "폭력행위등",
          "폭행",
          "협박",
          "환경범죄",
          "횡령",
          "강간·강제추행",
          "강도",
          "공갈",
          "교통범죄",
          "기타범죄",
          "노동범죄",
          "도박범죄",
          "마약범죄",
          "문서·인장",
          "방화",
          "배임",
          "병역범죄",
          "보건범죄",
          "사기",
          "살인기수",
          "살인미수등",
          "상해",
          "선거범죄",
          "성풍속범죄",
          "손괴",
          "안보범죄",
          "약취·유인",
          "유가증권인지",
          "절도범죄",
          "증수뢰",
          "직권남용",
          "직무유기",
          "체포·감금",
          "통화",
          "특별경제범죄",
          "폭력행위등",
          "폭행",
          "협박",
          "환경범죄",
          "횡령",
          "강간",
          "강도",
          "강제추행",
          "공갈",
          "교통범죄",
          "기타 강간·강제추행등",
          "기타범죄",
          "노동범죄",
          "도박범죄",
          "마약범죄",
          "문서·인장",
          "방화",
          "배임",
          "병역범죄",
          "보건범죄",
          "사기",
          "살인기수",
          "살인미수등",
          "상해",
          "선거범죄",
          "성풍속범죄",
          "손괴",
          "안보범죄",
          "약취·유인",
          "유가증권인지",
          "유사강간",
          "절도범죄",
          "증수뢰",
          "직권남용",
          "직무유기",
          "체포·감금",
          "통화",
          "특별경제범죄",
          "폭력행위등",
          "폭행",
          "협박",
          "환경범죄",
          "횡령",
          "강간",
          "강도",
          "강제추행",
          "공갈",
          "교통범죄",
          "기타 강간·강제추행등",
          "기타범죄",
          "노동범죄",
          "도박범죄",
          "마약범죄",
          "문서·인장",
          "방화",
          "배임",
          "병역범죄",
          "보건범죄",
          "사기",
          "살인기수",
          "살인미수등",
          "상해",
          "선거범죄",
          "성풍속범죄",
          "손괴",
          "안보범죄",
          "약취·유인",
          "유가증권인지",
          "유사강간",
          "절도범죄",
          "증수뢰",
          "직권남용",
          "직무유기",
          "체포·감금",
          "통화",
          "특별경제범죄",
          "폭력행위등",
          "폭행",
          "협박",
          "환경범죄",
          "횡령",
          "강간",
          "강도",
          "강제추행",
          "공갈",
          "교통범죄",
          "기타 강간·강제추행등",
          "기타범죄",
          "노동범죄",
          "도박범죄",
          "마약범죄",
          "문서·인장",
          "방화",
          "배임",
          "병역범죄",
          "보건범죄",
          "사기",
          "살인기수",
          "살인미수등",
          "상해",
          "선거범죄",
          "성풍속범죄",
          "손괴",
          "안보범죄",
          "약취·유인",
          "유가증권인지",
          "유사강간",
          "절도범죄",
          "증수뢰",
          "직권남용",
          "직무유기",
          "체포·감금",
          "통화",
          "특별경제범죄",
          "폭력행위등",
          "폭행",
          "협박",
          "환경범죄",
          "횡령",
          "강간",
          "강도",
          "강제추행",
          "공갈",
          "교통범죄",
          "기타 강간·강제추행등",
          "기타범죄",
          "노동범죄",
          "도박범죄",
          "마약범죄",
          "문서·인장",
          "방화",
          "배임",
          "병역범죄",
          "보건범죄",
          "사기",
          "살인기수",
          "살인미수등",
          "상해",
          "선거범죄",
          "성풍속범죄",
          "손괴",
          "안보범죄",
          "약취·유인",
          "유가증권인지",
          "유사강간",
          "절도범죄",
          "증수뢰",
          "직권남용",
          "직무유기",
          "체포·감금",
          "통화",
          "특별경제범죄",
          "폭력행위등",
          "폭행",
          "협박",
          "환경범죄",
          "횡령",
          "강간",
          "강도",
          "강제추행",
          "공갈",
          "교통범죄",
          "기타 강간·강제추행등",
          "기타범죄",
          "노동범죄",
          "도박범죄",
          "마약범죄",
          "문서·인장",
          "방화",
          "배임",
          "병역범죄",
          "보건범죄",
          "사기",
          "살인기수",
          "살인미수등",
          "상해",
          "선거범죄",
          "성풍속범죄",
          "손괴",
          "안보범죄",
          "약취·유인",
          "유가증권인지",
          "유사강간",
          "절도범죄",
          "증수뢰",
          "직권남용",
          "직무유기",
          "체포·감금",
          "통화",
          "특별경제범죄",
          "폭력행위등",
          "폭행",
          "협박",
          "환경범죄",
          "횡령",
          "강간",
          "강도",
          "강제추행",
          "공갈",
          "교통범죄",
          "기타 강간·강제추행등",
          "기타범죄",
          "노동범죄",
          "도박범죄",
          "마약범죄",
          "문서·인장",
          "방화",
          "배임",
          "병역범죄",
          "보건범죄",
          "사기",
          "살인기수",
          "살인미수등",
          "상해",
          "선거범죄",
          "성풍속범죄",
          "손괴",
          "안보범죄",
          "약취·유인",
          "유가증권인지",
          "유사강간",
          "절도범죄",
          "증수뢰",
          "직권남용",
          "직무유기",
          "체포·감금",
          "통화",
          "특별경제범죄",
          "폭력행위등",
          "폭행",
          "협박",
          "환경범죄",
          "횡령",
          "강간",
          "강도",
          "강제추행",
          "공갈",
          "교통범죄",
          "기타 강간·강제추행등",
          "기타범죄",
          "노동범죄",
          "도박범죄",
          "마약범죄",
          "문서·인장",
          "방화",
          "배임",
          "병역범죄",
          "보건범죄",
          "사기",
          "살인기수",
          "살인미수등",
          "상해",
          "선거범죄",
          "성풍속범죄",
          "손괴",
          "안보범죄",
          "약취·유인",
          "유가증권인지",
          "유사강간",
          "절도범죄",
          "증수뢰",
          "직권남용",
          "직무유기",
          "체포·감금",
          "통화",
          "특별경제범죄",
          "폭력행위등",
          "폭행",
          "협박",
          "환경범죄",
          "횡령",
          "강간",
          "강도",
          "강제추행",
          "공갈",
          "교통범죄",
          "기타 강간·강제추행등",
          "기타범죄",
          "노동범죄",
          "도박범죄",
          "마약범죄",
          "문서·인장",
          "방화",
          "배임",
          "병역범죄",
          "보건범죄",
          "사기",
          "살인기수",
          "살인미수등",
          "상해",
          "선거범죄",
          "성풍속범죄",
          "손괴",
          "안보범죄",
          "약취·유인",
          "유가증권인지",
          "유사강간",
          "절도범죄",
          "증수뢰",
          "직권남용",
          "직무유기",
          "체포·감금",
          "통화",
          "특별경제범죄",
          "폭력행위등",
          "폭행",
          "협박",
          "환경범죄",
          "횡령"
         ],
         "xaxis": "x",
         "y": [
          8324,
          3230,
          1949,
          253502,
          111959,
          1612,
          31382,
          3382,
          5817,
          977,
          1721,
          8792,
          10024,
          74252,
          239,
          563,
          59719,
          174,
          4388,
          18905,
          81,
          165,
          270,
          57431,
          562,
          31,
          50,
          419,
          53,
          37610,
          53990,
          58551,
          1608,
          2029,
          8912,
          9209,
          2391,
          3223,
          259955,
          112974,
          1506,
          26402,
          3395,
          6025,
          963,
          1820,
          10783,
          10819,
          79849,
          248,
          429,
          59179,
          903,
          6715,
          20211,
          83,
          139,
          210,
          58018,
          396,
          42,
          80,
          498,
          78,
          45000,
          59117,
          67122,
          2171,
          2127,
          10545,
          3023,
          1887,
          6793,
          1833,
          275880,
          1157,
          114621,
          1394,
          22379,
          3539,
          6602,
          961,
          2094,
          13022,
          13413,
          85967,
          196,
          434,
          52622,
          199,
          7223,
          19887,
          92,
          117,
          174,
          77,
          59482,
          424,
          37,
          65,
          513,
          91,
          38951,
          51986,
          67253,
          2147,
          2484,
          12057,
          2716,
          1514,
          7239,
          2211,
          258330,
          696,
          120899,
          1225,
          20669,
          3462,
          6442,
          1003,
          2762,
          11390,
          12088,
          85702,
          213,
          391,
          45878,
          1302,
          5379,
          19578,
          45,
          123,
          203,
          194,
          53016,
          387,
          37,
          43,
          459,
          76,
          41799,
          45358,
          64896,
          2212,
          2057,
          11464,
          2666,
          1425,
          7593,
          1580,
          256826,
          387,
          122654,
          1295,
          21225,
          4458,
          6293,
          1075,
          1966,
          11454,
          11009,
          90102,
          209,
          400,
          41842,
          612,
          5147,
          20169,
          95,
          112,
          146,
          254,
          57047,
          330,
          31,
          51,
          539,
          79,
          41454,
          41346,
          72047,
          4553,
          2132,
          13412,
          2676,
          1250,
          8268,
          2000,
          260344,
          315,
          158595,
          2451,
          23093,
          5305,
          5915,
          935,
          1897,
          9440,
          11204,
          87713,
          198,
          398,
          44716,
          662,
          4793,
          22102,
          49,
          135,
          125,
          296,
          59090,
          378,
          29,
          40,
          844,
          65,
          38389,
          20737,
          82208,
          9494,
          2538,
          13254,
          2595,
          1028,
          9168,
          1872,
          224720,
          199,
          136641,
          2019,
          17029,
          5487,
          4964,
          858,
          1992,
          8173,
          9377,
          82948,
          168,
          349,
          39709,
          380,
          5126,
          21845,
          165,
          126,
          126,
          329,
          59461,
          552,
          54,
          31,
          894,
          118,
          36691,
          18276,
          78850,
          9076,
          2918,
          12568,
          2451,
          829,
          8501,
          1682,
          179640,
          255,
          115109,
          998,
          13953,
          4638,
          4506,
          910,
          1724,
          7272,
          7599,
          88559,
          169,
          306,
          34854,
          1294,
          5265,
          21633,
          94,
          104,
          81,
          378,
          55663,
          418,
          56,
          20,
          687,
          60,
          36396,
          15524,
          76592,
          9510,
          2652,
          12429,
          2392,
          923,
          8557,
          1619,
          152778,
          259,
          116561,
          524,
          14812,
          5746,
          4489,
          856,
          1662,
          6374,
          8408,
          97171,
          156,
          319,
          32049,
          473,
          5099,
          22961,
          306,
          131,
          57,
          385,
          57279,
          388,
          49,
          26,
          681,
          47,
          38252,
          13575,
          77946,
          11506,
          3353,
          12932,
          2400,
          773,
          7940,
          1599,
          143499,
          204,
          109745,
          340,
          13902,
          6233,
          4362,
          792,
          1490,
          1993,
          9860,
          97665,
          164,
          244,
          28646,
          606,
          4963,
          22815,
          388,
          118,
          39,
          387,
          56375,
          305,
          26,
          19,
          724,
          22,
          32086,
          12499,
          70520,
          11381,
          2908,
          13269
         ],
         "yaxis": "y2"
        },
        {
         "histfunc": "avg",
         "type": "histogram",
         "x": [
          "강간·강제추행",
          "강도",
          "공갈",
          "교통범죄",
          "기타범죄",
          "노동범죄",
          "도박범죄",
          "마약범죄",
          "문서·인장",
          "방화",
          "배임",
          "병역범죄",
          "보건범죄",
          "사기",
          "살인기수",
          "살인미수등",
          "상해",
          "선거범죄",
          "성풍속범죄",
          "손괴",
          "안보범죄",
          "약취·유인",
          "유가증권인지",
          "절도범죄",
          "증수뢰",
          "직권남용",
          "직무유기",
          "체포·감금",
          "통화",
          "특별경제범죄",
          "폭력행위등",
          "폭행",
          "협박",
          "환경범죄",
          "횡령",
          "강간·강제추행",
          "강도",
          "공갈",
          "교통범죄",
          "기타범죄",
          "노동범죄",
          "도박범죄",
          "마약범죄",
          "문서·인장",
          "방화",
          "배임",
          "병역범죄",
          "보건범죄",
          "사기",
          "살인기수",
          "살인미수등",
          "상해",
          "선거범죄",
          "성풍속범죄",
          "손괴",
          "안보범죄",
          "약취·유인",
          "유가증권인지",
          "절도범죄",
          "증수뢰",
          "직권남용",
          "직무유기",
          "체포·감금",
          "통화",
          "특별경제범죄",
          "폭력행위등",
          "폭행",
          "협박",
          "환경범죄",
          "횡령",
          "강간",
          "강도",
          "강제추행",
          "공갈",
          "교통범죄",
          "기타 강간·강제추행등",
          "기타범죄",
          "노동범죄",
          "도박범죄",
          "마약범죄",
          "문서·인장",
          "방화",
          "배임",
          "병역범죄",
          "보건범죄",
          "사기",
          "살인기수",
          "살인미수등",
          "상해",
          "선거범죄",
          "성풍속범죄",
          "손괴",
          "안보범죄",
          "약취·유인",
          "유가증권인지",
          "유사강간",
          "절도범죄",
          "증수뢰",
          "직권남용",
          "직무유기",
          "체포·감금",
          "통화",
          "특별경제범죄",
          "폭력행위등",
          "폭행",
          "협박",
          "환경범죄",
          "횡령",
          "강간",
          "강도",
          "강제추행",
          "공갈",
          "교통범죄",
          "기타 강간·강제추행등",
          "기타범죄",
          "노동범죄",
          "도박범죄",
          "마약범죄",
          "문서·인장",
          "방화",
          "배임",
          "병역범죄",
          "보건범죄",
          "사기",
          "살인기수",
          "살인미수등",
          "상해",
          "선거범죄",
          "성풍속범죄",
          "손괴",
          "안보범죄",
          "약취·유인",
          "유가증권인지",
          "유사강간",
          "절도범죄",
          "증수뢰",
          "직권남용",
          "직무유기",
          "체포·감금",
          "통화",
          "특별경제범죄",
          "폭력행위등",
          "폭행",
          "협박",
          "환경범죄",
          "횡령",
          "강간",
          "강도",
          "강제추행",
          "공갈",
          "교통범죄",
          "기타 강간·강제추행등",
          "기타범죄",
          "노동범죄",
          "도박범죄",
          "마약범죄",
          "문서·인장",
          "방화",
          "배임",
          "병역범죄",
          "보건범죄",
          "사기",
          "살인기수",
          "살인미수등",
          "상해",
          "선거범죄",
          "성풍속범죄",
          "손괴",
          "안보범죄",
          "약취·유인",
          "유가증권인지",
          "유사강간",
          "절도범죄",
          "증수뢰",
          "직권남용",
          "직무유기",
          "체포·감금",
          "통화",
          "특별경제범죄",
          "폭력행위등",
          "폭행",
          "협박",
          "환경범죄",
          "횡령",
          "강간",
          "강도",
          "강제추행",
          "공갈",
          "교통범죄",
          "기타 강간·강제추행등",
          "기타범죄",
          "노동범죄",
          "도박범죄",
          "마약범죄",
          "문서·인장",
          "방화",
          "배임",
          "병역범죄",
          "보건범죄",
          "사기",
          "살인기수",
          "살인미수등",
          "상해",
          "선거범죄",
          "성풍속범죄",
          "손괴",
          "안보범죄",
          "약취·유인",
          "유가증권인지",
          "유사강간",
          "절도범죄",
          "증수뢰",
          "직권남용",
          "직무유기",
          "체포·감금",
          "통화",
          "특별경제범죄",
          "폭력행위등",
          "폭행",
          "협박",
          "환경범죄",
          "횡령",
          "강간",
          "강도",
          "강제추행",
          "공갈",
          "교통범죄",
          "기타 강간·강제추행등",
          "기타범죄",
          "노동범죄",
          "도박범죄",
          "마약범죄",
          "문서·인장",
          "방화",
          "배임",
          "병역범죄",
          "보건범죄",
          "사기",
          "살인기수",
          "살인미수등",
          "상해",
          "선거범죄",
          "성풍속범죄",
          "손괴",
          "안보범죄",
          "약취·유인",
          "유가증권인지",
          "유사강간",
          "절도범죄",
          "증수뢰",
          "직권남용",
          "직무유기",
          "체포·감금",
          "통화",
          "특별경제범죄",
          "폭력행위등",
          "폭행",
          "협박",
          "환경범죄",
          "횡령",
          "강간",
          "강도",
          "강제추행",
          "공갈",
          "교통범죄",
          "기타 강간·강제추행등",
          "기타범죄",
          "노동범죄",
          "도박범죄",
          "마약범죄",
          "문서·인장",
          "방화",
          "배임",
          "병역범죄",
          "보건범죄",
          "사기",
          "살인기수",
          "살인미수등",
          "상해",
          "선거범죄",
          "성풍속범죄",
          "손괴",
          "안보범죄",
          "약취·유인",
          "유가증권인지",
          "유사강간",
          "절도범죄",
          "증수뢰",
          "직권남용",
          "직무유기",
          "체포·감금",
          "통화",
          "특별경제범죄",
          "폭력행위등",
          "폭행",
          "협박",
          "환경범죄",
          "횡령",
          "강간",
          "강도",
          "강제추행",
          "공갈",
          "교통범죄",
          "기타 강간·강제추행등",
          "기타범죄",
          "노동범죄",
          "도박범죄",
          "마약범죄",
          "문서·인장",
          "방화",
          "배임",
          "병역범죄",
          "보건범죄",
          "사기",
          "살인기수",
          "살인미수등",
          "상해",
          "선거범죄",
          "성풍속범죄",
          "손괴",
          "안보범죄",
          "약취·유인",
          "유가증권인지",
          "유사강간",
          "절도범죄",
          "증수뢰",
          "직권남용",
          "직무유기",
          "체포·감금",
          "통화",
          "특별경제범죄",
          "폭력행위등",
          "폭행",
          "협박",
          "환경범죄",
          "횡령",
          "강간",
          "강도",
          "강제추행",
          "공갈",
          "교통범죄",
          "기타 강간·강제추행등",
          "기타범죄",
          "노동범죄",
          "도박범죄",
          "마약범죄",
          "문서·인장",
          "방화",
          "배임",
          "병역범죄",
          "보건범죄",
          "사기",
          "살인기수",
          "살인미수등",
          "상해",
          "선거범죄",
          "성풍속범죄",
          "손괴",
          "안보범죄",
          "약취·유인",
          "유가증권인지",
          "유사강간",
          "절도범죄",
          "증수뢰",
          "직권남용",
          "직무유기",
          "체포·감금",
          "통화",
          "특별경제범죄",
          "폭력행위등",
          "폭행",
          "협박",
          "환경범죄",
          "횡령"
         ],
         "xaxis": "x",
         "y": [
          17652,
          4890,
          3786,
          524350,
          224781,
          2641,
          46174,
          5409,
          22105,
          1519,
          7860,
          22752,
          20445,
          264634,
          449,
          836,
          89138,
          400,
          15209,
          28749,
          160,
          340,
          1025,
          111390,
          1239,
          357,
          669,
          969,
          121,
          91622,
          103423,
          161782,
          3855,
          3113,
          31389,
          18012,
          3322,
          5455,
          512076,
          208432,
          2378,
          34584,
          4731,
          19479,
          1399,
          7510,
          18359,
          19531,
          220887,
          446,
          610,
          84850,
          1855,
          16321,
          29631,
          126,
          270,
          633,
          104434,
          832,
          409,
          823,
          1113,
          163,
          93427,
          106256,
          167975,
          4732,
          3247,
          29507,
          5856,
          2593,
          12496,
          3189,
          536756,
          1887,
          213524,
          2309,
          29326,
          5049,
          20406,
          1386,
          8425,
          23200,
          23046,
          239309,
          377,
          620,
          75206,
          409,
          18688,
          29295,
          152,
          260,
          548,
          136,
          102658,
          855,
          523,
          802,
          1086,
          434,
          83308,
          89858,
          166337,
          4682,
          3588,
          32723,
          5517,
          2078,
          13400,
          3674,
          533126,
          1193,
          230854,
          2131,
          27749,
          5264,
          19460,
          1466,
          9361,
          18523,
          22085,
          222173,
          447,
          575,
          66885,
          2800,
          13945,
          29907,
          90,
          252,
          552,
          389,
          95645,
          848,
          595,
          801,
          1118,
          334,
          87648,
          80113,
          171166,
          5160,
          3136,
          31975,
          5621,
          1999,
          14488,
          2930,
          549374,
          686,
          241747,
          2395,
          29166,
          6913,
          19022,
          1517,
          8233,
          18241,
          20721,
          228205,
          389,
          586,
          62059,
          1121,
          11917,
          31749,
          174,
          252,
          399,
          535,
          103166,
          842,
          587,
          860,
          1226,
          286,
          90356,
          73002,
          192308,
          9197,
          3176,
          35945,
          5829,
          1716,
          16016,
          3638,
          555352,
          521,
          310870,
          5860,
          33942,
          8443,
          18024,
          1396,
          7608,
          15659,
          21649,
          223210,
          379,
          616,
          65695,
          1525,
          11207,
          34995,
          151,
          305,
          373,
          598,
          106415,
          788,
          577,
          642,
          1687,
          220,
          77669,
          40963,
          216857,
          16825,
          3802,
          35583,
          5943,
          1456,
          18272,
          3573,
          484552,
          371,
          272830,
          4964,
          23735,
          8512,
          15918,
          1286,
          7806,
          14574,
          19130,
          208482,
          344,
          561,
          58851,
          787,
          12046,
          34900,
          251,
          285,
          330,
          694,
          105695,
          1128,
          679,
          663,
          1911,
          531,
          72452,
          36647,
          210745,
          16599,
          4378,
          33580,
          5947,
          1165,
          17631,
          3521,
          413147,
          458,
          247023,
          2073,
          19470,
          7677,
          15576,
          1387,
          8209,
          13254,
          16965,
          229854,
          350,
          516,
          52867,
          3280,
          12713,
          35690,
          187,
          260,
          295,
          848,
          97334,
          1131,
          811,
          713,
          1608,
          255,
          75348,
          31885,
          204801,
          18337,
          4066,
          35270,
          6138,
          1336,
          17892,
          3552,
          383717,
          495,
          256000,
          865,
          21306,
          9875,
          16253,
          1317,
          8151,
          11809,
          18024,
          246160,
          345,
          525,
          48854,
          1180,
          12473,
          38438,
          545,
          351,
          208,
          895,
          101295,
          942,
          974,
          788,
          1654,
          143,
          79175,
          28625,
          202710,
          22377,
          5088,
          35163,
          6113,
          1202,
          16382,
          3434,
          356446,
          349,
          244539,
          613,
          21125,
          11630,
          15465,
          1196,
          8324,
          3164,
          21810,
          245009,
          341,
          454,
          43552,
          1545,
          13546,
          38716,
          678,
          296,
          117,
          934,
          98425,
          807,
          1021,
          947,
          1695,
          86,
          67904,
          25342,
          178448,
          22507,
          4329,
          35930
         ],
         "yaxis": "y"
        }
       ],
       "layout": {
        "barmode": "group",
        "template": {
         "data": {
          "bar": [
           {
            "error_x": {
             "color": "#2a3f5f"
            },
            "error_y": {
             "color": "#2a3f5f"
            },
            "marker": {
             "line": {
              "color": "#E5ECF6",
              "width": 0.5
             },
             "pattern": {
              "fillmode": "overlay",
              "size": 10,
              "solidity": 0.2
             }
            },
            "type": "bar"
           }
          ],
          "barpolar": [
           {
            "marker": {
             "line": {
              "color": "#E5ECF6",
              "width": 0.5
             },
             "pattern": {
              "fillmode": "overlay",
              "size": 10,
              "solidity": 0.2
             }
            },
            "type": "barpolar"
           }
          ],
          "carpet": [
           {
            "aaxis": {
             "endlinecolor": "#2a3f5f",
             "gridcolor": "white",
             "linecolor": "white",
             "minorgridcolor": "white",
             "startlinecolor": "#2a3f5f"
            },
            "baxis": {
             "endlinecolor": "#2a3f5f",
             "gridcolor": "white",
             "linecolor": "white",
             "minorgridcolor": "white",
             "startlinecolor": "#2a3f5f"
            },
            "type": "carpet"
           }
          ],
          "choropleth": [
           {
            "colorbar": {
             "outlinewidth": 0,
             "ticks": ""
            },
            "type": "choropleth"
           }
          ],
          "contour": [
           {
            "colorbar": {
             "outlinewidth": 0,
             "ticks": ""
            },
            "colorscale": [
             [
              0,
              "#0d0887"
             ],
             [
              0.1111111111111111,
              "#46039f"
             ],
             [
              0.2222222222222222,
              "#7201a8"
             ],
             [
              0.3333333333333333,
              "#9c179e"
             ],
             [
              0.4444444444444444,
              "#bd3786"
             ],
             [
              0.5555555555555556,
              "#d8576b"
             ],
             [
              0.6666666666666666,
              "#ed7953"
             ],
             [
              0.7777777777777778,
              "#fb9f3a"
             ],
             [
              0.8888888888888888,
              "#fdca26"
             ],
             [
              1,
              "#f0f921"
             ]
            ],
            "type": "contour"
           }
          ],
          "contourcarpet": [
           {
            "colorbar": {
             "outlinewidth": 0,
             "ticks": ""
            },
            "type": "contourcarpet"
           }
          ],
          "heatmap": [
           {
            "colorbar": {
             "outlinewidth": 0,
             "ticks": ""
            },
            "colorscale": [
             [
              0,
              "#0d0887"
             ],
             [
              0.1111111111111111,
              "#46039f"
             ],
             [
              0.2222222222222222,
              "#7201a8"
             ],
             [
              0.3333333333333333,
              "#9c179e"
             ],
             [
              0.4444444444444444,
              "#bd3786"
             ],
             [
              0.5555555555555556,
              "#d8576b"
             ],
             [
              0.6666666666666666,
              "#ed7953"
             ],
             [
              0.7777777777777778,
              "#fb9f3a"
             ],
             [
              0.8888888888888888,
              "#fdca26"
             ],
             [
              1,
              "#f0f921"
             ]
            ],
            "type": "heatmap"
           }
          ],
          "heatmapgl": [
           {
            "colorbar": {
             "outlinewidth": 0,
             "ticks": ""
            },
            "colorscale": [
             [
              0,
              "#0d0887"
             ],
             [
              0.1111111111111111,
              "#46039f"
             ],
             [
              0.2222222222222222,
              "#7201a8"
             ],
             [
              0.3333333333333333,
              "#9c179e"
             ],
             [
              0.4444444444444444,
              "#bd3786"
             ],
             [
              0.5555555555555556,
              "#d8576b"
             ],
             [
              0.6666666666666666,
              "#ed7953"
             ],
             [
              0.7777777777777778,
              "#fb9f3a"
             ],
             [
              0.8888888888888888,
              "#fdca26"
             ],
             [
              1,
              "#f0f921"
             ]
            ],
            "type": "heatmapgl"
           }
          ],
          "histogram": [
           {
            "marker": {
             "pattern": {
              "fillmode": "overlay",
              "size": 10,
              "solidity": 0.2
             }
            },
            "type": "histogram"
           }
          ],
          "histogram2d": [
           {
            "colorbar": {
             "outlinewidth": 0,
             "ticks": ""
            },
            "colorscale": [
             [
              0,
              "#0d0887"
             ],
             [
              0.1111111111111111,
              "#46039f"
             ],
             [
              0.2222222222222222,
              "#7201a8"
             ],
             [
              0.3333333333333333,
              "#9c179e"
             ],
             [
              0.4444444444444444,
              "#bd3786"
             ],
             [
              0.5555555555555556,
              "#d8576b"
             ],
             [
              0.6666666666666666,
              "#ed7953"
             ],
             [
              0.7777777777777778,
              "#fb9f3a"
             ],
             [
              0.8888888888888888,
              "#fdca26"
             ],
             [
              1,
              "#f0f921"
             ]
            ],
            "type": "histogram2d"
           }
          ],
          "histogram2dcontour": [
           {
            "colorbar": {
             "outlinewidth": 0,
             "ticks": ""
            },
            "colorscale": [
             [
              0,
              "#0d0887"
             ],
             [
              0.1111111111111111,
              "#46039f"
             ],
             [
              0.2222222222222222,
              "#7201a8"
             ],
             [
              0.3333333333333333,
              "#9c179e"
             ],
             [
              0.4444444444444444,
              "#bd3786"
             ],
             [
              0.5555555555555556,
              "#d8576b"
             ],
             [
              0.6666666666666666,
              "#ed7953"
             ],
             [
              0.7777777777777778,
              "#fb9f3a"
             ],
             [
              0.8888888888888888,
              "#fdca26"
             ],
             [
              1,
              "#f0f921"
             ]
            ],
            "type": "histogram2dcontour"
           }
          ],
          "mesh3d": [
           {
            "colorbar": {
             "outlinewidth": 0,
             "ticks": ""
            },
            "type": "mesh3d"
           }
          ],
          "parcoords": [
           {
            "line": {
             "colorbar": {
              "outlinewidth": 0,
              "ticks": ""
             }
            },
            "type": "parcoords"
           }
          ],
          "pie": [
           {
            "automargin": true,
            "type": "pie"
           }
          ],
          "scatter": [
           {
            "fillpattern": {
             "fillmode": "overlay",
             "size": 10,
             "solidity": 0.2
            },
            "type": "scatter"
           }
          ],
          "scatter3d": [
           {
            "line": {
             "colorbar": {
              "outlinewidth": 0,
              "ticks": ""
             }
            },
            "marker": {
             "colorbar": {
              "outlinewidth": 0,
              "ticks": ""
             }
            },
            "type": "scatter3d"
           }
          ],
          "scattercarpet": [
           {
            "marker": {
             "colorbar": {
              "outlinewidth": 0,
              "ticks": ""
             }
            },
            "type": "scattercarpet"
           }
          ],
          "scattergeo": [
           {
            "marker": {
             "colorbar": {
              "outlinewidth": 0,
              "ticks": ""
             }
            },
            "type": "scattergeo"
           }
          ],
          "scattergl": [
           {
            "marker": {
             "colorbar": {
              "outlinewidth": 0,
              "ticks": ""
             }
            },
            "type": "scattergl"
           }
          ],
          "scattermapbox": [
           {
            "marker": {
             "colorbar": {
              "outlinewidth": 0,
              "ticks": ""
             }
            },
            "type": "scattermapbox"
           }
          ],
          "scatterpolar": [
           {
            "marker": {
             "colorbar": {
              "outlinewidth": 0,
              "ticks": ""
             }
            },
            "type": "scatterpolar"
           }
          ],
          "scatterpolargl": [
           {
            "marker": {
             "colorbar": {
              "outlinewidth": 0,
              "ticks": ""
             }
            },
            "type": "scatterpolargl"
           }
          ],
          "scatterternary": [
           {
            "marker": {
             "colorbar": {
              "outlinewidth": 0,
              "ticks": ""
             }
            },
            "type": "scatterternary"
           }
          ],
          "surface": [
           {
            "colorbar": {
             "outlinewidth": 0,
             "ticks": ""
            },
            "colorscale": [
             [
              0,
              "#0d0887"
             ],
             [
              0.1111111111111111,
              "#46039f"
             ],
             [
              0.2222222222222222,
              "#7201a8"
             ],
             [
              0.3333333333333333,
              "#9c179e"
             ],
             [
              0.4444444444444444,
              "#bd3786"
             ],
             [
              0.5555555555555556,
              "#d8576b"
             ],
             [
              0.6666666666666666,
              "#ed7953"
             ],
             [
              0.7777777777777778,
              "#fb9f3a"
             ],
             [
              0.8888888888888888,
              "#fdca26"
             ],
             [
              1,
              "#f0f921"
             ]
            ],
            "type": "surface"
           }
          ],
          "table": [
           {
            "cells": {
             "fill": {
              "color": "#EBF0F8"
             },
             "line": {
              "color": "white"
             }
            },
            "header": {
             "fill": {
              "color": "#C8D4E3"
             },
             "line": {
              "color": "white"
             }
            },
            "type": "table"
           }
          ]
         },
         "layout": {
          "annotationdefaults": {
           "arrowcolor": "#2a3f5f",
           "arrowhead": 0,
           "arrowwidth": 1
          },
          "autotypenumbers": "strict",
          "coloraxis": {
           "colorbar": {
            "outlinewidth": 0,
            "ticks": ""
           }
          },
          "colorscale": {
           "diverging": [
            [
             0,
             "#8e0152"
            ],
            [
             0.1,
             "#c51b7d"
            ],
            [
             0.2,
             "#de77ae"
            ],
            [
             0.3,
             "#f1b6da"
            ],
            [
             0.4,
             "#fde0ef"
            ],
            [
             0.5,
             "#f7f7f7"
            ],
            [
             0.6,
             "#e6f5d0"
            ],
            [
             0.7,
             "#b8e186"
            ],
            [
             0.8,
             "#7fbc41"
            ],
            [
             0.9,
             "#4d9221"
            ],
            [
             1,
             "#276419"
            ]
           ],
           "sequential": [
            [
             0,
             "#0d0887"
            ],
            [
             0.1111111111111111,
             "#46039f"
            ],
            [
             0.2222222222222222,
             "#7201a8"
            ],
            [
             0.3333333333333333,
             "#9c179e"
            ],
            [
             0.4444444444444444,
             "#bd3786"
            ],
            [
             0.5555555555555556,
             "#d8576b"
            ],
            [
             0.6666666666666666,
             "#ed7953"
            ],
            [
             0.7777777777777778,
             "#fb9f3a"
            ],
            [
             0.8888888888888888,
             "#fdca26"
            ],
            [
             1,
             "#f0f921"
            ]
           ],
           "sequentialminus": [
            [
             0,
             "#0d0887"
            ],
            [
             0.1111111111111111,
             "#46039f"
            ],
            [
             0.2222222222222222,
             "#7201a8"
            ],
            [
             0.3333333333333333,
             "#9c179e"
            ],
            [
             0.4444444444444444,
             "#bd3786"
            ],
            [
             0.5555555555555556,
             "#d8576b"
            ],
            [
             0.6666666666666666,
             "#ed7953"
            ],
            [
             0.7777777777777778,
             "#fb9f3a"
            ],
            [
             0.8888888888888888,
             "#fdca26"
            ],
            [
             1,
             "#f0f921"
            ]
           ]
          },
          "colorway": [
           "#636efa",
           "#EF553B",
           "#00cc96",
           "#ab63fa",
           "#FFA15A",
           "#19d3f3",
           "#FF6692",
           "#B6E880",
           "#FF97FF",
           "#FECB52"
          ],
          "font": {
           "color": "#2a3f5f"
          },
          "geo": {
           "bgcolor": "white",
           "lakecolor": "white",
           "landcolor": "#E5ECF6",
           "showlakes": true,
           "showland": true,
           "subunitcolor": "white"
          },
          "hoverlabel": {
           "align": "left"
          },
          "hovermode": "closest",
          "mapbox": {
           "style": "light"
          },
          "paper_bgcolor": "white",
          "plot_bgcolor": "#E5ECF6",
          "polar": {
           "angularaxis": {
            "gridcolor": "white",
            "linecolor": "white",
            "ticks": ""
           },
           "bgcolor": "#E5ECF6",
           "radialaxis": {
            "gridcolor": "white",
            "linecolor": "white",
            "ticks": ""
           }
          },
          "scene": {
           "xaxis": {
            "backgroundcolor": "#E5ECF6",
            "gridcolor": "white",
            "gridwidth": 2,
            "linecolor": "white",
            "showbackground": true,
            "ticks": "",
            "zerolinecolor": "white"
           },
           "yaxis": {
            "backgroundcolor": "#E5ECF6",
            "gridcolor": "white",
            "gridwidth": 2,
            "linecolor": "white",
            "showbackground": true,
            "ticks": "",
            "zerolinecolor": "white"
           },
           "zaxis": {
            "backgroundcolor": "#E5ECF6",
            "gridcolor": "white",
            "gridwidth": 2,
            "linecolor": "white",
            "showbackground": true,
            "ticks": "",
            "zerolinecolor": "white"
           }
          },
          "shapedefaults": {
           "line": {
            "color": "#2a3f5f"
           }
          },
          "ternary": {
           "aaxis": {
            "gridcolor": "white",
            "linecolor": "white",
            "ticks": ""
           },
           "baxis": {
            "gridcolor": "white",
            "linecolor": "white",
            "ticks": ""
           },
           "bgcolor": "#E5ECF6",
           "caxis": {
            "gridcolor": "white",
            "linecolor": "white",
            "ticks": ""
           }
          },
          "title": {
           "x": 0.05
          },
          "xaxis": {
           "automargin": true,
           "gridcolor": "white",
           "linecolor": "white",
           "ticks": "",
           "title": {
            "standoff": 15
           },
           "zerolinecolor": "white",
           "zerolinewidth": 2
          },
          "yaxis": {
           "automargin": true,
           "gridcolor": "white",
           "linecolor": "white",
           "ticks": "",
           "title": {
            "standoff": 15
           },
           "zerolinecolor": "white",
           "zerolinewidth": 2
          }
         }
        },
        "xaxis": {
         "anchor": "y",
         "domain": [
          0,
          0.94
         ]
        },
        "yaxis": {
         "anchor": "x",
         "domain": [
          0,
          1
         ]
        },
        "yaxis2": {
         "anchor": "x",
         "overlaying": "y",
         "side": "right"
        }
       }
      }
     },
     "metadata": {},
     "output_type": "display_data"
    }
   ],
   "source": [
    "# fig = go.Figure()\n",
    "fig = make_subplots(specs=[[{\"secondary_y\": True}]])\n",
    "fig.add_trace(\n",
    "    go.Histogram(x=df['범죄명'], y=df['재범발생횟수'], histfunc='avg', )    \n",
    "    , secondary_y = True\n",
    "    # , names='재범발생횟수'\n",
    ")\n",
    "fig.add_trace(\n",
    "    go.Histogram(x=df['범죄명'], y=df['자백발생횟수'], histfunc='avg')\n",
    "    , secondary_y = False\n",
    ")\n",
    "fig.update_layout(barmode='group')\n",
    "# fig.update_traces()\n",
    "fig.show()"
   ]
  },
  {
   "cell_type": "code",
   "execution_count": 66,
   "metadata": {},
   "outputs": [
    {
     "data": {
      "application/vnd.plotly.v1+json": {
       "config": {
        "plotlyServerURL": "https://plot.ly"
       },
       "data": [
        {
         "alignmentgroup": "True",
         "hovertemplate": "범죄명=%{x}<br>재범발생횟수=%{y}<extra></extra>",
         "legendgroup": "",
         "marker": {
          "color": "#636efa"
         },
         "name": "",
         "notched": false,
         "offsetgroup": "",
         "orientation": "v",
         "showlegend": false,
         "type": "box",
         "x": [
          "강간·강제추행",
          "강도",
          "공갈",
          "교통범죄",
          "기타범죄",
          "노동범죄",
          "도박범죄",
          "마약범죄",
          "문서·인장",
          "방화",
          "배임",
          "병역범죄",
          "보건범죄",
          "사기",
          "살인기수",
          "살인미수등",
          "상해",
          "선거범죄",
          "성풍속범죄",
          "손괴",
          "안보범죄",
          "약취·유인",
          "유가증권인지",
          "절도범죄",
          "증수뢰",
          "직권남용",
          "직무유기",
          "체포·감금",
          "통화",
          "특별경제범죄",
          "폭력행위등",
          "폭행",
          "협박",
          "환경범죄",
          "횡령",
          "강간·강제추행",
          "강도",
          "공갈",
          "교통범죄",
          "기타범죄",
          "노동범죄",
          "도박범죄",
          "마약범죄",
          "문서·인장",
          "방화",
          "배임",
          "병역범죄",
          "보건범죄",
          "사기",
          "살인기수",
          "살인미수등",
          "상해",
          "선거범죄",
          "성풍속범죄",
          "손괴",
          "안보범죄",
          "약취·유인",
          "유가증권인지",
          "절도범죄",
          "증수뢰",
          "직권남용",
          "직무유기",
          "체포·감금",
          "통화",
          "특별경제범죄",
          "폭력행위등",
          "폭행",
          "협박",
          "환경범죄",
          "횡령",
          "강간",
          "강도",
          "강제추행",
          "공갈",
          "교통범죄",
          "기타 강간·강제추행등",
          "기타범죄",
          "노동범죄",
          "도박범죄",
          "마약범죄",
          "문서·인장",
          "방화",
          "배임",
          "병역범죄",
          "보건범죄",
          "사기",
          "살인기수",
          "살인미수등",
          "상해",
          "선거범죄",
          "성풍속범죄",
          "손괴",
          "안보범죄",
          "약취·유인",
          "유가증권인지",
          "유사강간",
          "절도범죄",
          "증수뢰",
          "직권남용",
          "직무유기",
          "체포·감금",
          "통화",
          "특별경제범죄",
          "폭력행위등",
          "폭행",
          "협박",
          "환경범죄",
          "횡령",
          "강간",
          "강도",
          "강제추행",
          "공갈",
          "교통범죄",
          "기타 강간·강제추행등",
          "기타범죄",
          "노동범죄",
          "도박범죄",
          "마약범죄",
          "문서·인장",
          "방화",
          "배임",
          "병역범죄",
          "보건범죄",
          "사기",
          "살인기수",
          "살인미수등",
          "상해",
          "선거범죄",
          "성풍속범죄",
          "손괴",
          "안보범죄",
          "약취·유인",
          "유가증권인지",
          "유사강간",
          "절도범죄",
          "증수뢰",
          "직권남용",
          "직무유기",
          "체포·감금",
          "통화",
          "특별경제범죄",
          "폭력행위등",
          "폭행",
          "협박",
          "환경범죄",
          "횡령",
          "강간",
          "강도",
          "강제추행",
          "공갈",
          "교통범죄",
          "기타 강간·강제추행등",
          "기타범죄",
          "노동범죄",
          "도박범죄",
          "마약범죄",
          "문서·인장",
          "방화",
          "배임",
          "병역범죄",
          "보건범죄",
          "사기",
          "살인기수",
          "살인미수등",
          "상해",
          "선거범죄",
          "성풍속범죄",
          "손괴",
          "안보범죄",
          "약취·유인",
          "유가증권인지",
          "유사강간",
          "절도범죄",
          "증수뢰",
          "직권남용",
          "직무유기",
          "체포·감금",
          "통화",
          "특별경제범죄",
          "폭력행위등",
          "폭행",
          "협박",
          "환경범죄",
          "횡령",
          "강간",
          "강도",
          "강제추행",
          "공갈",
          "교통범죄",
          "기타 강간·강제추행등",
          "기타범죄",
          "노동범죄",
          "도박범죄",
          "마약범죄",
          "문서·인장",
          "방화",
          "배임",
          "병역범죄",
          "보건범죄",
          "사기",
          "살인기수",
          "살인미수등",
          "상해",
          "선거범죄",
          "성풍속범죄",
          "손괴",
          "안보범죄",
          "약취·유인",
          "유가증권인지",
          "유사강간",
          "절도범죄",
          "증수뢰",
          "직권남용",
          "직무유기",
          "체포·감금",
          "통화",
          "특별경제범죄",
          "폭력행위등",
          "폭행",
          "협박",
          "환경범죄",
          "횡령",
          "강간",
          "강도",
          "강제추행",
          "공갈",
          "교통범죄",
          "기타 강간·강제추행등",
          "기타범죄",
          "노동범죄",
          "도박범죄",
          "마약범죄",
          "문서·인장",
          "방화",
          "배임",
          "병역범죄",
          "보건범죄",
          "사기",
          "살인기수",
          "살인미수등",
          "상해",
          "선거범죄",
          "성풍속범죄",
          "손괴",
          "안보범죄",
          "약취·유인",
          "유가증권인지",
          "유사강간",
          "절도범죄",
          "증수뢰",
          "직권남용",
          "직무유기",
          "체포·감금",
          "통화",
          "특별경제범죄",
          "폭력행위등",
          "폭행",
          "협박",
          "환경범죄",
          "횡령",
          "강간",
          "강도",
          "강제추행",
          "공갈",
          "교통범죄",
          "기타 강간·강제추행등",
          "기타범죄",
          "노동범죄",
          "도박범죄",
          "마약범죄",
          "문서·인장",
          "방화",
          "배임",
          "병역범죄",
          "보건범죄",
          "사기",
          "살인기수",
          "살인미수등",
          "상해",
          "선거범죄",
          "성풍속범죄",
          "손괴",
          "안보범죄",
          "약취·유인",
          "유가증권인지",
          "유사강간",
          "절도범죄",
          "증수뢰",
          "직권남용",
          "직무유기",
          "체포·감금",
          "통화",
          "특별경제범죄",
          "폭력행위등",
          "폭행",
          "협박",
          "환경범죄",
          "횡령",
          "강간",
          "강도",
          "강제추행",
          "공갈",
          "교통범죄",
          "기타 강간·강제추행등",
          "기타범죄",
          "노동범죄",
          "도박범죄",
          "마약범죄",
          "문서·인장",
          "방화",
          "배임",
          "병역범죄",
          "보건범죄",
          "사기",
          "살인기수",
          "살인미수등",
          "상해",
          "선거범죄",
          "성풍속범죄",
          "손괴",
          "안보범죄",
          "약취·유인",
          "유가증권인지",
          "유사강간",
          "절도범죄",
          "증수뢰",
          "직권남용",
          "직무유기",
          "체포·감금",
          "통화",
          "특별경제범죄",
          "폭력행위등",
          "폭행",
          "협박",
          "환경범죄",
          "횡령",
          "강간",
          "강도",
          "강제추행",
          "공갈",
          "교통범죄",
          "기타 강간·강제추행등",
          "기타범죄",
          "노동범죄",
          "도박범죄",
          "마약범죄",
          "문서·인장",
          "방화",
          "배임",
          "병역범죄",
          "보건범죄",
          "사기",
          "살인기수",
          "살인미수등",
          "상해",
          "선거범죄",
          "성풍속범죄",
          "손괴",
          "안보범죄",
          "약취·유인",
          "유가증권인지",
          "유사강간",
          "절도범죄",
          "증수뢰",
          "직권남용",
          "직무유기",
          "체포·감금",
          "통화",
          "특별경제범죄",
          "폭력행위등",
          "폭행",
          "협박",
          "환경범죄",
          "횡령"
         ],
         "x0": " ",
         "xaxis": "x",
         "y": [
          8324,
          3230,
          1949,
          253502,
          111959,
          1612,
          31382,
          3382,
          5817,
          977,
          1721,
          8792,
          10024,
          74252,
          239,
          563,
          59719,
          174,
          4388,
          18905,
          81,
          165,
          270,
          57431,
          562,
          31,
          50,
          419,
          53,
          37610,
          53990,
          58551,
          1608,
          2029,
          8912,
          9209,
          2391,
          3223,
          259955,
          112974,
          1506,
          26402,
          3395,
          6025,
          963,
          1820,
          10783,
          10819,
          79849,
          248,
          429,
          59179,
          903,
          6715,
          20211,
          83,
          139,
          210,
          58018,
          396,
          42,
          80,
          498,
          78,
          45000,
          59117,
          67122,
          2171,
          2127,
          10545,
          3023,
          1887,
          6793,
          1833,
          275880,
          1157,
          114621,
          1394,
          22379,
          3539,
          6602,
          961,
          2094,
          13022,
          13413,
          85967,
          196,
          434,
          52622,
          199,
          7223,
          19887,
          92,
          117,
          174,
          77,
          59482,
          424,
          37,
          65,
          513,
          91,
          38951,
          51986,
          67253,
          2147,
          2484,
          12057,
          2716,
          1514,
          7239,
          2211,
          258330,
          696,
          120899,
          1225,
          20669,
          3462,
          6442,
          1003,
          2762,
          11390,
          12088,
          85702,
          213,
          391,
          45878,
          1302,
          5379,
          19578,
          45,
          123,
          203,
          194,
          53016,
          387,
          37,
          43,
          459,
          76,
          41799,
          45358,
          64896,
          2212,
          2057,
          11464,
          2666,
          1425,
          7593,
          1580,
          256826,
          387,
          122654,
          1295,
          21225,
          4458,
          6293,
          1075,
          1966,
          11454,
          11009,
          90102,
          209,
          400,
          41842,
          612,
          5147,
          20169,
          95,
          112,
          146,
          254,
          57047,
          330,
          31,
          51,
          539,
          79,
          41454,
          41346,
          72047,
          4553,
          2132,
          13412,
          2676,
          1250,
          8268,
          2000,
          260344,
          315,
          158595,
          2451,
          23093,
          5305,
          5915,
          935,
          1897,
          9440,
          11204,
          87713,
          198,
          398,
          44716,
          662,
          4793,
          22102,
          49,
          135,
          125,
          296,
          59090,
          378,
          29,
          40,
          844,
          65,
          38389,
          20737,
          82208,
          9494,
          2538,
          13254,
          2595,
          1028,
          9168,
          1872,
          224720,
          199,
          136641,
          2019,
          17029,
          5487,
          4964,
          858,
          1992,
          8173,
          9377,
          82948,
          168,
          349,
          39709,
          380,
          5126,
          21845,
          165,
          126,
          126,
          329,
          59461,
          552,
          54,
          31,
          894,
          118,
          36691,
          18276,
          78850,
          9076,
          2918,
          12568,
          2451,
          829,
          8501,
          1682,
          179640,
          255,
          115109,
          998,
          13953,
          4638,
          4506,
          910,
          1724,
          7272,
          7599,
          88559,
          169,
          306,
          34854,
          1294,
          5265,
          21633,
          94,
          104,
          81,
          378,
          55663,
          418,
          56,
          20,
          687,
          60,
          36396,
          15524,
          76592,
          9510,
          2652,
          12429,
          2392,
          923,
          8557,
          1619,
          152778,
          259,
          116561,
          524,
          14812,
          5746,
          4489,
          856,
          1662,
          6374,
          8408,
          97171,
          156,
          319,
          32049,
          473,
          5099,
          22961,
          306,
          131,
          57,
          385,
          57279,
          388,
          49,
          26,
          681,
          47,
          38252,
          13575,
          77946,
          11506,
          3353,
          12932,
          2400,
          773,
          7940,
          1599,
          143499,
          204,
          109745,
          340,
          13902,
          6233,
          4362,
          792,
          1490,
          1993,
          9860,
          97665,
          164,
          244,
          28646,
          606,
          4963,
          22815,
          388,
          118,
          39,
          387,
          56375,
          305,
          26,
          19,
          724,
          22,
          32086,
          12499,
          70520,
          11381,
          2908,
          13269
         ],
         "y0": " ",
         "yaxis": "y"
        }
       ],
       "layout": {
        "boxmode": "group",
        "legend": {
         "tracegroupgap": 0
        },
        "template": {
         "data": {
          "bar": [
           {
            "error_x": {
             "color": "#2a3f5f"
            },
            "error_y": {
             "color": "#2a3f5f"
            },
            "marker": {
             "line": {
              "color": "#E5ECF6",
              "width": 0.5
             },
             "pattern": {
              "fillmode": "overlay",
              "size": 10,
              "solidity": 0.2
             }
            },
            "type": "bar"
           }
          ],
          "barpolar": [
           {
            "marker": {
             "line": {
              "color": "#E5ECF6",
              "width": 0.5
             },
             "pattern": {
              "fillmode": "overlay",
              "size": 10,
              "solidity": 0.2
             }
            },
            "type": "barpolar"
           }
          ],
          "carpet": [
           {
            "aaxis": {
             "endlinecolor": "#2a3f5f",
             "gridcolor": "white",
             "linecolor": "white",
             "minorgridcolor": "white",
             "startlinecolor": "#2a3f5f"
            },
            "baxis": {
             "endlinecolor": "#2a3f5f",
             "gridcolor": "white",
             "linecolor": "white",
             "minorgridcolor": "white",
             "startlinecolor": "#2a3f5f"
            },
            "type": "carpet"
           }
          ],
          "choropleth": [
           {
            "colorbar": {
             "outlinewidth": 0,
             "ticks": ""
            },
            "type": "choropleth"
           }
          ],
          "contour": [
           {
            "colorbar": {
             "outlinewidth": 0,
             "ticks": ""
            },
            "colorscale": [
             [
              0,
              "#0d0887"
             ],
             [
              0.1111111111111111,
              "#46039f"
             ],
             [
              0.2222222222222222,
              "#7201a8"
             ],
             [
              0.3333333333333333,
              "#9c179e"
             ],
             [
              0.4444444444444444,
              "#bd3786"
             ],
             [
              0.5555555555555556,
              "#d8576b"
             ],
             [
              0.6666666666666666,
              "#ed7953"
             ],
             [
              0.7777777777777778,
              "#fb9f3a"
             ],
             [
              0.8888888888888888,
              "#fdca26"
             ],
             [
              1,
              "#f0f921"
             ]
            ],
            "type": "contour"
           }
          ],
          "contourcarpet": [
           {
            "colorbar": {
             "outlinewidth": 0,
             "ticks": ""
            },
            "type": "contourcarpet"
           }
          ],
          "heatmap": [
           {
            "colorbar": {
             "outlinewidth": 0,
             "ticks": ""
            },
            "colorscale": [
             [
              0,
              "#0d0887"
             ],
             [
              0.1111111111111111,
              "#46039f"
             ],
             [
              0.2222222222222222,
              "#7201a8"
             ],
             [
              0.3333333333333333,
              "#9c179e"
             ],
             [
              0.4444444444444444,
              "#bd3786"
             ],
             [
              0.5555555555555556,
              "#d8576b"
             ],
             [
              0.6666666666666666,
              "#ed7953"
             ],
             [
              0.7777777777777778,
              "#fb9f3a"
             ],
             [
              0.8888888888888888,
              "#fdca26"
             ],
             [
              1,
              "#f0f921"
             ]
            ],
            "type": "heatmap"
           }
          ],
          "heatmapgl": [
           {
            "colorbar": {
             "outlinewidth": 0,
             "ticks": ""
            },
            "colorscale": [
             [
              0,
              "#0d0887"
             ],
             [
              0.1111111111111111,
              "#46039f"
             ],
             [
              0.2222222222222222,
              "#7201a8"
             ],
             [
              0.3333333333333333,
              "#9c179e"
             ],
             [
              0.4444444444444444,
              "#bd3786"
             ],
             [
              0.5555555555555556,
              "#d8576b"
             ],
             [
              0.6666666666666666,
              "#ed7953"
             ],
             [
              0.7777777777777778,
              "#fb9f3a"
             ],
             [
              0.8888888888888888,
              "#fdca26"
             ],
             [
              1,
              "#f0f921"
             ]
            ],
            "type": "heatmapgl"
           }
          ],
          "histogram": [
           {
            "marker": {
             "pattern": {
              "fillmode": "overlay",
              "size": 10,
              "solidity": 0.2
             }
            },
            "type": "histogram"
           }
          ],
          "histogram2d": [
           {
            "colorbar": {
             "outlinewidth": 0,
             "ticks": ""
            },
            "colorscale": [
             [
              0,
              "#0d0887"
             ],
             [
              0.1111111111111111,
              "#46039f"
             ],
             [
              0.2222222222222222,
              "#7201a8"
             ],
             [
              0.3333333333333333,
              "#9c179e"
             ],
             [
              0.4444444444444444,
              "#bd3786"
             ],
             [
              0.5555555555555556,
              "#d8576b"
             ],
             [
              0.6666666666666666,
              "#ed7953"
             ],
             [
              0.7777777777777778,
              "#fb9f3a"
             ],
             [
              0.8888888888888888,
              "#fdca26"
             ],
             [
              1,
              "#f0f921"
             ]
            ],
            "type": "histogram2d"
           }
          ],
          "histogram2dcontour": [
           {
            "colorbar": {
             "outlinewidth": 0,
             "ticks": ""
            },
            "colorscale": [
             [
              0,
              "#0d0887"
             ],
             [
              0.1111111111111111,
              "#46039f"
             ],
             [
              0.2222222222222222,
              "#7201a8"
             ],
             [
              0.3333333333333333,
              "#9c179e"
             ],
             [
              0.4444444444444444,
              "#bd3786"
             ],
             [
              0.5555555555555556,
              "#d8576b"
             ],
             [
              0.6666666666666666,
              "#ed7953"
             ],
             [
              0.7777777777777778,
              "#fb9f3a"
             ],
             [
              0.8888888888888888,
              "#fdca26"
             ],
             [
              1,
              "#f0f921"
             ]
            ],
            "type": "histogram2dcontour"
           }
          ],
          "mesh3d": [
           {
            "colorbar": {
             "outlinewidth": 0,
             "ticks": ""
            },
            "type": "mesh3d"
           }
          ],
          "parcoords": [
           {
            "line": {
             "colorbar": {
              "outlinewidth": 0,
              "ticks": ""
             }
            },
            "type": "parcoords"
           }
          ],
          "pie": [
           {
            "automargin": true,
            "type": "pie"
           }
          ],
          "scatter": [
           {
            "fillpattern": {
             "fillmode": "overlay",
             "size": 10,
             "solidity": 0.2
            },
            "type": "scatter"
           }
          ],
          "scatter3d": [
           {
            "line": {
             "colorbar": {
              "outlinewidth": 0,
              "ticks": ""
             }
            },
            "marker": {
             "colorbar": {
              "outlinewidth": 0,
              "ticks": ""
             }
            },
            "type": "scatter3d"
           }
          ],
          "scattercarpet": [
           {
            "marker": {
             "colorbar": {
              "outlinewidth": 0,
              "ticks": ""
             }
            },
            "type": "scattercarpet"
           }
          ],
          "scattergeo": [
           {
            "marker": {
             "colorbar": {
              "outlinewidth": 0,
              "ticks": ""
             }
            },
            "type": "scattergeo"
           }
          ],
          "scattergl": [
           {
            "marker": {
             "colorbar": {
              "outlinewidth": 0,
              "ticks": ""
             }
            },
            "type": "scattergl"
           }
          ],
          "scattermapbox": [
           {
            "marker": {
             "colorbar": {
              "outlinewidth": 0,
              "ticks": ""
             }
            },
            "type": "scattermapbox"
           }
          ],
          "scatterpolar": [
           {
            "marker": {
             "colorbar": {
              "outlinewidth": 0,
              "ticks": ""
             }
            },
            "type": "scatterpolar"
           }
          ],
          "scatterpolargl": [
           {
            "marker": {
             "colorbar": {
              "outlinewidth": 0,
              "ticks": ""
             }
            },
            "type": "scatterpolargl"
           }
          ],
          "scatterternary": [
           {
            "marker": {
             "colorbar": {
              "outlinewidth": 0,
              "ticks": ""
             }
            },
            "type": "scatterternary"
           }
          ],
          "surface": [
           {
            "colorbar": {
             "outlinewidth": 0,
             "ticks": ""
            },
            "colorscale": [
             [
              0,
              "#0d0887"
             ],
             [
              0.1111111111111111,
              "#46039f"
             ],
             [
              0.2222222222222222,
              "#7201a8"
             ],
             [
              0.3333333333333333,
              "#9c179e"
             ],
             [
              0.4444444444444444,
              "#bd3786"
             ],
             [
              0.5555555555555556,
              "#d8576b"
             ],
             [
              0.6666666666666666,
              "#ed7953"
             ],
             [
              0.7777777777777778,
              "#fb9f3a"
             ],
             [
              0.8888888888888888,
              "#fdca26"
             ],
             [
              1,
              "#f0f921"
             ]
            ],
            "type": "surface"
           }
          ],
          "table": [
           {
            "cells": {
             "fill": {
              "color": "#EBF0F8"
             },
             "line": {
              "color": "white"
             }
            },
            "header": {
             "fill": {
              "color": "#C8D4E3"
             },
             "line": {
              "color": "white"
             }
            },
            "type": "table"
           }
          ]
         },
         "layout": {
          "annotationdefaults": {
           "arrowcolor": "#2a3f5f",
           "arrowhead": 0,
           "arrowwidth": 1
          },
          "autotypenumbers": "strict",
          "coloraxis": {
           "colorbar": {
            "outlinewidth": 0,
            "ticks": ""
           }
          },
          "colorscale": {
           "diverging": [
            [
             0,
             "#8e0152"
            ],
            [
             0.1,
             "#c51b7d"
            ],
            [
             0.2,
             "#de77ae"
            ],
            [
             0.3,
             "#f1b6da"
            ],
            [
             0.4,
             "#fde0ef"
            ],
            [
             0.5,
             "#f7f7f7"
            ],
            [
             0.6,
             "#e6f5d0"
            ],
            [
             0.7,
             "#b8e186"
            ],
            [
             0.8,
             "#7fbc41"
            ],
            [
             0.9,
             "#4d9221"
            ],
            [
             1,
             "#276419"
            ]
           ],
           "sequential": [
            [
             0,
             "#0d0887"
            ],
            [
             0.1111111111111111,
             "#46039f"
            ],
            [
             0.2222222222222222,
             "#7201a8"
            ],
            [
             0.3333333333333333,
             "#9c179e"
            ],
            [
             0.4444444444444444,
             "#bd3786"
            ],
            [
             0.5555555555555556,
             "#d8576b"
            ],
            [
             0.6666666666666666,
             "#ed7953"
            ],
            [
             0.7777777777777778,
             "#fb9f3a"
            ],
            [
             0.8888888888888888,
             "#fdca26"
            ],
            [
             1,
             "#f0f921"
            ]
           ],
           "sequentialminus": [
            [
             0,
             "#0d0887"
            ],
            [
             0.1111111111111111,
             "#46039f"
            ],
            [
             0.2222222222222222,
             "#7201a8"
            ],
            [
             0.3333333333333333,
             "#9c179e"
            ],
            [
             0.4444444444444444,
             "#bd3786"
            ],
            [
             0.5555555555555556,
             "#d8576b"
            ],
            [
             0.6666666666666666,
             "#ed7953"
            ],
            [
             0.7777777777777778,
             "#fb9f3a"
            ],
            [
             0.8888888888888888,
             "#fdca26"
            ],
            [
             1,
             "#f0f921"
            ]
           ]
          },
          "colorway": [
           "#636efa",
           "#EF553B",
           "#00cc96",
           "#ab63fa",
           "#FFA15A",
           "#19d3f3",
           "#FF6692",
           "#B6E880",
           "#FF97FF",
           "#FECB52"
          ],
          "font": {
           "color": "#2a3f5f"
          },
          "geo": {
           "bgcolor": "white",
           "lakecolor": "white",
           "landcolor": "#E5ECF6",
           "showlakes": true,
           "showland": true,
           "subunitcolor": "white"
          },
          "hoverlabel": {
           "align": "left"
          },
          "hovermode": "closest",
          "mapbox": {
           "style": "light"
          },
          "paper_bgcolor": "white",
          "plot_bgcolor": "#E5ECF6",
          "polar": {
           "angularaxis": {
            "gridcolor": "white",
            "linecolor": "white",
            "ticks": ""
           },
           "bgcolor": "#E5ECF6",
           "radialaxis": {
            "gridcolor": "white",
            "linecolor": "white",
            "ticks": ""
           }
          },
          "scene": {
           "xaxis": {
            "backgroundcolor": "#E5ECF6",
            "gridcolor": "white",
            "gridwidth": 2,
            "linecolor": "white",
            "showbackground": true,
            "ticks": "",
            "zerolinecolor": "white"
           },
           "yaxis": {
            "backgroundcolor": "#E5ECF6",
            "gridcolor": "white",
            "gridwidth": 2,
            "linecolor": "white",
            "showbackground": true,
            "ticks": "",
            "zerolinecolor": "white"
           },
           "zaxis": {
            "backgroundcolor": "#E5ECF6",
            "gridcolor": "white",
            "gridwidth": 2,
            "linecolor": "white",
            "showbackground": true,
            "ticks": "",
            "zerolinecolor": "white"
           }
          },
          "shapedefaults": {
           "line": {
            "color": "#2a3f5f"
           }
          },
          "ternary": {
           "aaxis": {
            "gridcolor": "white",
            "linecolor": "white",
            "ticks": ""
           },
           "baxis": {
            "gridcolor": "white",
            "linecolor": "white",
            "ticks": ""
           },
           "bgcolor": "#E5ECF6",
           "caxis": {
            "gridcolor": "white",
            "linecolor": "white",
            "ticks": ""
           }
          },
          "title": {
           "x": 0.05
          },
          "xaxis": {
           "automargin": true,
           "gridcolor": "white",
           "linecolor": "white",
           "ticks": "",
           "title": {
            "standoff": 15
           },
           "zerolinecolor": "white",
           "zerolinewidth": 2
          },
          "yaxis": {
           "automargin": true,
           "gridcolor": "white",
           "linecolor": "white",
           "ticks": "",
           "title": {
            "standoff": 15
           },
           "zerolinecolor": "white",
           "zerolinewidth": 2
          }
         }
        },
        "title": {
         "text": "범죄에 따른 재범발생횟수 boxplot"
        },
        "xaxis": {
         "anchor": "y",
         "domain": [
          0,
          1
         ],
         "title": {
          "text": "범죄명"
         }
        },
        "yaxis": {
         "anchor": "x",
         "domain": [
          0,
          1
         ],
         "title": {
          "text": "재범발생횟수"
         }
        }
       }
      }
     },
     "metadata": {},
     "output_type": "display_data"
    }
   ],
   "source": [
    "px.box(df, x='범죄명', y='재범발생횟수', title='범죄에 따른 재범발생횟수 boxplot')"
   ]
  },
  {
   "cell_type": "code",
   "execution_count": 69,
   "metadata": {},
   "outputs": [
    {
     "data": {
      "application/vnd.plotly.v1+json": {
       "config": {
        "plotlyServerURL": "https://plot.ly"
       },
       "data": [
        {
         "alignmentgroup": "True",
         "hovertemplate": "범죄명=%{x}<br>자백발생횟수=%{y}<extra></extra>",
         "legendgroup": "",
         "marker": {
          "color": "#636efa"
         },
         "name": "",
         "notched": false,
         "offsetgroup": "",
         "orientation": "v",
         "showlegend": false,
         "type": "box",
         "x": [
          "강간·강제추행",
          "강도",
          "공갈",
          "교통범죄",
          "기타범죄",
          "노동범죄",
          "도박범죄",
          "마약범죄",
          "문서·인장",
          "방화",
          "배임",
          "병역범죄",
          "보건범죄",
          "사기",
          "살인기수",
          "살인미수등",
          "상해",
          "선거범죄",
          "성풍속범죄",
          "손괴",
          "안보범죄",
          "약취·유인",
          "유가증권인지",
          "절도범죄",
          "증수뢰",
          "직권남용",
          "직무유기",
          "체포·감금",
          "통화",
          "특별경제범죄",
          "폭력행위등",
          "폭행",
          "협박",
          "환경범죄",
          "횡령",
          "강간·강제추행",
          "강도",
          "공갈",
          "교통범죄",
          "기타범죄",
          "노동범죄",
          "도박범죄",
          "마약범죄",
          "문서·인장",
          "방화",
          "배임",
          "병역범죄",
          "보건범죄",
          "사기",
          "살인기수",
          "살인미수등",
          "상해",
          "선거범죄",
          "성풍속범죄",
          "손괴",
          "안보범죄",
          "약취·유인",
          "유가증권인지",
          "절도범죄",
          "증수뢰",
          "직권남용",
          "직무유기",
          "체포·감금",
          "통화",
          "특별경제범죄",
          "폭력행위등",
          "폭행",
          "협박",
          "환경범죄",
          "횡령",
          "강간",
          "강도",
          "강제추행",
          "공갈",
          "교통범죄",
          "기타 강간·강제추행등",
          "기타범죄",
          "노동범죄",
          "도박범죄",
          "마약범죄",
          "문서·인장",
          "방화",
          "배임",
          "병역범죄",
          "보건범죄",
          "사기",
          "살인기수",
          "살인미수등",
          "상해",
          "선거범죄",
          "성풍속범죄",
          "손괴",
          "안보범죄",
          "약취·유인",
          "유가증권인지",
          "유사강간",
          "절도범죄",
          "증수뢰",
          "직권남용",
          "직무유기",
          "체포·감금",
          "통화",
          "특별경제범죄",
          "폭력행위등",
          "폭행",
          "협박",
          "환경범죄",
          "횡령",
          "강간",
          "강도",
          "강제추행",
          "공갈",
          "교통범죄",
          "기타 강간·강제추행등",
          "기타범죄",
          "노동범죄",
          "도박범죄",
          "마약범죄",
          "문서·인장",
          "방화",
          "배임",
          "병역범죄",
          "보건범죄",
          "사기",
          "살인기수",
          "살인미수등",
          "상해",
          "선거범죄",
          "성풍속범죄",
          "손괴",
          "안보범죄",
          "약취·유인",
          "유가증권인지",
          "유사강간",
          "절도범죄",
          "증수뢰",
          "직권남용",
          "직무유기",
          "체포·감금",
          "통화",
          "특별경제범죄",
          "폭력행위등",
          "폭행",
          "협박",
          "환경범죄",
          "횡령",
          "강간",
          "강도",
          "강제추행",
          "공갈",
          "교통범죄",
          "기타 강간·강제추행등",
          "기타범죄",
          "노동범죄",
          "도박범죄",
          "마약범죄",
          "문서·인장",
          "방화",
          "배임",
          "병역범죄",
          "보건범죄",
          "사기",
          "살인기수",
          "살인미수등",
          "상해",
          "선거범죄",
          "성풍속범죄",
          "손괴",
          "안보범죄",
          "약취·유인",
          "유가증권인지",
          "유사강간",
          "절도범죄",
          "증수뢰",
          "직권남용",
          "직무유기",
          "체포·감금",
          "통화",
          "특별경제범죄",
          "폭력행위등",
          "폭행",
          "협박",
          "환경범죄",
          "횡령",
          "강간",
          "강도",
          "강제추행",
          "공갈",
          "교통범죄",
          "기타 강간·강제추행등",
          "기타범죄",
          "노동범죄",
          "도박범죄",
          "마약범죄",
          "문서·인장",
          "방화",
          "배임",
          "병역범죄",
          "보건범죄",
          "사기",
          "살인기수",
          "살인미수등",
          "상해",
          "선거범죄",
          "성풍속범죄",
          "손괴",
          "안보범죄",
          "약취·유인",
          "유가증권인지",
          "유사강간",
          "절도범죄",
          "증수뢰",
          "직권남용",
          "직무유기",
          "체포·감금",
          "통화",
          "특별경제범죄",
          "폭력행위등",
          "폭행",
          "협박",
          "환경범죄",
          "횡령",
          "강간",
          "강도",
          "강제추행",
          "공갈",
          "교통범죄",
          "기타 강간·강제추행등",
          "기타범죄",
          "노동범죄",
          "도박범죄",
          "마약범죄",
          "문서·인장",
          "방화",
          "배임",
          "병역범죄",
          "보건범죄",
          "사기",
          "살인기수",
          "살인미수등",
          "상해",
          "선거범죄",
          "성풍속범죄",
          "손괴",
          "안보범죄",
          "약취·유인",
          "유가증권인지",
          "유사강간",
          "절도범죄",
          "증수뢰",
          "직권남용",
          "직무유기",
          "체포·감금",
          "통화",
          "특별경제범죄",
          "폭력행위등",
          "폭행",
          "협박",
          "환경범죄",
          "횡령",
          "강간",
          "강도",
          "강제추행",
          "공갈",
          "교통범죄",
          "기타 강간·강제추행등",
          "기타범죄",
          "노동범죄",
          "도박범죄",
          "마약범죄",
          "문서·인장",
          "방화",
          "배임",
          "병역범죄",
          "보건범죄",
          "사기",
          "살인기수",
          "살인미수등",
          "상해",
          "선거범죄",
          "성풍속범죄",
          "손괴",
          "안보범죄",
          "약취·유인",
          "유가증권인지",
          "유사강간",
          "절도범죄",
          "증수뢰",
          "직권남용",
          "직무유기",
          "체포·감금",
          "통화",
          "특별경제범죄",
          "폭력행위등",
          "폭행",
          "협박",
          "환경범죄",
          "횡령",
          "강간",
          "강도",
          "강제추행",
          "공갈",
          "교통범죄",
          "기타 강간·강제추행등",
          "기타범죄",
          "노동범죄",
          "도박범죄",
          "마약범죄",
          "문서·인장",
          "방화",
          "배임",
          "병역범죄",
          "보건범죄",
          "사기",
          "살인기수",
          "살인미수등",
          "상해",
          "선거범죄",
          "성풍속범죄",
          "손괴",
          "안보범죄",
          "약취·유인",
          "유가증권인지",
          "유사강간",
          "절도범죄",
          "증수뢰",
          "직권남용",
          "직무유기",
          "체포·감금",
          "통화",
          "특별경제범죄",
          "폭력행위등",
          "폭행",
          "협박",
          "환경범죄",
          "횡령",
          "강간",
          "강도",
          "강제추행",
          "공갈",
          "교통범죄",
          "기타 강간·강제추행등",
          "기타범죄",
          "노동범죄",
          "도박범죄",
          "마약범죄",
          "문서·인장",
          "방화",
          "배임",
          "병역범죄",
          "보건범죄",
          "사기",
          "살인기수",
          "살인미수등",
          "상해",
          "선거범죄",
          "성풍속범죄",
          "손괴",
          "안보범죄",
          "약취·유인",
          "유가증권인지",
          "유사강간",
          "절도범죄",
          "증수뢰",
          "직권남용",
          "직무유기",
          "체포·감금",
          "통화",
          "특별경제범죄",
          "폭력행위등",
          "폭행",
          "협박",
          "환경범죄",
          "횡령"
         ],
         "x0": " ",
         "xaxis": "x",
         "y": [
          17652,
          4890,
          3786,
          524350,
          224781,
          2641,
          46174,
          5409,
          22105,
          1519,
          7860,
          22752,
          20445,
          264634,
          449,
          836,
          89138,
          400,
          15209,
          28749,
          160,
          340,
          1025,
          111390,
          1239,
          357,
          669,
          969,
          121,
          91622,
          103423,
          161782,
          3855,
          3113,
          31389,
          18012,
          3322,
          5455,
          512076,
          208432,
          2378,
          34584,
          4731,
          19479,
          1399,
          7510,
          18359,
          19531,
          220887,
          446,
          610,
          84850,
          1855,
          16321,
          29631,
          126,
          270,
          633,
          104434,
          832,
          409,
          823,
          1113,
          163,
          93427,
          106256,
          167975,
          4732,
          3247,
          29507,
          5856,
          2593,
          12496,
          3189,
          536756,
          1887,
          213524,
          2309,
          29326,
          5049,
          20406,
          1386,
          8425,
          23200,
          23046,
          239309,
          377,
          620,
          75206,
          409,
          18688,
          29295,
          152,
          260,
          548,
          136,
          102658,
          855,
          523,
          802,
          1086,
          434,
          83308,
          89858,
          166337,
          4682,
          3588,
          32723,
          5517,
          2078,
          13400,
          3674,
          533126,
          1193,
          230854,
          2131,
          27749,
          5264,
          19460,
          1466,
          9361,
          18523,
          22085,
          222173,
          447,
          575,
          66885,
          2800,
          13945,
          29907,
          90,
          252,
          552,
          389,
          95645,
          848,
          595,
          801,
          1118,
          334,
          87648,
          80113,
          171166,
          5160,
          3136,
          31975,
          5621,
          1999,
          14488,
          2930,
          549374,
          686,
          241747,
          2395,
          29166,
          6913,
          19022,
          1517,
          8233,
          18241,
          20721,
          228205,
          389,
          586,
          62059,
          1121,
          11917,
          31749,
          174,
          252,
          399,
          535,
          103166,
          842,
          587,
          860,
          1226,
          286,
          90356,
          73002,
          192308,
          9197,
          3176,
          35945,
          5829,
          1716,
          16016,
          3638,
          555352,
          521,
          310870,
          5860,
          33942,
          8443,
          18024,
          1396,
          7608,
          15659,
          21649,
          223210,
          379,
          616,
          65695,
          1525,
          11207,
          34995,
          151,
          305,
          373,
          598,
          106415,
          788,
          577,
          642,
          1687,
          220,
          77669,
          40963,
          216857,
          16825,
          3802,
          35583,
          5943,
          1456,
          18272,
          3573,
          484552,
          371,
          272830,
          4964,
          23735,
          8512,
          15918,
          1286,
          7806,
          14574,
          19130,
          208482,
          344,
          561,
          58851,
          787,
          12046,
          34900,
          251,
          285,
          330,
          694,
          105695,
          1128,
          679,
          663,
          1911,
          531,
          72452,
          36647,
          210745,
          16599,
          4378,
          33580,
          5947,
          1165,
          17631,
          3521,
          413147,
          458,
          247023,
          2073,
          19470,
          7677,
          15576,
          1387,
          8209,
          13254,
          16965,
          229854,
          350,
          516,
          52867,
          3280,
          12713,
          35690,
          187,
          260,
          295,
          848,
          97334,
          1131,
          811,
          713,
          1608,
          255,
          75348,
          31885,
          204801,
          18337,
          4066,
          35270,
          6138,
          1336,
          17892,
          3552,
          383717,
          495,
          256000,
          865,
          21306,
          9875,
          16253,
          1317,
          8151,
          11809,
          18024,
          246160,
          345,
          525,
          48854,
          1180,
          12473,
          38438,
          545,
          351,
          208,
          895,
          101295,
          942,
          974,
          788,
          1654,
          143,
          79175,
          28625,
          202710,
          22377,
          5088,
          35163,
          6113,
          1202,
          16382,
          3434,
          356446,
          349,
          244539,
          613,
          21125,
          11630,
          15465,
          1196,
          8324,
          3164,
          21810,
          245009,
          341,
          454,
          43552,
          1545,
          13546,
          38716,
          678,
          296,
          117,
          934,
          98425,
          807,
          1021,
          947,
          1695,
          86,
          67904,
          25342,
          178448,
          22507,
          4329,
          35930
         ],
         "y0": " ",
         "yaxis": "y"
        }
       ],
       "layout": {
        "boxmode": "group",
        "legend": {
         "tracegroupgap": 0
        },
        "template": {
         "data": {
          "bar": [
           {
            "error_x": {
             "color": "#2a3f5f"
            },
            "error_y": {
             "color": "#2a3f5f"
            },
            "marker": {
             "line": {
              "color": "#E5ECF6",
              "width": 0.5
             },
             "pattern": {
              "fillmode": "overlay",
              "size": 10,
              "solidity": 0.2
             }
            },
            "type": "bar"
           }
          ],
          "barpolar": [
           {
            "marker": {
             "line": {
              "color": "#E5ECF6",
              "width": 0.5
             },
             "pattern": {
              "fillmode": "overlay",
              "size": 10,
              "solidity": 0.2
             }
            },
            "type": "barpolar"
           }
          ],
          "carpet": [
           {
            "aaxis": {
             "endlinecolor": "#2a3f5f",
             "gridcolor": "white",
             "linecolor": "white",
             "minorgridcolor": "white",
             "startlinecolor": "#2a3f5f"
            },
            "baxis": {
             "endlinecolor": "#2a3f5f",
             "gridcolor": "white",
             "linecolor": "white",
             "minorgridcolor": "white",
             "startlinecolor": "#2a3f5f"
            },
            "type": "carpet"
           }
          ],
          "choropleth": [
           {
            "colorbar": {
             "outlinewidth": 0,
             "ticks": ""
            },
            "type": "choropleth"
           }
          ],
          "contour": [
           {
            "colorbar": {
             "outlinewidth": 0,
             "ticks": ""
            },
            "colorscale": [
             [
              0,
              "#0d0887"
             ],
             [
              0.1111111111111111,
              "#46039f"
             ],
             [
              0.2222222222222222,
              "#7201a8"
             ],
             [
              0.3333333333333333,
              "#9c179e"
             ],
             [
              0.4444444444444444,
              "#bd3786"
             ],
             [
              0.5555555555555556,
              "#d8576b"
             ],
             [
              0.6666666666666666,
              "#ed7953"
             ],
             [
              0.7777777777777778,
              "#fb9f3a"
             ],
             [
              0.8888888888888888,
              "#fdca26"
             ],
             [
              1,
              "#f0f921"
             ]
            ],
            "type": "contour"
           }
          ],
          "contourcarpet": [
           {
            "colorbar": {
             "outlinewidth": 0,
             "ticks": ""
            },
            "type": "contourcarpet"
           }
          ],
          "heatmap": [
           {
            "colorbar": {
             "outlinewidth": 0,
             "ticks": ""
            },
            "colorscale": [
             [
              0,
              "#0d0887"
             ],
             [
              0.1111111111111111,
              "#46039f"
             ],
             [
              0.2222222222222222,
              "#7201a8"
             ],
             [
              0.3333333333333333,
              "#9c179e"
             ],
             [
              0.4444444444444444,
              "#bd3786"
             ],
             [
              0.5555555555555556,
              "#d8576b"
             ],
             [
              0.6666666666666666,
              "#ed7953"
             ],
             [
              0.7777777777777778,
              "#fb9f3a"
             ],
             [
              0.8888888888888888,
              "#fdca26"
             ],
             [
              1,
              "#f0f921"
             ]
            ],
            "type": "heatmap"
           }
          ],
          "heatmapgl": [
           {
            "colorbar": {
             "outlinewidth": 0,
             "ticks": ""
            },
            "colorscale": [
             [
              0,
              "#0d0887"
             ],
             [
              0.1111111111111111,
              "#46039f"
             ],
             [
              0.2222222222222222,
              "#7201a8"
             ],
             [
              0.3333333333333333,
              "#9c179e"
             ],
             [
              0.4444444444444444,
              "#bd3786"
             ],
             [
              0.5555555555555556,
              "#d8576b"
             ],
             [
              0.6666666666666666,
              "#ed7953"
             ],
             [
              0.7777777777777778,
              "#fb9f3a"
             ],
             [
              0.8888888888888888,
              "#fdca26"
             ],
             [
              1,
              "#f0f921"
             ]
            ],
            "type": "heatmapgl"
           }
          ],
          "histogram": [
           {
            "marker": {
             "pattern": {
              "fillmode": "overlay",
              "size": 10,
              "solidity": 0.2
             }
            },
            "type": "histogram"
           }
          ],
          "histogram2d": [
           {
            "colorbar": {
             "outlinewidth": 0,
             "ticks": ""
            },
            "colorscale": [
             [
              0,
              "#0d0887"
             ],
             [
              0.1111111111111111,
              "#46039f"
             ],
             [
              0.2222222222222222,
              "#7201a8"
             ],
             [
              0.3333333333333333,
              "#9c179e"
             ],
             [
              0.4444444444444444,
              "#bd3786"
             ],
             [
              0.5555555555555556,
              "#d8576b"
             ],
             [
              0.6666666666666666,
              "#ed7953"
             ],
             [
              0.7777777777777778,
              "#fb9f3a"
             ],
             [
              0.8888888888888888,
              "#fdca26"
             ],
             [
              1,
              "#f0f921"
             ]
            ],
            "type": "histogram2d"
           }
          ],
          "histogram2dcontour": [
           {
            "colorbar": {
             "outlinewidth": 0,
             "ticks": ""
            },
            "colorscale": [
             [
              0,
              "#0d0887"
             ],
             [
              0.1111111111111111,
              "#46039f"
             ],
             [
              0.2222222222222222,
              "#7201a8"
             ],
             [
              0.3333333333333333,
              "#9c179e"
             ],
             [
              0.4444444444444444,
              "#bd3786"
             ],
             [
              0.5555555555555556,
              "#d8576b"
             ],
             [
              0.6666666666666666,
              "#ed7953"
             ],
             [
              0.7777777777777778,
              "#fb9f3a"
             ],
             [
              0.8888888888888888,
              "#fdca26"
             ],
             [
              1,
              "#f0f921"
             ]
            ],
            "type": "histogram2dcontour"
           }
          ],
          "mesh3d": [
           {
            "colorbar": {
             "outlinewidth": 0,
             "ticks": ""
            },
            "type": "mesh3d"
           }
          ],
          "parcoords": [
           {
            "line": {
             "colorbar": {
              "outlinewidth": 0,
              "ticks": ""
             }
            },
            "type": "parcoords"
           }
          ],
          "pie": [
           {
            "automargin": true,
            "type": "pie"
           }
          ],
          "scatter": [
           {
            "fillpattern": {
             "fillmode": "overlay",
             "size": 10,
             "solidity": 0.2
            },
            "type": "scatter"
           }
          ],
          "scatter3d": [
           {
            "line": {
             "colorbar": {
              "outlinewidth": 0,
              "ticks": ""
             }
            },
            "marker": {
             "colorbar": {
              "outlinewidth": 0,
              "ticks": ""
             }
            },
            "type": "scatter3d"
           }
          ],
          "scattercarpet": [
           {
            "marker": {
             "colorbar": {
              "outlinewidth": 0,
              "ticks": ""
             }
            },
            "type": "scattercarpet"
           }
          ],
          "scattergeo": [
           {
            "marker": {
             "colorbar": {
              "outlinewidth": 0,
              "ticks": ""
             }
            },
            "type": "scattergeo"
           }
          ],
          "scattergl": [
           {
            "marker": {
             "colorbar": {
              "outlinewidth": 0,
              "ticks": ""
             }
            },
            "type": "scattergl"
           }
          ],
          "scattermapbox": [
           {
            "marker": {
             "colorbar": {
              "outlinewidth": 0,
              "ticks": ""
             }
            },
            "type": "scattermapbox"
           }
          ],
          "scatterpolar": [
           {
            "marker": {
             "colorbar": {
              "outlinewidth": 0,
              "ticks": ""
             }
            },
            "type": "scatterpolar"
           }
          ],
          "scatterpolargl": [
           {
            "marker": {
             "colorbar": {
              "outlinewidth": 0,
              "ticks": ""
             }
            },
            "type": "scatterpolargl"
           }
          ],
          "scatterternary": [
           {
            "marker": {
             "colorbar": {
              "outlinewidth": 0,
              "ticks": ""
             }
            },
            "type": "scatterternary"
           }
          ],
          "surface": [
           {
            "colorbar": {
             "outlinewidth": 0,
             "ticks": ""
            },
            "colorscale": [
             [
              0,
              "#0d0887"
             ],
             [
              0.1111111111111111,
              "#46039f"
             ],
             [
              0.2222222222222222,
              "#7201a8"
             ],
             [
              0.3333333333333333,
              "#9c179e"
             ],
             [
              0.4444444444444444,
              "#bd3786"
             ],
             [
              0.5555555555555556,
              "#d8576b"
             ],
             [
              0.6666666666666666,
              "#ed7953"
             ],
             [
              0.7777777777777778,
              "#fb9f3a"
             ],
             [
              0.8888888888888888,
              "#fdca26"
             ],
             [
              1,
              "#f0f921"
             ]
            ],
            "type": "surface"
           }
          ],
          "table": [
           {
            "cells": {
             "fill": {
              "color": "#EBF0F8"
             },
             "line": {
              "color": "white"
             }
            },
            "header": {
             "fill": {
              "color": "#C8D4E3"
             },
             "line": {
              "color": "white"
             }
            },
            "type": "table"
           }
          ]
         },
         "layout": {
          "annotationdefaults": {
           "arrowcolor": "#2a3f5f",
           "arrowhead": 0,
           "arrowwidth": 1
          },
          "autotypenumbers": "strict",
          "coloraxis": {
           "colorbar": {
            "outlinewidth": 0,
            "ticks": ""
           }
          },
          "colorscale": {
           "diverging": [
            [
             0,
             "#8e0152"
            ],
            [
             0.1,
             "#c51b7d"
            ],
            [
             0.2,
             "#de77ae"
            ],
            [
             0.3,
             "#f1b6da"
            ],
            [
             0.4,
             "#fde0ef"
            ],
            [
             0.5,
             "#f7f7f7"
            ],
            [
             0.6,
             "#e6f5d0"
            ],
            [
             0.7,
             "#b8e186"
            ],
            [
             0.8,
             "#7fbc41"
            ],
            [
             0.9,
             "#4d9221"
            ],
            [
             1,
             "#276419"
            ]
           ],
           "sequential": [
            [
             0,
             "#0d0887"
            ],
            [
             0.1111111111111111,
             "#46039f"
            ],
            [
             0.2222222222222222,
             "#7201a8"
            ],
            [
             0.3333333333333333,
             "#9c179e"
            ],
            [
             0.4444444444444444,
             "#bd3786"
            ],
            [
             0.5555555555555556,
             "#d8576b"
            ],
            [
             0.6666666666666666,
             "#ed7953"
            ],
            [
             0.7777777777777778,
             "#fb9f3a"
            ],
            [
             0.8888888888888888,
             "#fdca26"
            ],
            [
             1,
             "#f0f921"
            ]
           ],
           "sequentialminus": [
            [
             0,
             "#0d0887"
            ],
            [
             0.1111111111111111,
             "#46039f"
            ],
            [
             0.2222222222222222,
             "#7201a8"
            ],
            [
             0.3333333333333333,
             "#9c179e"
            ],
            [
             0.4444444444444444,
             "#bd3786"
            ],
            [
             0.5555555555555556,
             "#d8576b"
            ],
            [
             0.6666666666666666,
             "#ed7953"
            ],
            [
             0.7777777777777778,
             "#fb9f3a"
            ],
            [
             0.8888888888888888,
             "#fdca26"
            ],
            [
             1,
             "#f0f921"
            ]
           ]
          },
          "colorway": [
           "#636efa",
           "#EF553B",
           "#00cc96",
           "#ab63fa",
           "#FFA15A",
           "#19d3f3",
           "#FF6692",
           "#B6E880",
           "#FF97FF",
           "#FECB52"
          ],
          "font": {
           "color": "#2a3f5f"
          },
          "geo": {
           "bgcolor": "white",
           "lakecolor": "white",
           "landcolor": "#E5ECF6",
           "showlakes": true,
           "showland": true,
           "subunitcolor": "white"
          },
          "hoverlabel": {
           "align": "left"
          },
          "hovermode": "closest",
          "mapbox": {
           "style": "light"
          },
          "paper_bgcolor": "white",
          "plot_bgcolor": "#E5ECF6",
          "polar": {
           "angularaxis": {
            "gridcolor": "white",
            "linecolor": "white",
            "ticks": ""
           },
           "bgcolor": "#E5ECF6",
           "radialaxis": {
            "gridcolor": "white",
            "linecolor": "white",
            "ticks": ""
           }
          },
          "scene": {
           "xaxis": {
            "backgroundcolor": "#E5ECF6",
            "gridcolor": "white",
            "gridwidth": 2,
            "linecolor": "white",
            "showbackground": true,
            "ticks": "",
            "zerolinecolor": "white"
           },
           "yaxis": {
            "backgroundcolor": "#E5ECF6",
            "gridcolor": "white",
            "gridwidth": 2,
            "linecolor": "white",
            "showbackground": true,
            "ticks": "",
            "zerolinecolor": "white"
           },
           "zaxis": {
            "backgroundcolor": "#E5ECF6",
            "gridcolor": "white",
            "gridwidth": 2,
            "linecolor": "white",
            "showbackground": true,
            "ticks": "",
            "zerolinecolor": "white"
           }
          },
          "shapedefaults": {
           "line": {
            "color": "#2a3f5f"
           }
          },
          "ternary": {
           "aaxis": {
            "gridcolor": "white",
            "linecolor": "white",
            "ticks": ""
           },
           "baxis": {
            "gridcolor": "white",
            "linecolor": "white",
            "ticks": ""
           },
           "bgcolor": "#E5ECF6",
           "caxis": {
            "gridcolor": "white",
            "linecolor": "white",
            "ticks": ""
           }
          },
          "title": {
           "x": 0.05
          },
          "xaxis": {
           "automargin": true,
           "gridcolor": "white",
           "linecolor": "white",
           "ticks": "",
           "title": {
            "standoff": 15
           },
           "zerolinecolor": "white",
           "zerolinewidth": 2
          },
          "yaxis": {
           "automargin": true,
           "gridcolor": "white",
           "linecolor": "white",
           "ticks": "",
           "title": {
            "standoff": 15
           },
           "zerolinecolor": "white",
           "zerolinewidth": 2
          }
         }
        },
        "title": {
         "text": "범죄에 따른 자백발생횟수 boxplot"
        },
        "xaxis": {
         "anchor": "y",
         "domain": [
          0,
          1
         ],
         "title": {
          "text": "범죄명"
         }
        },
        "yaxis": {
         "anchor": "x",
         "domain": [
          0,
          1
         ],
         "title": {
          "text": "자백발생횟수"
         }
        }
       }
      }
     },
     "metadata": {},
     "output_type": "display_data"
    }
   ],
   "source": [
    "px.box(df, x='범죄명', y='자백발생횟수', title='범죄에 따른 자백발생횟수 boxplot')\n"
   ]
  },
  {
   "cell_type": "code",
   "execution_count": 70,
   "metadata": {},
   "outputs": [
    {
     "data": {
      "text/html": [
       "<div>\n",
       "<style scoped>\n",
       "    .dataframe tbody tr th:only-of-type {\n",
       "        vertical-align: middle;\n",
       "    }\n",
       "\n",
       "    .dataframe tbody tr th {\n",
       "        vertical-align: top;\n",
       "    }\n",
       "\n",
       "    .dataframe thead th {\n",
       "        text-align: right;\n",
       "    }\n",
       "</style>\n",
       "<table border=\"1\" class=\"dataframe\">\n",
       "  <thead>\n",
       "    <tr style=\"text-align: right;\">\n",
       "      <th></th>\n",
       "      <th>연도</th>\n",
       "      <th>범죄명</th>\n",
       "      <th>자백발생횟수</th>\n",
       "      <th>재범발생횟수</th>\n",
       "      <th>공범자수</th>\n",
       "      <th>마약소지</th>\n",
       "    </tr>\n",
       "  </thead>\n",
       "  <tbody>\n",
       "    <tr>\n",
       "      <th>0</th>\n",
       "      <td>2011</td>\n",
       "      <td>강간·강제추행</td>\n",
       "      <td>17652</td>\n",
       "      <td>8324</td>\n",
       "      <td>0</td>\n",
       "      <td>14</td>\n",
       "    </tr>\n",
       "    <tr>\n",
       "      <th>1</th>\n",
       "      <td>2011</td>\n",
       "      <td>강도</td>\n",
       "      <td>4890</td>\n",
       "      <td>3230</td>\n",
       "      <td>0</td>\n",
       "      <td>12</td>\n",
       "    </tr>\n",
       "    <tr>\n",
       "      <th>2</th>\n",
       "      <td>2011</td>\n",
       "      <td>공갈</td>\n",
       "      <td>3786</td>\n",
       "      <td>1949</td>\n",
       "      <td>0</td>\n",
       "      <td>5</td>\n",
       "    </tr>\n",
       "    <tr>\n",
       "      <th>3</th>\n",
       "      <td>2011</td>\n",
       "      <td>교통범죄</td>\n",
       "      <td>524350</td>\n",
       "      <td>253502</td>\n",
       "      <td>0</td>\n",
       "      <td>82</td>\n",
       "    </tr>\n",
       "    <tr>\n",
       "      <th>4</th>\n",
       "      <td>2011</td>\n",
       "      <td>기타범죄</td>\n",
       "      <td>224781</td>\n",
       "      <td>111959</td>\n",
       "      <td>0</td>\n",
       "      <td>102</td>\n",
       "    </tr>\n",
       "  </tbody>\n",
       "</table>\n",
       "</div>"
      ],
      "text/plain": [
       "     연도      범죄명  자백발생횟수  재범발생횟수  공범자수  마약소지\n",
       "0  2011  강간·강제추행   17652    8324     0    14\n",
       "1  2011       강도    4890    3230     0    12\n",
       "2  2011       공갈    3786    1949     0     5\n",
       "3  2011     교통범죄  524350  253502     0    82\n",
       "4  2011     기타범죄  224781  111959     0   102"
      ]
     },
     "execution_count": 70,
     "metadata": {},
     "output_type": "execute_result"
    }
   ],
   "source": [
    "df.head()"
   ]
  },
  {
   "cell_type": "code",
   "execution_count": 72,
   "metadata": {},
   "outputs": [
    {
     "data": {
      "application/vnd.plotly.v1+json": {
       "config": {
        "plotlyServerURL": "https://plot.ly"
       },
       "data": [
        {
         "alignmentgroup": "True",
         "hovertemplate": "범죄명=%{x}<br>공범자수=%{y}<extra></extra>",
         "legendgroup": "",
         "marker": {
          "color": "#636efa"
         },
         "name": "",
         "notched": false,
         "offsetgroup": "",
         "orientation": "v",
         "showlegend": false,
         "type": "box",
         "x": [
          "강간·강제추행",
          "강도",
          "공갈",
          "교통범죄",
          "기타범죄",
          "노동범죄",
          "도박범죄",
          "마약범죄",
          "문서·인장",
          "방화",
          "배임",
          "병역범죄",
          "보건범죄",
          "사기",
          "살인기수",
          "살인미수등",
          "상해",
          "선거범죄",
          "성풍속범죄",
          "손괴",
          "안보범죄",
          "약취·유인",
          "유가증권인지",
          "절도범죄",
          "증수뢰",
          "직권남용",
          "직무유기",
          "체포·감금",
          "통화",
          "특별경제범죄",
          "폭력행위등",
          "폭행",
          "협박",
          "환경범죄",
          "횡령",
          "강간·강제추행",
          "강도",
          "공갈",
          "교통범죄",
          "기타범죄",
          "노동범죄",
          "도박범죄",
          "마약범죄",
          "문서·인장",
          "방화",
          "배임",
          "병역범죄",
          "보건범죄",
          "사기",
          "살인기수",
          "살인미수등",
          "상해",
          "선거범죄",
          "성풍속범죄",
          "손괴",
          "안보범죄",
          "약취·유인",
          "유가증권인지",
          "절도범죄",
          "증수뢰",
          "직권남용",
          "직무유기",
          "체포·감금",
          "통화",
          "특별경제범죄",
          "폭력행위등",
          "폭행",
          "협박",
          "환경범죄",
          "횡령",
          "강간",
          "강도",
          "강제추행",
          "공갈",
          "교통범죄",
          "기타 강간·강제추행등",
          "기타범죄",
          "노동범죄",
          "도박범죄",
          "마약범죄",
          "문서·인장",
          "방화",
          "배임",
          "병역범죄",
          "보건범죄",
          "사기",
          "살인기수",
          "살인미수등",
          "상해",
          "선거범죄",
          "성풍속범죄",
          "손괴",
          "안보범죄",
          "약취·유인",
          "유가증권인지",
          "유사강간",
          "절도범죄",
          "증수뢰",
          "직권남용",
          "직무유기",
          "체포·감금",
          "통화",
          "특별경제범죄",
          "폭력행위등",
          "폭행",
          "협박",
          "환경범죄",
          "횡령",
          "강간",
          "강도",
          "강제추행",
          "공갈",
          "교통범죄",
          "기타 강간·강제추행등",
          "기타범죄",
          "노동범죄",
          "도박범죄",
          "마약범죄",
          "문서·인장",
          "방화",
          "배임",
          "병역범죄",
          "보건범죄",
          "사기",
          "살인기수",
          "살인미수등",
          "상해",
          "선거범죄",
          "성풍속범죄",
          "손괴",
          "안보범죄",
          "약취·유인",
          "유가증권인지",
          "유사강간",
          "절도범죄",
          "증수뢰",
          "직권남용",
          "직무유기",
          "체포·감금",
          "통화",
          "특별경제범죄",
          "폭력행위등",
          "폭행",
          "협박",
          "환경범죄",
          "횡령",
          "강간",
          "강도",
          "강제추행",
          "공갈",
          "교통범죄",
          "기타 강간·강제추행등",
          "기타범죄",
          "노동범죄",
          "도박범죄",
          "마약범죄",
          "문서·인장",
          "방화",
          "배임",
          "병역범죄",
          "보건범죄",
          "사기",
          "살인기수",
          "살인미수등",
          "상해",
          "선거범죄",
          "성풍속범죄",
          "손괴",
          "안보범죄",
          "약취·유인",
          "유가증권인지",
          "유사강간",
          "절도범죄",
          "증수뢰",
          "직권남용",
          "직무유기",
          "체포·감금",
          "통화",
          "특별경제범죄",
          "폭력행위등",
          "폭행",
          "협박",
          "환경범죄",
          "횡령",
          "강간",
          "강도",
          "강제추행",
          "공갈",
          "교통범죄",
          "기타 강간·강제추행등",
          "기타범죄",
          "노동범죄",
          "도박범죄",
          "마약범죄",
          "문서·인장",
          "방화",
          "배임",
          "병역범죄",
          "보건범죄",
          "사기",
          "살인기수",
          "살인미수등",
          "상해",
          "선거범죄",
          "성풍속범죄",
          "손괴",
          "안보범죄",
          "약취·유인",
          "유가증권인지",
          "유사강간",
          "절도범죄",
          "증수뢰",
          "직권남용",
          "직무유기",
          "체포·감금",
          "통화",
          "특별경제범죄",
          "폭력행위등",
          "폭행",
          "협박",
          "환경범죄",
          "횡령",
          "강간",
          "강도",
          "강제추행",
          "공갈",
          "교통범죄",
          "기타 강간·강제추행등",
          "기타범죄",
          "노동범죄",
          "도박범죄",
          "마약범죄",
          "문서·인장",
          "방화",
          "배임",
          "병역범죄",
          "보건범죄",
          "사기",
          "살인기수",
          "살인미수등",
          "상해",
          "선거범죄",
          "성풍속범죄",
          "손괴",
          "안보범죄",
          "약취·유인",
          "유가증권인지",
          "유사강간",
          "절도범죄",
          "증수뢰",
          "직권남용",
          "직무유기",
          "체포·감금",
          "통화",
          "특별경제범죄",
          "폭력행위등",
          "폭행",
          "협박",
          "환경범죄",
          "횡령",
          "강간",
          "강도",
          "강제추행",
          "공갈",
          "교통범죄",
          "기타 강간·강제추행등",
          "기타범죄",
          "노동범죄",
          "도박범죄",
          "마약범죄",
          "문서·인장",
          "방화",
          "배임",
          "병역범죄",
          "보건범죄",
          "사기",
          "살인기수",
          "살인미수등",
          "상해",
          "선거범죄",
          "성풍속범죄",
          "손괴",
          "안보범죄",
          "약취·유인",
          "유가증권인지",
          "유사강간",
          "절도범죄",
          "증수뢰",
          "직권남용",
          "직무유기",
          "체포·감금",
          "통화",
          "특별경제범죄",
          "폭력행위등",
          "폭행",
          "협박",
          "환경범죄",
          "횡령",
          "강간",
          "강도",
          "강제추행",
          "공갈",
          "교통범죄",
          "기타 강간·강제추행등",
          "기타범죄",
          "노동범죄",
          "도박범죄",
          "마약범죄",
          "문서·인장",
          "방화",
          "배임",
          "병역범죄",
          "보건범죄",
          "사기",
          "살인기수",
          "살인미수등",
          "상해",
          "선거범죄",
          "성풍속범죄",
          "손괴",
          "안보범죄",
          "약취·유인",
          "유가증권인지",
          "유사강간",
          "절도범죄",
          "증수뢰",
          "직권남용",
          "직무유기",
          "체포·감금",
          "통화",
          "특별경제범죄",
          "폭력행위등",
          "폭행",
          "협박",
          "환경범죄",
          "횡령",
          "강간",
          "강도",
          "강제추행",
          "공갈",
          "교통범죄",
          "기타 강간·강제추행등",
          "기타범죄",
          "노동범죄",
          "도박범죄",
          "마약범죄",
          "문서·인장",
          "방화",
          "배임",
          "병역범죄",
          "보건범죄",
          "사기",
          "살인기수",
          "살인미수등",
          "상해",
          "선거범죄",
          "성풍속범죄",
          "손괴",
          "안보범죄",
          "약취·유인",
          "유가증권인지",
          "유사강간",
          "절도범죄",
          "증수뢰",
          "직권남용",
          "직무유기",
          "체포·감금",
          "통화",
          "특별경제범죄",
          "폭력행위등",
          "폭행",
          "협박",
          "환경범죄",
          "횡령"
         ],
         "x0": " ",
         "xaxis": "x",
         "y": [
          0,
          0,
          0,
          0,
          0,
          0,
          0,
          0,
          0,
          0,
          0,
          0,
          0,
          0,
          0,
          0,
          0,
          0,
          0,
          0,
          0,
          0,
          0,
          0,
          0,
          0,
          0,
          0,
          0,
          0,
          0,
          0,
          0,
          0,
          0,
          1670,
          1856,
          1387,
          4896,
          51034,
          846,
          28198,
          1943,
          4289,
          216,
          1506,
          560,
          6853,
          35270,
          60,
          62,
          5916,
          618,
          2562,
          1762,
          38,
          73,
          115,
          39201,
          379,
          56,
          120,
          232,
          58,
          18818,
          70422,
          7642,
          341,
          788,
          3540,
          851,
          1393,
          474,
          650,
          3930,
          272,
          47986,
          800,
          22997,
          1852,
          4149,
          152,
          1754,
          502,
          7407,
          33649,
          49,
          62,
          4341,
          111,
          2256,
          1591,
          58,
          73,
          87,
          8,
          34858,
          398,
          72,
          85,
          124,
          73,
          13928,
          55210,
          6660,
          282,
          840,
          3760,
          739,
          1021,
          449,
          703,
          3818,
          133,
          50892,
          779,
          20667,
          1850,
          3910,
          164,
          2078,
          454,
          7299,
          32659,
          60,
          43,
          3701,
          969,
          2043,
          1395,
          14,
          75,
          106,
          26,
          28560,
          405,
          60,
          58,
          132,
          29,
          14866,
          47313,
          5968,
          263,
          656,
          3749,
          516,
          962,
          295,
          468,
          1871,
          93,
          43291,
          838,
          20970,
          2031,
          3188,
          127,
          1441,
          125,
          5509,
          30485,
          36,
          32,
          2256,
          336,
          575,
          1141,
          94,
          69,
          79,
          21,
          28201,
          307,
          40,
          66,
          164,
          54,
          13521,
          39684,
          4247,
          291,
          573,
          3493,
          540,
          830,
          344,
          739,
          3671,
          80,
          53122,
          2570,
          18129,
          2313,
          2834,
          141,
          1334,
          69,
          6568,
          30157,
          53,
          40,
          3882,
          504,
          420,
          1341,
          38,
          105,
          70,
          23,
          25559,
          348,
          46,
          62,
          313,
          61,
          13483,
          29867,
          6052,
          492,
          594,
          3265,
          539,
          684,
          353,
          775,
          3046,
          56,
          43779,
          1787,
          14785,
          2484,
          2438,
          113,
          1629,
          66,
          5294,
          30318,
          46,
          44,
          4481,
          122,
          427,
          1482,
          163,
          89,
          72,
          24,
          23510,
          496,
          87,
          35,
          350,
          50,
          14251,
          27357,
          7287,
          536,
          735,
          3254,
          505,
          510,
          542,
          785,
          5707,
          39,
          41216,
          817,
          13686,
          2703,
          2440,
          117,
          1301,
          538,
          4504,
          36527,
          52,
          48,
          4015,
          988,
          771,
          1731,
          100,
          73,
          49,
          49,
          20956,
          490,
          117,
          30,
          276,
          21,
          15563,
          24397,
          8328,
          767,
          773,
          3495,
          471,
          748,
          461,
          828,
          3971,
          59,
          40323,
          226,
          13115,
          3860,
          2437,
          119,
          1180,
          288,
          4741,
          41057,
          57,
          35,
          2976,
          325,
          791,
          1682,
          423,
          82,
          26,
          56,
          19802,
          439,
          99,
          51,
          303,
          27,
          17251,
          21410,
          6205,
          704,
          1101,
          3028,
          443,
          668,
          378,
          742,
          3978,
          51,
          33676,
          160,
          11870,
          4759,
          2188,
          101,
          1191,
          114,
          6271,
          45554,
          36,
          37,
          2309,
          533,
          696,
          1681,
          556,
          71,
          15,
          47,
          19550,
          268,
          65,
          27,
          344,
          7,
          14097,
          18738,
          5035,
          601,
          1010,
          2919
         ],
         "y0": " ",
         "yaxis": "y"
        }
       ],
       "layout": {
        "boxmode": "group",
        "legend": {
         "tracegroupgap": 0
        },
        "template": {
         "data": {
          "bar": [
           {
            "error_x": {
             "color": "#2a3f5f"
            },
            "error_y": {
             "color": "#2a3f5f"
            },
            "marker": {
             "line": {
              "color": "#E5ECF6",
              "width": 0.5
             },
             "pattern": {
              "fillmode": "overlay",
              "size": 10,
              "solidity": 0.2
             }
            },
            "type": "bar"
           }
          ],
          "barpolar": [
           {
            "marker": {
             "line": {
              "color": "#E5ECF6",
              "width": 0.5
             },
             "pattern": {
              "fillmode": "overlay",
              "size": 10,
              "solidity": 0.2
             }
            },
            "type": "barpolar"
           }
          ],
          "carpet": [
           {
            "aaxis": {
             "endlinecolor": "#2a3f5f",
             "gridcolor": "white",
             "linecolor": "white",
             "minorgridcolor": "white",
             "startlinecolor": "#2a3f5f"
            },
            "baxis": {
             "endlinecolor": "#2a3f5f",
             "gridcolor": "white",
             "linecolor": "white",
             "minorgridcolor": "white",
             "startlinecolor": "#2a3f5f"
            },
            "type": "carpet"
           }
          ],
          "choropleth": [
           {
            "colorbar": {
             "outlinewidth": 0,
             "ticks": ""
            },
            "type": "choropleth"
           }
          ],
          "contour": [
           {
            "colorbar": {
             "outlinewidth": 0,
             "ticks": ""
            },
            "colorscale": [
             [
              0,
              "#0d0887"
             ],
             [
              0.1111111111111111,
              "#46039f"
             ],
             [
              0.2222222222222222,
              "#7201a8"
             ],
             [
              0.3333333333333333,
              "#9c179e"
             ],
             [
              0.4444444444444444,
              "#bd3786"
             ],
             [
              0.5555555555555556,
              "#d8576b"
             ],
             [
              0.6666666666666666,
              "#ed7953"
             ],
             [
              0.7777777777777778,
              "#fb9f3a"
             ],
             [
              0.8888888888888888,
              "#fdca26"
             ],
             [
              1,
              "#f0f921"
             ]
            ],
            "type": "contour"
           }
          ],
          "contourcarpet": [
           {
            "colorbar": {
             "outlinewidth": 0,
             "ticks": ""
            },
            "type": "contourcarpet"
           }
          ],
          "heatmap": [
           {
            "colorbar": {
             "outlinewidth": 0,
             "ticks": ""
            },
            "colorscale": [
             [
              0,
              "#0d0887"
             ],
             [
              0.1111111111111111,
              "#46039f"
             ],
             [
              0.2222222222222222,
              "#7201a8"
             ],
             [
              0.3333333333333333,
              "#9c179e"
             ],
             [
              0.4444444444444444,
              "#bd3786"
             ],
             [
              0.5555555555555556,
              "#d8576b"
             ],
             [
              0.6666666666666666,
              "#ed7953"
             ],
             [
              0.7777777777777778,
              "#fb9f3a"
             ],
             [
              0.8888888888888888,
              "#fdca26"
             ],
             [
              1,
              "#f0f921"
             ]
            ],
            "type": "heatmap"
           }
          ],
          "heatmapgl": [
           {
            "colorbar": {
             "outlinewidth": 0,
             "ticks": ""
            },
            "colorscale": [
             [
              0,
              "#0d0887"
             ],
             [
              0.1111111111111111,
              "#46039f"
             ],
             [
              0.2222222222222222,
              "#7201a8"
             ],
             [
              0.3333333333333333,
              "#9c179e"
             ],
             [
              0.4444444444444444,
              "#bd3786"
             ],
             [
              0.5555555555555556,
              "#d8576b"
             ],
             [
              0.6666666666666666,
              "#ed7953"
             ],
             [
              0.7777777777777778,
              "#fb9f3a"
             ],
             [
              0.8888888888888888,
              "#fdca26"
             ],
             [
              1,
              "#f0f921"
             ]
            ],
            "type": "heatmapgl"
           }
          ],
          "histogram": [
           {
            "marker": {
             "pattern": {
              "fillmode": "overlay",
              "size": 10,
              "solidity": 0.2
             }
            },
            "type": "histogram"
           }
          ],
          "histogram2d": [
           {
            "colorbar": {
             "outlinewidth": 0,
             "ticks": ""
            },
            "colorscale": [
             [
              0,
              "#0d0887"
             ],
             [
              0.1111111111111111,
              "#46039f"
             ],
             [
              0.2222222222222222,
              "#7201a8"
             ],
             [
              0.3333333333333333,
              "#9c179e"
             ],
             [
              0.4444444444444444,
              "#bd3786"
             ],
             [
              0.5555555555555556,
              "#d8576b"
             ],
             [
              0.6666666666666666,
              "#ed7953"
             ],
             [
              0.7777777777777778,
              "#fb9f3a"
             ],
             [
              0.8888888888888888,
              "#fdca26"
             ],
             [
              1,
              "#f0f921"
             ]
            ],
            "type": "histogram2d"
           }
          ],
          "histogram2dcontour": [
           {
            "colorbar": {
             "outlinewidth": 0,
             "ticks": ""
            },
            "colorscale": [
             [
              0,
              "#0d0887"
             ],
             [
              0.1111111111111111,
              "#46039f"
             ],
             [
              0.2222222222222222,
              "#7201a8"
             ],
             [
              0.3333333333333333,
              "#9c179e"
             ],
             [
              0.4444444444444444,
              "#bd3786"
             ],
             [
              0.5555555555555556,
              "#d8576b"
             ],
             [
              0.6666666666666666,
              "#ed7953"
             ],
             [
              0.7777777777777778,
              "#fb9f3a"
             ],
             [
              0.8888888888888888,
              "#fdca26"
             ],
             [
              1,
              "#f0f921"
             ]
            ],
            "type": "histogram2dcontour"
           }
          ],
          "mesh3d": [
           {
            "colorbar": {
             "outlinewidth": 0,
             "ticks": ""
            },
            "type": "mesh3d"
           }
          ],
          "parcoords": [
           {
            "line": {
             "colorbar": {
              "outlinewidth": 0,
              "ticks": ""
             }
            },
            "type": "parcoords"
           }
          ],
          "pie": [
           {
            "automargin": true,
            "type": "pie"
           }
          ],
          "scatter": [
           {
            "fillpattern": {
             "fillmode": "overlay",
             "size": 10,
             "solidity": 0.2
            },
            "type": "scatter"
           }
          ],
          "scatter3d": [
           {
            "line": {
             "colorbar": {
              "outlinewidth": 0,
              "ticks": ""
             }
            },
            "marker": {
             "colorbar": {
              "outlinewidth": 0,
              "ticks": ""
             }
            },
            "type": "scatter3d"
           }
          ],
          "scattercarpet": [
           {
            "marker": {
             "colorbar": {
              "outlinewidth": 0,
              "ticks": ""
             }
            },
            "type": "scattercarpet"
           }
          ],
          "scattergeo": [
           {
            "marker": {
             "colorbar": {
              "outlinewidth": 0,
              "ticks": ""
             }
            },
            "type": "scattergeo"
           }
          ],
          "scattergl": [
           {
            "marker": {
             "colorbar": {
              "outlinewidth": 0,
              "ticks": ""
             }
            },
            "type": "scattergl"
           }
          ],
          "scattermapbox": [
           {
            "marker": {
             "colorbar": {
              "outlinewidth": 0,
              "ticks": ""
             }
            },
            "type": "scattermapbox"
           }
          ],
          "scatterpolar": [
           {
            "marker": {
             "colorbar": {
              "outlinewidth": 0,
              "ticks": ""
             }
            },
            "type": "scatterpolar"
           }
          ],
          "scatterpolargl": [
           {
            "marker": {
             "colorbar": {
              "outlinewidth": 0,
              "ticks": ""
             }
            },
            "type": "scatterpolargl"
           }
          ],
          "scatterternary": [
           {
            "marker": {
             "colorbar": {
              "outlinewidth": 0,
              "ticks": ""
             }
            },
            "type": "scatterternary"
           }
          ],
          "surface": [
           {
            "colorbar": {
             "outlinewidth": 0,
             "ticks": ""
            },
            "colorscale": [
             [
              0,
              "#0d0887"
             ],
             [
              0.1111111111111111,
              "#46039f"
             ],
             [
              0.2222222222222222,
              "#7201a8"
             ],
             [
              0.3333333333333333,
              "#9c179e"
             ],
             [
              0.4444444444444444,
              "#bd3786"
             ],
             [
              0.5555555555555556,
              "#d8576b"
             ],
             [
              0.6666666666666666,
              "#ed7953"
             ],
             [
              0.7777777777777778,
              "#fb9f3a"
             ],
             [
              0.8888888888888888,
              "#fdca26"
             ],
             [
              1,
              "#f0f921"
             ]
            ],
            "type": "surface"
           }
          ],
          "table": [
           {
            "cells": {
             "fill": {
              "color": "#EBF0F8"
             },
             "line": {
              "color": "white"
             }
            },
            "header": {
             "fill": {
              "color": "#C8D4E3"
             },
             "line": {
              "color": "white"
             }
            },
            "type": "table"
           }
          ]
         },
         "layout": {
          "annotationdefaults": {
           "arrowcolor": "#2a3f5f",
           "arrowhead": 0,
           "arrowwidth": 1
          },
          "autotypenumbers": "strict",
          "coloraxis": {
           "colorbar": {
            "outlinewidth": 0,
            "ticks": ""
           }
          },
          "colorscale": {
           "diverging": [
            [
             0,
             "#8e0152"
            ],
            [
             0.1,
             "#c51b7d"
            ],
            [
             0.2,
             "#de77ae"
            ],
            [
             0.3,
             "#f1b6da"
            ],
            [
             0.4,
             "#fde0ef"
            ],
            [
             0.5,
             "#f7f7f7"
            ],
            [
             0.6,
             "#e6f5d0"
            ],
            [
             0.7,
             "#b8e186"
            ],
            [
             0.8,
             "#7fbc41"
            ],
            [
             0.9,
             "#4d9221"
            ],
            [
             1,
             "#276419"
            ]
           ],
           "sequential": [
            [
             0,
             "#0d0887"
            ],
            [
             0.1111111111111111,
             "#46039f"
            ],
            [
             0.2222222222222222,
             "#7201a8"
            ],
            [
             0.3333333333333333,
             "#9c179e"
            ],
            [
             0.4444444444444444,
             "#bd3786"
            ],
            [
             0.5555555555555556,
             "#d8576b"
            ],
            [
             0.6666666666666666,
             "#ed7953"
            ],
            [
             0.7777777777777778,
             "#fb9f3a"
            ],
            [
             0.8888888888888888,
             "#fdca26"
            ],
            [
             1,
             "#f0f921"
            ]
           ],
           "sequentialminus": [
            [
             0,
             "#0d0887"
            ],
            [
             0.1111111111111111,
             "#46039f"
            ],
            [
             0.2222222222222222,
             "#7201a8"
            ],
            [
             0.3333333333333333,
             "#9c179e"
            ],
            [
             0.4444444444444444,
             "#bd3786"
            ],
            [
             0.5555555555555556,
             "#d8576b"
            ],
            [
             0.6666666666666666,
             "#ed7953"
            ],
            [
             0.7777777777777778,
             "#fb9f3a"
            ],
            [
             0.8888888888888888,
             "#fdca26"
            ],
            [
             1,
             "#f0f921"
            ]
           ]
          },
          "colorway": [
           "#636efa",
           "#EF553B",
           "#00cc96",
           "#ab63fa",
           "#FFA15A",
           "#19d3f3",
           "#FF6692",
           "#B6E880",
           "#FF97FF",
           "#FECB52"
          ],
          "font": {
           "color": "#2a3f5f"
          },
          "geo": {
           "bgcolor": "white",
           "lakecolor": "white",
           "landcolor": "#E5ECF6",
           "showlakes": true,
           "showland": true,
           "subunitcolor": "white"
          },
          "hoverlabel": {
           "align": "left"
          },
          "hovermode": "closest",
          "mapbox": {
           "style": "light"
          },
          "paper_bgcolor": "white",
          "plot_bgcolor": "#E5ECF6",
          "polar": {
           "angularaxis": {
            "gridcolor": "white",
            "linecolor": "white",
            "ticks": ""
           },
           "bgcolor": "#E5ECF6",
           "radialaxis": {
            "gridcolor": "white",
            "linecolor": "white",
            "ticks": ""
           }
          },
          "scene": {
           "xaxis": {
            "backgroundcolor": "#E5ECF6",
            "gridcolor": "white",
            "gridwidth": 2,
            "linecolor": "white",
            "showbackground": true,
            "ticks": "",
            "zerolinecolor": "white"
           },
           "yaxis": {
            "backgroundcolor": "#E5ECF6",
            "gridcolor": "white",
            "gridwidth": 2,
            "linecolor": "white",
            "showbackground": true,
            "ticks": "",
            "zerolinecolor": "white"
           },
           "zaxis": {
            "backgroundcolor": "#E5ECF6",
            "gridcolor": "white",
            "gridwidth": 2,
            "linecolor": "white",
            "showbackground": true,
            "ticks": "",
            "zerolinecolor": "white"
           }
          },
          "shapedefaults": {
           "line": {
            "color": "#2a3f5f"
           }
          },
          "ternary": {
           "aaxis": {
            "gridcolor": "white",
            "linecolor": "white",
            "ticks": ""
           },
           "baxis": {
            "gridcolor": "white",
            "linecolor": "white",
            "ticks": ""
           },
           "bgcolor": "#E5ECF6",
           "caxis": {
            "gridcolor": "white",
            "linecolor": "white",
            "ticks": ""
           }
          },
          "title": {
           "x": 0.05
          },
          "xaxis": {
           "automargin": true,
           "gridcolor": "white",
           "linecolor": "white",
           "ticks": "",
           "title": {
            "standoff": 15
           },
           "zerolinecolor": "white",
           "zerolinewidth": 2
          },
          "yaxis": {
           "automargin": true,
           "gridcolor": "white",
           "linecolor": "white",
           "ticks": "",
           "title": {
            "standoff": 15
           },
           "zerolinecolor": "white",
           "zerolinewidth": 2
          }
         }
        },
        "title": {
         "text": "범죄에 따른 공범자수 boxplot"
        },
        "xaxis": {
         "anchor": "y",
         "domain": [
          0,
          1
         ],
         "title": {
          "text": "범죄명"
         }
        },
        "yaxis": {
         "anchor": "x",
         "domain": [
          0,
          1
         ],
         "title": {
          "text": "공범자수"
         }
        }
       }
      }
     },
     "metadata": {},
     "output_type": "display_data"
    }
   ],
   "source": [
    "px.box(df, x='범죄명', y='공범자수', title='범죄에 따른 공범자수 boxplot')\n"
   ]
  },
  {
   "cell_type": "code",
   "execution_count": 74,
   "metadata": {},
   "outputs": [
    {
     "data": {
      "application/vnd.plotly.v1+json": {
       "config": {
        "plotlyServerURL": "https://plot.ly"
       },
       "data": [
        {
         "alignmentgroup": "True",
         "hovertemplate": "범죄명=%{x}<br>마약소지=%{y}<extra></extra>",
         "legendgroup": "",
         "marker": {
          "color": "#636efa"
         },
         "name": "",
         "notched": false,
         "offsetgroup": "",
         "orientation": "v",
         "showlegend": false,
         "type": "box",
         "x": [
          "강간·강제추행",
          "강도",
          "공갈",
          "교통범죄",
          "기타범죄",
          "노동범죄",
          "도박범죄",
          "마약범죄",
          "문서·인장",
          "방화",
          "배임",
          "병역범죄",
          "보건범죄",
          "사기",
          "살인기수",
          "살인미수등",
          "상해",
          "선거범죄",
          "성풍속범죄",
          "손괴",
          "안보범죄",
          "약취·유인",
          "유가증권인지",
          "절도범죄",
          "증수뢰",
          "직권남용",
          "직무유기",
          "체포·감금",
          "통화",
          "특별경제범죄",
          "폭력행위등",
          "폭행",
          "협박",
          "환경범죄",
          "횡령",
          "강간·강제추행",
          "강도",
          "공갈",
          "교통범죄",
          "기타범죄",
          "노동범죄",
          "도박범죄",
          "마약범죄",
          "문서·인장",
          "방화",
          "배임",
          "병역범죄",
          "보건범죄",
          "사기",
          "살인기수",
          "살인미수등",
          "상해",
          "선거범죄",
          "성풍속범죄",
          "손괴",
          "안보범죄",
          "약취·유인",
          "유가증권인지",
          "절도범죄",
          "증수뢰",
          "직권남용",
          "직무유기",
          "체포·감금",
          "통화",
          "특별경제범죄",
          "폭력행위등",
          "폭행",
          "협박",
          "환경범죄",
          "횡령",
          "강간",
          "강도",
          "강제추행",
          "공갈",
          "교통범죄",
          "기타 강간·강제추행등",
          "기타범죄",
          "노동범죄",
          "도박범죄",
          "마약범죄",
          "문서·인장",
          "방화",
          "배임",
          "병역범죄",
          "보건범죄",
          "사기",
          "살인기수",
          "살인미수등",
          "상해",
          "선거범죄",
          "성풍속범죄",
          "손괴",
          "안보범죄",
          "약취·유인",
          "유가증권인지",
          "유사강간",
          "절도범죄",
          "증수뢰",
          "직권남용",
          "직무유기",
          "체포·감금",
          "통화",
          "특별경제범죄",
          "폭력행위등",
          "폭행",
          "협박",
          "환경범죄",
          "횡령",
          "강간",
          "강도",
          "강제추행",
          "공갈",
          "교통범죄",
          "기타 강간·강제추행등",
          "기타범죄",
          "노동범죄",
          "도박범죄",
          "마약범죄",
          "문서·인장",
          "방화",
          "배임",
          "병역범죄",
          "보건범죄",
          "사기",
          "살인기수",
          "살인미수등",
          "상해",
          "선거범죄",
          "성풍속범죄",
          "손괴",
          "안보범죄",
          "약취·유인",
          "유가증권인지",
          "유사강간",
          "절도범죄",
          "증수뢰",
          "직권남용",
          "직무유기",
          "체포·감금",
          "통화",
          "특별경제범죄",
          "폭력행위등",
          "폭행",
          "협박",
          "환경범죄",
          "횡령",
          "강간",
          "강도",
          "강제추행",
          "공갈",
          "교통범죄",
          "기타 강간·강제추행등",
          "기타범죄",
          "노동범죄",
          "도박범죄",
          "마약범죄",
          "문서·인장",
          "방화",
          "배임",
          "병역범죄",
          "보건범죄",
          "사기",
          "살인기수",
          "살인미수등",
          "상해",
          "선거범죄",
          "성풍속범죄",
          "손괴",
          "안보범죄",
          "약취·유인",
          "유가증권인지",
          "유사강간",
          "절도범죄",
          "증수뢰",
          "직권남용",
          "직무유기",
          "체포·감금",
          "통화",
          "특별경제범죄",
          "폭력행위등",
          "폭행",
          "협박",
          "환경범죄",
          "횡령",
          "강간",
          "강도",
          "강제추행",
          "공갈",
          "교통범죄",
          "기타 강간·강제추행등",
          "기타범죄",
          "노동범죄",
          "도박범죄",
          "마약범죄",
          "문서·인장",
          "방화",
          "배임",
          "병역범죄",
          "보건범죄",
          "사기",
          "살인기수",
          "살인미수등",
          "상해",
          "선거범죄",
          "성풍속범죄",
          "손괴",
          "안보범죄",
          "약취·유인",
          "유가증권인지",
          "유사강간",
          "절도범죄",
          "증수뢰",
          "직권남용",
          "직무유기",
          "체포·감금",
          "통화",
          "특별경제범죄",
          "폭력행위등",
          "폭행",
          "협박",
          "환경범죄",
          "횡령",
          "강간",
          "강도",
          "강제추행",
          "공갈",
          "교통범죄",
          "기타 강간·강제추행등",
          "기타범죄",
          "노동범죄",
          "도박범죄",
          "마약범죄",
          "문서·인장",
          "방화",
          "배임",
          "병역범죄",
          "보건범죄",
          "사기",
          "살인기수",
          "살인미수등",
          "상해",
          "선거범죄",
          "성풍속범죄",
          "손괴",
          "안보범죄",
          "약취·유인",
          "유가증권인지",
          "유사강간",
          "절도범죄",
          "증수뢰",
          "직권남용",
          "직무유기",
          "체포·감금",
          "통화",
          "특별경제범죄",
          "폭력행위등",
          "폭행",
          "협박",
          "환경범죄",
          "횡령",
          "강간",
          "강도",
          "강제추행",
          "공갈",
          "교통범죄",
          "기타 강간·강제추행등",
          "기타범죄",
          "노동범죄",
          "도박범죄",
          "마약범죄",
          "문서·인장",
          "방화",
          "배임",
          "병역범죄",
          "보건범죄",
          "사기",
          "살인기수",
          "살인미수등",
          "상해",
          "선거범죄",
          "성풍속범죄",
          "손괴",
          "안보범죄",
          "약취·유인",
          "유가증권인지",
          "유사강간",
          "절도범죄",
          "증수뢰",
          "직권남용",
          "직무유기",
          "체포·감금",
          "통화",
          "특별경제범죄",
          "폭력행위등",
          "폭행",
          "협박",
          "환경범죄",
          "횡령",
          "강간",
          "강도",
          "강제추행",
          "공갈",
          "교통범죄",
          "기타 강간·강제추행등",
          "기타범죄",
          "노동범죄",
          "도박범죄",
          "마약범죄",
          "문서·인장",
          "방화",
          "배임",
          "병역범죄",
          "보건범죄",
          "사기",
          "살인기수",
          "살인미수등",
          "상해",
          "선거범죄",
          "성풍속범죄",
          "손괴",
          "안보범죄",
          "약취·유인",
          "유가증권인지",
          "유사강간",
          "절도범죄",
          "증수뢰",
          "직권남용",
          "직무유기",
          "체포·감금",
          "통화",
          "특별경제범죄",
          "폭력행위등",
          "폭행",
          "협박",
          "환경범죄",
          "횡령",
          "강간",
          "강도",
          "강제추행",
          "공갈",
          "교통범죄",
          "기타 강간·강제추행등",
          "기타범죄",
          "노동범죄",
          "도박범죄",
          "마약범죄",
          "문서·인장",
          "방화",
          "배임",
          "병역범죄",
          "보건범죄",
          "사기",
          "살인기수",
          "살인미수등",
          "상해",
          "선거범죄",
          "성풍속범죄",
          "손괴",
          "안보범죄",
          "약취·유인",
          "유가증권인지",
          "유사강간",
          "절도범죄",
          "증수뢰",
          "직권남용",
          "직무유기",
          "체포·감금",
          "통화",
          "특별경제범죄",
          "폭력행위등",
          "폭행",
          "협박",
          "환경범죄",
          "횡령"
         ],
         "x0": " ",
         "xaxis": "x",
         "y": [
          14,
          12,
          5,
          82,
          102,
          0,
          27,
          2947,
          12,
          0,
          1,
          5,
          7,
          100,
          2,
          2,
          19,
          0,
          4,
          7,
          0,
          0,
          0,
          62,
          0,
          0,
          0,
          0,
          0,
          31,
          35,
          22,
          0,
          1,
          6,
          14,
          15,
          5,
          79,
          89,
          0,
          11,
          2944,
          1,
          1,
          0,
          7,
          6,
          69,
          1,
          3,
          17,
          0,
          7,
          11,
          0,
          0,
          0,
          49,
          1,
          0,
          0,
          2,
          0,
          31,
          33,
          23,
          0,
          0,
          8,
          13,
          10,
          4,
          1,
          70,
          3,
          87,
          1,
          10,
          3003,
          5,
          4,
          0,
          13,
          4,
          98,
          3,
          3,
          13,
          0,
          5,
          5,
          0,
          0,
          0,
          0,
          51,
          0,
          0,
          0,
          1,
          1,
          30,
          23,
          18,
          2,
          0,
          8,
          14,
          13,
          1,
          6,
          53,
          1,
          72,
          0,
          2,
          3101,
          7,
          3,
          0,
          5,
          4,
          87,
          2,
          5,
          7,
          0,
          6,
          6,
          0,
          0,
          0,
          2,
          55,
          0,
          0,
          0,
          0,
          0,
          14,
          26,
          15,
          1,
          0,
          11,
          13,
          6,
          3,
          0,
          47,
          1,
          47,
          0,
          3,
          785,
          0,
          2,
          0,
          1,
          0,
          20,
          0,
          0,
          14,
          0,
          6,
          10,
          0,
          0,
          0,
          1,
          18,
          0,
          0,
          0,
          0,
          0,
          12,
          14,
          11,
          0,
          0,
          2,
          6,
          2,
          1,
          2,
          33,
          3,
          27,
          1,
          1,
          683,
          2,
          2,
          0,
          0,
          0,
          25,
          1,
          0,
          11,
          0,
          5,
          12,
          0,
          0,
          0,
          0,
          11,
          0,
          0,
          0,
          2,
          0,
          8,
          3,
          18,
          3,
          0,
          1,
          8,
          2,
          2,
          0,
          38,
          1,
          30,
          0,
          1,
          719,
          1,
          3,
          0,
          3,
          1,
          12,
          0,
          1,
          6,
          0,
          2,
          11,
          1,
          0,
          0,
          0,
          17,
          0,
          0,
          0,
          0,
          0,
          5,
          7,
          10,
          1,
          0,
          1,
          22,
          7,
          7,
          7,
          56,
          1,
          100,
          0,
          8,
          3837,
          3,
          2,
          0,
          3,
          3,
          70,
          1,
          2,
          15,
          0,
          5,
          14,
          0,
          0,
          2,
          1,
          42,
          0,
          0,
          0,
          0,
          1,
          19,
          9,
          25,
          10,
          0,
          10,
          18,
          7,
          5,
          2,
          48,
          3,
          96,
          1,
          4,
          5124,
          2,
          6,
          0,
          6,
          4,
          90,
          4,
          1,
          19,
          0,
          5,
          16,
          0,
          0,
          0,
          2,
          57,
          0,
          0,
          0,
          2,
          0,
          18,
          19,
          22,
          5,
          0,
          5,
          24,
          8,
          7,
          4,
          45,
          2,
          90,
          0,
          2,
          5423,
          5,
          3,
          0,
          1,
          14,
          71,
          3,
          2,
          5,
          0,
          3,
          7,
          0,
          0,
          0,
          0,
          37,
          0,
          0,
          0,
          1,
          0,
          11,
          2,
          26,
          6,
          0,
          4
         ],
         "y0": " ",
         "yaxis": "y"
        }
       ],
       "layout": {
        "boxmode": "group",
        "legend": {
         "tracegroupgap": 0
        },
        "template": {
         "data": {
          "bar": [
           {
            "error_x": {
             "color": "#2a3f5f"
            },
            "error_y": {
             "color": "#2a3f5f"
            },
            "marker": {
             "line": {
              "color": "#E5ECF6",
              "width": 0.5
             },
             "pattern": {
              "fillmode": "overlay",
              "size": 10,
              "solidity": 0.2
             }
            },
            "type": "bar"
           }
          ],
          "barpolar": [
           {
            "marker": {
             "line": {
              "color": "#E5ECF6",
              "width": 0.5
             },
             "pattern": {
              "fillmode": "overlay",
              "size": 10,
              "solidity": 0.2
             }
            },
            "type": "barpolar"
           }
          ],
          "carpet": [
           {
            "aaxis": {
             "endlinecolor": "#2a3f5f",
             "gridcolor": "white",
             "linecolor": "white",
             "minorgridcolor": "white",
             "startlinecolor": "#2a3f5f"
            },
            "baxis": {
             "endlinecolor": "#2a3f5f",
             "gridcolor": "white",
             "linecolor": "white",
             "minorgridcolor": "white",
             "startlinecolor": "#2a3f5f"
            },
            "type": "carpet"
           }
          ],
          "choropleth": [
           {
            "colorbar": {
             "outlinewidth": 0,
             "ticks": ""
            },
            "type": "choropleth"
           }
          ],
          "contour": [
           {
            "colorbar": {
             "outlinewidth": 0,
             "ticks": ""
            },
            "colorscale": [
             [
              0,
              "#0d0887"
             ],
             [
              0.1111111111111111,
              "#46039f"
             ],
             [
              0.2222222222222222,
              "#7201a8"
             ],
             [
              0.3333333333333333,
              "#9c179e"
             ],
             [
              0.4444444444444444,
              "#bd3786"
             ],
             [
              0.5555555555555556,
              "#d8576b"
             ],
             [
              0.6666666666666666,
              "#ed7953"
             ],
             [
              0.7777777777777778,
              "#fb9f3a"
             ],
             [
              0.8888888888888888,
              "#fdca26"
             ],
             [
              1,
              "#f0f921"
             ]
            ],
            "type": "contour"
           }
          ],
          "contourcarpet": [
           {
            "colorbar": {
             "outlinewidth": 0,
             "ticks": ""
            },
            "type": "contourcarpet"
           }
          ],
          "heatmap": [
           {
            "colorbar": {
             "outlinewidth": 0,
             "ticks": ""
            },
            "colorscale": [
             [
              0,
              "#0d0887"
             ],
             [
              0.1111111111111111,
              "#46039f"
             ],
             [
              0.2222222222222222,
              "#7201a8"
             ],
             [
              0.3333333333333333,
              "#9c179e"
             ],
             [
              0.4444444444444444,
              "#bd3786"
             ],
             [
              0.5555555555555556,
              "#d8576b"
             ],
             [
              0.6666666666666666,
              "#ed7953"
             ],
             [
              0.7777777777777778,
              "#fb9f3a"
             ],
             [
              0.8888888888888888,
              "#fdca26"
             ],
             [
              1,
              "#f0f921"
             ]
            ],
            "type": "heatmap"
           }
          ],
          "heatmapgl": [
           {
            "colorbar": {
             "outlinewidth": 0,
             "ticks": ""
            },
            "colorscale": [
             [
              0,
              "#0d0887"
             ],
             [
              0.1111111111111111,
              "#46039f"
             ],
             [
              0.2222222222222222,
              "#7201a8"
             ],
             [
              0.3333333333333333,
              "#9c179e"
             ],
             [
              0.4444444444444444,
              "#bd3786"
             ],
             [
              0.5555555555555556,
              "#d8576b"
             ],
             [
              0.6666666666666666,
              "#ed7953"
             ],
             [
              0.7777777777777778,
              "#fb9f3a"
             ],
             [
              0.8888888888888888,
              "#fdca26"
             ],
             [
              1,
              "#f0f921"
             ]
            ],
            "type": "heatmapgl"
           }
          ],
          "histogram": [
           {
            "marker": {
             "pattern": {
              "fillmode": "overlay",
              "size": 10,
              "solidity": 0.2
             }
            },
            "type": "histogram"
           }
          ],
          "histogram2d": [
           {
            "colorbar": {
             "outlinewidth": 0,
             "ticks": ""
            },
            "colorscale": [
             [
              0,
              "#0d0887"
             ],
             [
              0.1111111111111111,
              "#46039f"
             ],
             [
              0.2222222222222222,
              "#7201a8"
             ],
             [
              0.3333333333333333,
              "#9c179e"
             ],
             [
              0.4444444444444444,
              "#bd3786"
             ],
             [
              0.5555555555555556,
              "#d8576b"
             ],
             [
              0.6666666666666666,
              "#ed7953"
             ],
             [
              0.7777777777777778,
              "#fb9f3a"
             ],
             [
              0.8888888888888888,
              "#fdca26"
             ],
             [
              1,
              "#f0f921"
             ]
            ],
            "type": "histogram2d"
           }
          ],
          "histogram2dcontour": [
           {
            "colorbar": {
             "outlinewidth": 0,
             "ticks": ""
            },
            "colorscale": [
             [
              0,
              "#0d0887"
             ],
             [
              0.1111111111111111,
              "#46039f"
             ],
             [
              0.2222222222222222,
              "#7201a8"
             ],
             [
              0.3333333333333333,
              "#9c179e"
             ],
             [
              0.4444444444444444,
              "#bd3786"
             ],
             [
              0.5555555555555556,
              "#d8576b"
             ],
             [
              0.6666666666666666,
              "#ed7953"
             ],
             [
              0.7777777777777778,
              "#fb9f3a"
             ],
             [
              0.8888888888888888,
              "#fdca26"
             ],
             [
              1,
              "#f0f921"
             ]
            ],
            "type": "histogram2dcontour"
           }
          ],
          "mesh3d": [
           {
            "colorbar": {
             "outlinewidth": 0,
             "ticks": ""
            },
            "type": "mesh3d"
           }
          ],
          "parcoords": [
           {
            "line": {
             "colorbar": {
              "outlinewidth": 0,
              "ticks": ""
             }
            },
            "type": "parcoords"
           }
          ],
          "pie": [
           {
            "automargin": true,
            "type": "pie"
           }
          ],
          "scatter": [
           {
            "fillpattern": {
             "fillmode": "overlay",
             "size": 10,
             "solidity": 0.2
            },
            "type": "scatter"
           }
          ],
          "scatter3d": [
           {
            "line": {
             "colorbar": {
              "outlinewidth": 0,
              "ticks": ""
             }
            },
            "marker": {
             "colorbar": {
              "outlinewidth": 0,
              "ticks": ""
             }
            },
            "type": "scatter3d"
           }
          ],
          "scattercarpet": [
           {
            "marker": {
             "colorbar": {
              "outlinewidth": 0,
              "ticks": ""
             }
            },
            "type": "scattercarpet"
           }
          ],
          "scattergeo": [
           {
            "marker": {
             "colorbar": {
              "outlinewidth": 0,
              "ticks": ""
             }
            },
            "type": "scattergeo"
           }
          ],
          "scattergl": [
           {
            "marker": {
             "colorbar": {
              "outlinewidth": 0,
              "ticks": ""
             }
            },
            "type": "scattergl"
           }
          ],
          "scattermapbox": [
           {
            "marker": {
             "colorbar": {
              "outlinewidth": 0,
              "ticks": ""
             }
            },
            "type": "scattermapbox"
           }
          ],
          "scatterpolar": [
           {
            "marker": {
             "colorbar": {
              "outlinewidth": 0,
              "ticks": ""
             }
            },
            "type": "scatterpolar"
           }
          ],
          "scatterpolargl": [
           {
            "marker": {
             "colorbar": {
              "outlinewidth": 0,
              "ticks": ""
             }
            },
            "type": "scatterpolargl"
           }
          ],
          "scatterternary": [
           {
            "marker": {
             "colorbar": {
              "outlinewidth": 0,
              "ticks": ""
             }
            },
            "type": "scatterternary"
           }
          ],
          "surface": [
           {
            "colorbar": {
             "outlinewidth": 0,
             "ticks": ""
            },
            "colorscale": [
             [
              0,
              "#0d0887"
             ],
             [
              0.1111111111111111,
              "#46039f"
             ],
             [
              0.2222222222222222,
              "#7201a8"
             ],
             [
              0.3333333333333333,
              "#9c179e"
             ],
             [
              0.4444444444444444,
              "#bd3786"
             ],
             [
              0.5555555555555556,
              "#d8576b"
             ],
             [
              0.6666666666666666,
              "#ed7953"
             ],
             [
              0.7777777777777778,
              "#fb9f3a"
             ],
             [
              0.8888888888888888,
              "#fdca26"
             ],
             [
              1,
              "#f0f921"
             ]
            ],
            "type": "surface"
           }
          ],
          "table": [
           {
            "cells": {
             "fill": {
              "color": "#EBF0F8"
             },
             "line": {
              "color": "white"
             }
            },
            "header": {
             "fill": {
              "color": "#C8D4E3"
             },
             "line": {
              "color": "white"
             }
            },
            "type": "table"
           }
          ]
         },
         "layout": {
          "annotationdefaults": {
           "arrowcolor": "#2a3f5f",
           "arrowhead": 0,
           "arrowwidth": 1
          },
          "autotypenumbers": "strict",
          "coloraxis": {
           "colorbar": {
            "outlinewidth": 0,
            "ticks": ""
           }
          },
          "colorscale": {
           "diverging": [
            [
             0,
             "#8e0152"
            ],
            [
             0.1,
             "#c51b7d"
            ],
            [
             0.2,
             "#de77ae"
            ],
            [
             0.3,
             "#f1b6da"
            ],
            [
             0.4,
             "#fde0ef"
            ],
            [
             0.5,
             "#f7f7f7"
            ],
            [
             0.6,
             "#e6f5d0"
            ],
            [
             0.7,
             "#b8e186"
            ],
            [
             0.8,
             "#7fbc41"
            ],
            [
             0.9,
             "#4d9221"
            ],
            [
             1,
             "#276419"
            ]
           ],
           "sequential": [
            [
             0,
             "#0d0887"
            ],
            [
             0.1111111111111111,
             "#46039f"
            ],
            [
             0.2222222222222222,
             "#7201a8"
            ],
            [
             0.3333333333333333,
             "#9c179e"
            ],
            [
             0.4444444444444444,
             "#bd3786"
            ],
            [
             0.5555555555555556,
             "#d8576b"
            ],
            [
             0.6666666666666666,
             "#ed7953"
            ],
            [
             0.7777777777777778,
             "#fb9f3a"
            ],
            [
             0.8888888888888888,
             "#fdca26"
            ],
            [
             1,
             "#f0f921"
            ]
           ],
           "sequentialminus": [
            [
             0,
             "#0d0887"
            ],
            [
             0.1111111111111111,
             "#46039f"
            ],
            [
             0.2222222222222222,
             "#7201a8"
            ],
            [
             0.3333333333333333,
             "#9c179e"
            ],
            [
             0.4444444444444444,
             "#bd3786"
            ],
            [
             0.5555555555555556,
             "#d8576b"
            ],
            [
             0.6666666666666666,
             "#ed7953"
            ],
            [
             0.7777777777777778,
             "#fb9f3a"
            ],
            [
             0.8888888888888888,
             "#fdca26"
            ],
            [
             1,
             "#f0f921"
            ]
           ]
          },
          "colorway": [
           "#636efa",
           "#EF553B",
           "#00cc96",
           "#ab63fa",
           "#FFA15A",
           "#19d3f3",
           "#FF6692",
           "#B6E880",
           "#FF97FF",
           "#FECB52"
          ],
          "font": {
           "color": "#2a3f5f"
          },
          "geo": {
           "bgcolor": "white",
           "lakecolor": "white",
           "landcolor": "#E5ECF6",
           "showlakes": true,
           "showland": true,
           "subunitcolor": "white"
          },
          "hoverlabel": {
           "align": "left"
          },
          "hovermode": "closest",
          "mapbox": {
           "style": "light"
          },
          "paper_bgcolor": "white",
          "plot_bgcolor": "#E5ECF6",
          "polar": {
           "angularaxis": {
            "gridcolor": "white",
            "linecolor": "white",
            "ticks": ""
           },
           "bgcolor": "#E5ECF6",
           "radialaxis": {
            "gridcolor": "white",
            "linecolor": "white",
            "ticks": ""
           }
          },
          "scene": {
           "xaxis": {
            "backgroundcolor": "#E5ECF6",
            "gridcolor": "white",
            "gridwidth": 2,
            "linecolor": "white",
            "showbackground": true,
            "ticks": "",
            "zerolinecolor": "white"
           },
           "yaxis": {
            "backgroundcolor": "#E5ECF6",
            "gridcolor": "white",
            "gridwidth": 2,
            "linecolor": "white",
            "showbackground": true,
            "ticks": "",
            "zerolinecolor": "white"
           },
           "zaxis": {
            "backgroundcolor": "#E5ECF6",
            "gridcolor": "white",
            "gridwidth": 2,
            "linecolor": "white",
            "showbackground": true,
            "ticks": "",
            "zerolinecolor": "white"
           }
          },
          "shapedefaults": {
           "line": {
            "color": "#2a3f5f"
           }
          },
          "ternary": {
           "aaxis": {
            "gridcolor": "white",
            "linecolor": "white",
            "ticks": ""
           },
           "baxis": {
            "gridcolor": "white",
            "linecolor": "white",
            "ticks": ""
           },
           "bgcolor": "#E5ECF6",
           "caxis": {
            "gridcolor": "white",
            "linecolor": "white",
            "ticks": ""
           }
          },
          "title": {
           "x": 0.05
          },
          "xaxis": {
           "automargin": true,
           "gridcolor": "white",
           "linecolor": "white",
           "ticks": "",
           "title": {
            "standoff": 15
           },
           "zerolinecolor": "white",
           "zerolinewidth": 2
          },
          "yaxis": {
           "automargin": true,
           "gridcolor": "white",
           "linecolor": "white",
           "ticks": "",
           "title": {
            "standoff": 15
           },
           "zerolinecolor": "white",
           "zerolinewidth": 2
          }
         }
        },
        "title": {
         "text": "범죄에 따른 마약소지 boxplot"
        },
        "xaxis": {
         "anchor": "y",
         "domain": [
          0,
          1
         ],
         "title": {
          "text": "범죄명"
         }
        },
        "yaxis": {
         "anchor": "x",
         "domain": [
          0,
          1
         ],
         "title": {
          "text": "마약소지"
         }
        }
       }
      }
     },
     "metadata": {},
     "output_type": "display_data"
    }
   ],
   "source": [
    "px.box(df, x='범죄명', y='마약소지', title='범죄에 따른 마약소지 boxplot')\n"
   ]
  }
 ],
 "metadata": {
  "interpreter": {
   "hash": "dd2bdfad1ab26db227c1843957763d3a174f8536cb6672a59b557f5fb4c2622b"
  },
  "kernelspec": {
   "display_name": "Python 3.9.12 ('base')",
   "language": "python",
   "name": "python3"
  },
  "language_info": {
   "codemirror_mode": {
    "name": "ipython",
    "version": 3
   },
   "file_extension": ".py",
   "mimetype": "text/x-python",
   "name": "python",
   "nbconvert_exporter": "python",
   "pygments_lexer": "ipython3",
   "version": "3.9.12"
  },
  "orig_nbformat": 4
 },
 "nbformat": 4,
 "nbformat_minor": 2
}
