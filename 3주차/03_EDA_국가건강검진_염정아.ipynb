{
 "cells": [
  {
   "cell_type": "markdown",
   "metadata": {},
   "source": [
    "<center><h1><b>3주차 ✅ 국가건강검진 데이터 EDA</b></h1></center>"
   ]
  },
  {
   "cell_type": "markdown",
   "metadata": {},
   "source": [
    "---\n",
    "----\n",
    "\n",
    "<center><h2><b>데이터 가져오기</b></h2></center>\n"
   ]
  },
  {
   "cell_type": "code",
   "execution_count": null,
   "metadata": {
    "ExecuteTime": {
     "end_time": "2022-05-27T14:23:10.713576Z",
     "start_time": "2022-05-27T14:23:10.706301Z"
    }
   },
   "outputs": [],
   "source": [
    "# 라이브러리 import\n",
    "import pandas as pd\n",
    "import numpy as np\n",
    "import plotly.express as px\n",
    "import plotly.graph_objects as go"
   ]
  },
  {
   "cell_type": "code",
   "execution_count": null,
   "metadata": {
    "ExecuteTime": {
     "end_time": "2022-05-27T14:23:10.723839Z",
     "start_time": "2022-05-27T14:23:10.719130Z"
    }
   },
   "outputs": [],
   "source": [
    "# df_raw_raw 행/열 전체 보기\n",
    "pd.set_option(\"display.max_columns\", None)\n",
    "pd.set_option(\"display.max_rows\", None)"
   ]
  },
  {
   "cell_type": "code",
   "execution_count": null,
   "metadata": {
    "ExecuteTime": {
     "end_time": "2022-05-27T14:23:13.039845Z",
     "start_time": "2022-05-27T14:23:10.725348Z"
    }
   },
   "outputs": [],
   "source": [
    "# 데이터 불러오기\n",
    "df_raw = pd.read_csv('data/국민건강보험공단_건강검진정보_20211229.CSV', encoding='cp949')[:50000]\n",
    "df_raw.head()"
   ]
  },
  {
   "cell_type": "code",
   "execution_count": null,
   "metadata": {
    "ExecuteTime": {
     "end_time": "2022-05-27T14:23:13.043683Z",
     "start_time": "2022-05-27T14:23:13.041019Z"
    }
   },
   "outputs": [],
   "source": [
    "# 행/열 확인\n",
    "df_raw.shape"
   ]
  },
  {
   "cell_type": "code",
   "execution_count": null,
   "metadata": {
    "ExecuteTime": {
     "end_time": "2022-05-27T14:23:13.065163Z",
     "start_time": "2022-05-27T14:23:13.045859Z"
    }
   },
   "outputs": [],
   "source": [
    "# 일부 정보 확인\n",
    "df_raw.tail()"
   ]
  },
  {
   "cell_type": "code",
   "execution_count": null,
   "metadata": {
    "ExecuteTime": {
     "end_time": "2022-05-27T14:23:13.088880Z",
     "start_time": "2022-05-27T14:23:13.066568Z"
    }
   },
   "outputs": [],
   "source": [
    "# 일부 정보 확인\n",
    "df_raw.sample(5)\n"
   ]
  },
  {
   "cell_type": "code",
   "execution_count": null,
   "metadata": {
    "ExecuteTime": {
     "end_time": "2022-05-27T14:23:13.093699Z",
     "start_time": "2022-05-27T14:23:13.090393Z"
    }
   },
   "outputs": [],
   "source": [
    "# 컬럼명 총 확인\n",
    "df_raw.columns"
   ]
  },
  {
   "cell_type": "code",
   "execution_count": null,
   "metadata": {
    "ExecuteTime": {
     "end_time": "2022-05-27T14:23:13.119246Z",
     "start_time": "2022-05-27T14:23:13.094859Z"
    }
   },
   "outputs": [],
   "source": [
    "# 요약 정보\n",
    "df_raw.info()\n"
   ]
  },
  {
   "cell_type": "markdown",
   "metadata": {},
   "source": [
    "---\n",
    "----\n",
    "\n",
    "<center><h2><b>기술 통계</b></h2></center>\n"
   ]
  },
  {
   "cell_type": "code",
   "execution_count": null,
   "metadata": {
    "ExecuteTime": {
     "end_time": "2022-05-27T14:23:13.254441Z",
     "start_time": "2022-05-27T14:23:13.121027Z"
    }
   },
   "outputs": [],
   "source": [
    "# 요약 통계 (수치형)\n",
    "df_raw.describe()\n"
   ]
  },
  {
   "cell_type": "code",
   "execution_count": null,
   "metadata": {
    "ExecuteTime": {
     "end_time": "2022-05-27T14:23:13.274654Z",
     "start_time": "2022-05-27T14:23:13.255559Z"
    }
   },
   "outputs": [],
   "source": [
    "# 요약 통계 (범주형)\n",
    "df_raw.describe(include='object')"
   ]
  },
  {
   "cell_type": "code",
   "execution_count": null,
   "metadata": {
    "ExecuteTime": {
     "end_time": "2022-05-27T14:23:13.297601Z",
     "start_time": "2022-05-27T14:23:13.277614Z"
    }
   },
   "outputs": [],
   "source": [
    "# 결측치 확인\n",
    "df_raw.isnull().sum()"
   ]
  },
  {
   "cell_type": "code",
   "execution_count": null,
   "metadata": {
    "ExecuteTime": {
     "end_time": "2022-05-27T14:23:13.318091Z",
     "start_time": "2022-05-27T14:23:13.298926Z"
    }
   },
   "outputs": [],
   "source": [
    "# 결측치 총계\n",
    "df_raw.isnull().sum().sum()\n"
   ]
  },
  {
   "cell_type": "code",
   "execution_count": null,
   "metadata": {
    "ExecuteTime": {
     "end_time": "2022-05-27T14:23:13.321360Z",
     "start_time": "2022-05-27T14:23:13.319319Z"
    }
   },
   "outputs": [],
   "source": [
    "# 상관계수\n",
    "# df_raw.corr().style.background_gradient(cmap='coolwarm')\n"
   ]
  },
  {
   "cell_type": "code",
   "execution_count": null,
   "metadata": {
    "ExecuteTime": {
     "end_time": "2022-05-27T14:23:13.363639Z",
     "start_time": "2022-05-27T14:23:13.325167Z"
    }
   },
   "outputs": [],
   "source": [
    "# 고유값의 개수\n",
    "df_raw.nunique()\n"
   ]
  },
  {
   "cell_type": "code",
   "execution_count": null,
   "metadata": {
    "ExecuteTime": {
     "end_time": "2022-05-27T14:23:13.416142Z",
     "start_time": "2022-05-27T14:23:13.364720Z"
    }
   },
   "outputs": [],
   "source": [
    "# 범주형 타입으로 변경\n",
    "# 성별, 연령대, 신장, 체중, 청력, 요단백, 흡연상태, 음주여부, 구강검진 수검여부, 치아우식증유무, 치석\n",
    "\n",
    "obejects = [\n",
    "    \"시도코드\", \"성별코드\", \"연령대 코드(5세단위)\", \"신장(5Cm단위)\", \"체중(5Kg 단위)\",\n",
    "    \"시력(좌)\", \"시력(우)\", \"청력(좌)\", \"청력(우)\", \"요단백\", \"흡연상태\", \"음주여부\",\n",
    "    \"구강검진 수검여부\", \"치아우식증유무\", \"치석\"]\n",
    "\n",
    "for o in obejects:\n",
    "    df_raw[o] = df_raw[o].astype('category')\n",
    "    # df[o] = df[o].astype('str') # str 하면 object 타입으로 변경"
   ]
  },
  {
   "cell_type": "code",
   "execution_count": null,
   "metadata": {
    "ExecuteTime": {
     "end_time": "2022-05-27T14:23:13.421750Z",
     "start_time": "2022-05-27T14:23:13.417606Z"
    }
   },
   "outputs": [],
   "source": [
    "# 범주형 타입으로 잘 변경됐는지 확인\n",
    "df_raw.dtypes\n"
   ]
  },
  {
   "cell_type": "code",
   "execution_count": null,
   "metadata": {
    "ExecuteTime": {
     "end_time": "2022-05-27T14:23:13.426127Z",
     "start_time": "2022-05-27T14:23:13.422947Z"
    }
   },
   "outputs": [],
   "source": [
    "# 개별 확인\n",
    "type(df_raw['시도코드'].iloc[0])\n"
   ]
  },
  {
   "cell_type": "code",
   "execution_count": null,
   "metadata": {
    "ExecuteTime": {
     "end_time": "2022-05-27T14:23:13.505159Z",
     "start_time": "2022-05-27T14:23:13.427514Z"
    }
   },
   "outputs": [],
   "source": [
    "# 수치형 데이터 기술통계\n",
    "df_raw.describe()\n"
   ]
  },
  {
   "cell_type": "code",
   "execution_count": null,
   "metadata": {
    "ExecuteTime": {
     "end_time": "2022-05-27T14:23:13.535975Z",
     "start_time": "2022-05-27T14:23:13.506403Z"
    }
   },
   "outputs": [],
   "source": [
    "# 범주형 데이터 기술통계\n",
    "df_raw.describe(include='category')\n"
   ]
  },
  {
   "cell_type": "code",
   "execution_count": null,
   "metadata": {
    "ExecuteTime": {
     "end_time": "2022-05-27T14:23:13.624607Z",
     "start_time": "2022-05-27T14:23:13.537577Z"
    }
   },
   "outputs": [],
   "source": [
    "# 고유값 별개로 확인\n",
    "for o in obejects:\n",
    "    print(o)\n",
    "    print(df_raw[o].unique())\n"
   ]
  },
  {
   "cell_type": "code",
   "execution_count": null,
   "metadata": {
    "ExecuteTime": {
     "end_time": "2022-05-27T14:23:13.643301Z",
     "start_time": "2022-05-27T14:23:13.625733Z"
    }
   },
   "outputs": [],
   "source": [
    "# 필요한 컬럼만\n",
    "df = df_raw.drop(columns=['가입자 일련번호', \"기준년도\", '데이터 공개일자'])\n",
    "df.head(1)"
   ]
  },
  {
   "cell_type": "code",
   "execution_count": null,
   "metadata": {},
   "outputs": [],
   "source": [
    "df.describe().columns"
   ]
  },
  {
   "cell_type": "code",
   "execution_count": null,
   "metadata": {},
   "outputs": [],
   "source": []
  },
  {
   "cell_type": "code",
   "execution_count": null,
   "metadata": {},
   "outputs": [],
   "source": [
    "# 이상치 제거\n",
    "for col in df.describe().columns:\n",
    "    print(col)\n",
    "    q1 = df[col].quantile(0.25)\n",
    "    q3 = df[col].quantile(0.75)\n",
    "    iqr = q3 - q1\n",
    "    df[col] = df[~(df[col] > q3+1.5*iqr)][col]"
   ]
  },
  {
   "cell_type": "markdown",
   "metadata": {},
   "source": [
    "---\n",
    "----\n",
    "\n",
    "<center><h2><b>컬럼 이름 매핑</b></h2></center>\n"
   ]
  },
  {
   "cell_type": "code",
   "execution_count": null,
   "metadata": {
    "ExecuteTime": {
     "end_time": "2022-05-27T14:23:13.649156Z",
     "start_time": "2022-05-27T14:23:13.644735Z"
    }
   },
   "outputs": [],
   "source": [
    "# 시도코드 코드-도시이름 매핑하기\n",
    "sido_raw = \"\"\"\n",
    "11:서울특별시\n",
    "26:부산광역시\n",
    "27:대구광역시\n",
    "28:인천광역시\n",
    "29:광주광역시\n",
    "30:대전광역시\n",
    "31:울산광역시\n",
    "36:세종특별자치시\n",
    "41:경기도\n",
    "42:강원도\n",
    "43:충청북도\n",
    "44:충청남도\n",
    "45:전라북도\n",
    "46:전라남도\n",
    "47:경상북도\n",
    "48:경상남도\n",
    "49:제주특별자치도\n",
    "\"\"\"\n",
    "\n",
    "sido_code = {}\n",
    "for raw in sido_raw.split(\"\\n\"):\n",
    "    if ':' in raw:\n",
    "        key = int(raw.split(\":\")[0].strip())\n",
    "        value = raw.split(\":\")[1].strip()\n",
    "        sido_code[key] = value\n",
    "\n",
    "sido_code"
   ]
  },
  {
   "cell_type": "code",
   "execution_count": null,
   "metadata": {
    "ExecuteTime": {
     "end_time": "2022-05-27T14:23:13.666827Z",
     "start_time": "2022-05-27T14:23:13.650419Z"
    }
   },
   "outputs": [],
   "source": [
    "# 시도코드 매핑하기\n",
    "df['시도명'] = df['시도코드'].map(sido_code)\n",
    "df.head(1)"
   ]
  },
  {
   "cell_type": "code",
   "execution_count": null,
   "metadata": {
    "ExecuteTime": {
     "end_time": "2022-05-27T14:23:13.673133Z",
     "start_time": "2022-05-27T14:23:13.668385Z"
    }
   },
   "outputs": [],
   "source": [
    "df['시도명'].value_counts()"
   ]
  },
  {
   "cell_type": "code",
   "execution_count": null,
   "metadata": {
    "ExecuteTime": {
     "end_time": "2022-05-27T14:23:13.679244Z",
     "start_time": "2022-05-27T14:23:13.674372Z"
    }
   },
   "outputs": [],
   "source": [
    "# 연령대 코드 빈도수 확인\n",
    "df['연령대 코드(5세단위)'].value_counts().sort_index()"
   ]
  },
  {
   "cell_type": "code",
   "execution_count": null,
   "metadata": {
    "ExecuteTime": {
     "end_time": "2022-05-27T14:23:13.685663Z",
     "start_time": "2022-05-27T14:23:13.680811Z"
    }
   },
   "outputs": [],
   "source": [
    "# 연령대 코드 매핑\n",
    "age_raw = \"\"\"\n",
    "1:0~4세\n",
    "2:5~9세\n",
    "3:10~14세\n",
    "4:15~19세\n",
    "5:20~24세\n",
    "6:25~29세\n",
    "7:30~34세\n",
    "8:35~39세\n",
    "9:40~44세\n",
    "10:45~49세\n",
    "11:50~54세\n",
    "12:55~59세\n",
    "13:60~64세\n",
    "14:65~69세\n",
    "15:70~74세\n",
    "16:75~79세\n",
    "17:80~84세\n",
    "18:85세+\n",
    "\"\"\"\n",
    "\n",
    "age_code = {}\n",
    "for raw in age_raw.split(\"\\n\"):\n",
    "    if ':' in raw:\n",
    "        key = int(raw.split(\":\")[0].strip())\n",
    "        value = raw.split(\":\")[1].strip()\n",
    "        age_code[key] = value\n",
    "\n",
    "age_code"
   ]
  },
  {
   "cell_type": "code",
   "execution_count": null,
   "metadata": {
    "ExecuteTime": {
     "end_time": "2022-05-27T14:23:13.706038Z",
     "start_time": "2022-05-27T14:23:13.687270Z"
    }
   },
   "outputs": [],
   "source": [
    "# 연령대 매핑\n",
    "df['연령대'] = df['연령대 코드(5세단위)'].map(age_code)\n",
    "df.head(2)"
   ]
  },
  {
   "cell_type": "code",
   "execution_count": null,
   "metadata": {
    "ExecuteTime": {
     "end_time": "2022-05-27T14:23:13.717605Z",
     "start_time": "2022-05-27T14:23:13.707487Z"
    }
   },
   "outputs": [],
   "source": [
    "# 성별코드 매핑\n",
    "df.loc[df['성별코드'] == 2, '성별'] = '여성'\n",
    "df.loc[df['성별코드'] == 1, '성별'] = '남성'"
   ]
  },
  {
   "cell_type": "code",
   "execution_count": null,
   "metadata": {
    "ExecuteTime": {
     "end_time": "2022-05-27T14:23:13.736984Z",
     "start_time": "2022-05-27T14:23:13.718796Z"
    }
   },
   "outputs": [],
   "source": [
    "df.head(2)"
   ]
  },
  {
   "cell_type": "markdown",
   "metadata": {},
   "source": [
    "---\n",
    "----\n",
    "\n",
    "<center><h2><b>테이블 교차</b></h2></center>\n"
   ]
  },
  {
   "cell_type": "code",
   "execution_count": null,
   "metadata": {},
   "outputs": [],
   "source": [
    "df.head()"
   ]
  },
  {
   "cell_type": "code",
   "execution_count": null,
   "metadata": {},
   "outputs": [],
   "source": [
    "pd.crosstab(df['시력(좌)'], [df['시력(우)']])\n"
   ]
  },
  {
   "cell_type": "code",
   "execution_count": null,
   "metadata": {},
   "outputs": [],
   "source": [
    "pd.crosstab(df['청력(좌)'], [df['청력(우)']])\n"
   ]
  },
  {
   "cell_type": "code",
   "execution_count": null,
   "metadata": {},
   "outputs": [],
   "source": [
    "df.columns"
   ]
  },
  {
   "cell_type": "code",
   "execution_count": null,
   "metadata": {},
   "outputs": [],
   "source": [
    "px.histogram(df.groupby('총 콜레스테롤').mean()[['LDL 콜레스테롤', 'HDL 콜레스테롤']])\n"
   ]
  },
  {
   "cell_type": "markdown",
   "metadata": {},
   "source": [
    "---\n",
    "----\n",
    "\n",
    "<center><h2><b>시각화 그래프</b></h2></center>\n"
   ]
  },
  {
   "cell_type": "code",
   "execution_count": null,
   "metadata": {
    "ExecuteTime": {
     "end_time": "2022-05-27T14:23:13.741733Z",
     "start_time": "2022-05-27T14:23:13.738724Z"
    }
   },
   "outputs": [],
   "source": [
    "df.columns"
   ]
  },
  {
   "cell_type": "code",
   "execution_count": null,
   "metadata": {
    "ExecuteTime": {
     "end_time": "2022-05-27T14:23:13.808346Z",
     "start_time": "2022-05-27T14:23:13.742945Z"
    }
   },
   "outputs": [],
   "source": [
    "ssa_hgt = pd.crosstab([df['시도명'], df['연령대']], [\n",
    "                      df['신장(5Cm단위)'], df['성별']]).sort_index()\n",
    "ssa_hgt.head()\n"
   ]
  },
  {
   "cell_type": "code",
   "execution_count": null,
   "metadata": {
    "ExecuteTime": {
     "end_time": "2022-05-27T14:23:13.867778Z",
     "start_time": "2022-05-27T14:23:13.809525Z"
    }
   },
   "outputs": [],
   "source": [
    "df.corr().style.background_gradient(cmap='coolwarm')"
   ]
  },
  {
   "cell_type": "markdown",
   "metadata": {},
   "source": [
    "-----\n",
    "### 신장\n",
    "- 성별을 기준으로 한 신장\n",
    "- 연령대를 기준으로 한 신장\n",
    "- 신장과 체중\n",
    "- 신장과 허리둘레"
   ]
  },
  {
   "cell_type": "code",
   "execution_count": null,
   "metadata": {
    "ExecuteTime": {
     "end_time": "2022-05-27T14:23:13.872105Z",
     "start_time": "2022-05-27T14:23:13.869270Z"
    }
   },
   "outputs": [],
   "source": [
    "# 필요한 컬럼\n",
    "cols = ['시도명', '성별', '연령대', '신장(5Cm단위)', '체중(5Kg 단위)', '허리둘레',\n",
    "        '총 콜레스테롤', '트리글리세라이드', 'HDL 콜레스테롤', 'LDL 콜레스테롤', '혈색소', '요단백',\n",
    "        '혈청크레아티닌', '(혈청지오티)AST', '(혈청지오티)ALT', '감마 지티피', '흡연상태', '음주여부',\n",
    "        '구강검진 수검여부', '치아우식증유무', '치석', ]\n"
   ]
  },
  {
   "cell_type": "code",
   "execution_count": null,
   "metadata": {
    "ExecuteTime": {
     "end_time": "2022-05-27T14:23:13.900275Z",
     "start_time": "2022-05-27T14:23:13.873449Z"
    }
   },
   "outputs": [],
   "source": [
    "# 신장을 기준으로 정렬\n",
    "hgt = df.sort_values('신장(5Cm단위)')\n",
    "hgt = hgt[cols]\n",
    "hgt.head(2)\n"
   ]
  },
  {
   "cell_type": "code",
   "execution_count": null,
   "metadata": {
    "ExecuteTime": {
     "end_time": "2022-05-27T14:23:13.959061Z",
     "start_time": "2022-05-27T14:23:13.901530Z"
    }
   },
   "outputs": [],
   "source": [
    "# 신장을 기준으로 기술통계\n",
    "hgt.describe()"
   ]
  },
  {
   "cell_type": "code",
   "execution_count": null,
   "metadata": {
    "ExecuteTime": {
     "end_time": "2022-05-27T14:23:14.482441Z",
     "start_time": "2022-05-27T14:23:13.960233Z"
    }
   },
   "outputs": [],
   "source": [
    "# 체중 - 신장 (boxplot)\n",
    "px.box(hgt, x='신장(5Cm단위)', y='체중(5Kg 단위)', points='all',\n",
    "       facet_col=\"성별\", color=\"성별\", boxmode=\"overlay\",\n",
    "       title='신장에 따른 남성/여성의 체중 통계' )\n"
   ]
  },
  {
   "cell_type": "code",
   "execution_count": null,
   "metadata": {
    "ExecuteTime": {
     "end_time": "2022-05-27T14:23:15.113690Z",
     "start_time": "2022-05-27T14:23:14.483725Z"
    }
   },
   "outputs": [],
   "source": [
    "# 신장 - 체중 (성별)\n",
    "# hisfunc = \"count\" | \"sum\" | \"avg\" | \"min\" | \"max\"\n",
    "# barmode = \"stack\" | \"group\" | \"overlay\" | \"relative\"\n",
    "fig = px.histogram(hgt, x='신장(5Cm단위)', y='체중(5Kg 단위)', color='성별',\n",
    "        barmode='group', title='신장에 따른 남성/여성의 평균 체중', histfunc='avg', text_auto=True,)\n",
    "fig.update_xaxes(type='category', ticksuffix='cm')\n",
    "fig.update_yaxes(ticksuffix='kg')\n",
    "fig.show()"
   ]
  },
  {
   "cell_type": "code",
   "execution_count": null,
   "metadata": {
    "ExecuteTime": {
     "end_time": "2022-05-27T14:23:15.704750Z",
     "start_time": "2022-05-27T14:23:15.115207Z"
    }
   },
   "outputs": [],
   "source": [
    "# 신장 - 체중 (연령대)\n",
    "fig = px.histogram(\n",
    "    hgt, x='신장(5Cm단위)', y='체중(5Kg 단위)', color='연령대',\n",
    "    barmode='relative', title='신장에 따른 연령대별 평균 체중', histfunc='avg', text_auto=True,\n",
    "    facet_col='연령대', facet_col_wrap=3,\n",
    "    width=1200, height=800,\n",
    "    # category_orders={'체중': []}\n",
    ")\n",
    "fig.update_xaxes(type='category', ticksuffix='cm',)\n",
    "fig.update_yaxes(ticksuffix='kg', )\n",
    "fig.show()\n"
   ]
  },
  {
   "cell_type": "code",
   "execution_count": null,
   "metadata": {
    "ExecuteTime": {
     "end_time": "2022-05-27T14:23:16.466416Z",
     "start_time": "2022-05-27T14:23:15.706103Z"
    }
   },
   "outputs": [],
   "source": [
    "# 체중 - 허리둘레 (boxplot)\n",
    "px.box(hgt, x='신장(5Cm단위)', y='허리둘레', points='all',\n",
    "       facet_col=\"성별\", color=\"성별\", boxmode=\"overlay\",\n",
    "       title='신장에 따른 남성/여성의 허리둘레 통계' )\n"
   ]
  },
  {
   "cell_type": "code",
   "execution_count": null,
   "metadata": {
    "ExecuteTime": {
     "end_time": "2022-05-27T14:23:17.207532Z",
     "start_time": "2022-05-27T14:23:16.467610Z"
    }
   },
   "outputs": [],
   "source": [
    "# 신장 - 허리둘레 (성별)\n",
    "fig = px.histogram(hgt, x='신장(5Cm단위)', y='허리둘레', color='성별',\n",
    "        barmode='group', title='신장에 따른 남성/여성의 평균 허리둘레', histfunc='avg', text_auto=True,)\n",
    "fig.update_xaxes(type='category', ticksuffix='cm')\n",
    "fig.update_yaxes(ticksuffix='cm')\n",
    "fig.show()"
   ]
  },
  {
   "cell_type": "code",
   "execution_count": null,
   "metadata": {
    "ExecuteTime": {
     "end_time": "2022-05-27T14:23:18.053246Z",
     "start_time": "2022-05-27T14:23:17.214147Z"
    }
   },
   "outputs": [],
   "source": [
    "# 신장 - 허리둘레 (연령대)\n",
    "fig = px.histogram(\n",
    "    hgt, x='신장(5Cm단위)', y='허리둘레', color='연령대',\n",
    "    barmode='relative', title='신장에 따른 연령대별 평균 허리둘레', histfunc='avg', text_auto=True,\n",
    "    facet_col='연령대', facet_col_wrap=3,\n",
    "    width=1200, height=800,\n",
    ")\n",
    "fig.update\n",
    "fig.update_xaxes(type='category', ticksuffix='cm',)\n",
    "fig.update_yaxes(ticksuffix='cm', )\n",
    "fig.show()\n"
   ]
  },
  {
   "cell_type": "markdown",
   "metadata": {},
   "source": [
    "-----\n",
    "### 체중\n",
    "- 성별을 기준으로 한 체중\n",
    "- 연령대를 기준으로 한 체중\n",
    "- 콜레스테롤, 혈압 등등\n",
    "- 음주여부, 흡연여부 등등"
   ]
  },
  {
   "cell_type": "code",
   "execution_count": null,
   "metadata": {
    "ExecuteTime": {
     "end_time": "2022-05-27T14:23:18.078717Z",
     "start_time": "2022-05-27T14:23:18.054525Z"
    }
   },
   "outputs": [],
   "source": [
    "# 체중을 기준으로 정렬\n",
    "wgt = df.sort_values('체중(5Kg 단위)')\n",
    "wgt = wgt[cols]\n",
    "wgt.head(2)\n"
   ]
  },
  {
   "cell_type": "code",
   "execution_count": null,
   "metadata": {
    "ExecuteTime": {
     "end_time": "2022-05-27T14:23:18.710778Z",
     "start_time": "2022-05-27T14:23:18.079868Z"
    }
   },
   "outputs": [],
   "source": [
    "# 체중 - 허리둘레 (boxplot)\n",
    "# boxmode = 'overlay' | 'group'\n",
    "fig = px.box(wgt, x='체중(5Kg 단위)', y='허리둘레', points='all',\n",
    "       facet_col=\"성별\", color=\"성별\", boxmode=\"overlay\",\n",
    "       title='체중에 따른 남성/여성의 허리둘레 통계')\n",
    "fig.update_yaxes(ticksuffix='cm')\n",
    "fig.show()"
   ]
  },
  {
   "cell_type": "code",
   "execution_count": null,
   "metadata": {
    "ExecuteTime": {
     "end_time": "2022-05-27T14:23:19.445547Z",
     "start_time": "2022-05-27T14:23:18.712238Z"
    }
   },
   "outputs": [],
   "source": [
    "# 체중 - 허리둘레 (성별)\n",
    "fig = px.histogram(wgt, x='체중(5Kg 단위)', y='허리둘레', color='성별',\n",
    "        barmode='group', title='체중에 따른 남성/여성의 평균 허리둘레', histfunc='avg', text_auto=True,)\n",
    "fig.update_xaxes(type='category', ticksuffix='kg')\n",
    "fig.update_yaxes(ticksuffix='cm')\n",
    "fig.show()\n"
   ]
  },
  {
   "cell_type": "code",
   "execution_count": null,
   "metadata": {
    "ExecuteTime": {
     "end_time": "2022-05-27T14:23:20.360999Z",
     "start_time": "2022-05-27T14:23:19.446948Z"
    }
   },
   "outputs": [],
   "source": [
    "# 체중 - 허리둘레 (연령대)\n",
    "fig = px.histogram(\n",
    "    wgt, x='체중(5Kg 단위)', y='허리둘레', color='연령대',\n",
    "    barmode='relative', title='체중에 따른 연령대별 평균 허리둘레', histfunc='avg', text_auto=True,\n",
    "    facet_col='연령대', facet_col_wrap=3,\n",
    "    width=1200, height=800,\n",
    ")\n",
    "fig.update\n",
    "fig.update_xaxes(type='category', ticksuffix='kg',)\n",
    "fig.update_yaxes(ticksuffix='cm', )\n",
    "fig.show()\n"
   ]
  },
  {
   "cell_type": "code",
   "execution_count": null,
   "metadata": {
    "ExecuteTime": {
     "end_time": "2022-05-27T14:23:21.022182Z",
     "start_time": "2022-05-27T14:23:20.362425Z"
    }
   },
   "outputs": [],
   "source": [
    "# 체중 - 총 콜레스테롤 (boxplot)\n",
    "fig = px.box(wgt, x='체중(5Kg 단위)', y='총 콜레스테롤', points='all',\n",
    "       facet_col=\"성별\", color=\"성별\", boxmode=\"overlay\",\n",
    "       title='체중에 따른 남성/여성의 총 콜레스테롤 통계')\n",
    "fig.update_yaxes(ticksuffix='mg/dl')\n",
    "fig.show()"
   ]
  },
  {
   "cell_type": "code",
   "execution_count": null,
   "metadata": {
    "ExecuteTime": {
     "end_time": "2022-05-27T14:23:21.478951Z",
     "start_time": "2022-05-27T14:23:21.023639Z"
    }
   },
   "outputs": [],
   "source": [
    "# 콜레스테롤 히스토그램\n",
    "px.histogram(wgt, x='총 콜레스테롤', nbins=200)"
   ]
  },
  {
   "cell_type": "code",
   "execution_count": null,
   "metadata": {
    "ExecuteTime": {
     "end_time": "2022-05-27T14:23:21.485708Z",
     "start_time": "2022-05-27T14:23:21.480213Z"
    }
   },
   "outputs": [],
   "source": [
    "# 총 콜레스테롤 왜도/첨도\n",
    "wgt['총 콜레스테롤'].skew(), wgt['총 콜레스테롤'].kurt()"
   ]
  },
  {
   "cell_type": "code",
   "execution_count": null,
   "metadata": {
    "ExecuteTime": {
     "end_time": "2022-05-27T14:23:22.253068Z",
     "start_time": "2022-05-27T14:23:21.486757Z"
    }
   },
   "outputs": [],
   "source": [
    "# 체중 - 총 콜레스테롤 (성별)\n",
    "fig = px.histogram(wgt, x='체중(5Kg 단위)', y='총 콜레스테롤', color='성별',\n",
    "        barmode='group', title='체중에 따른 남성/여성의 평균 총 콜레스테롤 지수', histfunc='avg', text_auto=True,)\n",
    "fig.update_xaxes(type='category', ticksuffix='kg')\n",
    "fig.update_yaxes(ticksuffix='mg/dl')\n",
    "fig.show()"
   ]
  },
  {
   "cell_type": "code",
   "execution_count": null,
   "metadata": {
    "ExecuteTime": {
     "end_time": "2022-05-27T14:23:22.958644Z",
     "start_time": "2022-05-27T14:23:22.254368Z"
    }
   },
   "outputs": [],
   "source": [
    "# 체중 - 총 콜레스테롤 (연령대)\n",
    "fig = px.histogram(\n",
    "    wgt, x='체중(5Kg 단위)', y='총 콜레스테롤', color='연령대',\n",
    "    barmode='relative', title='체중에 따른 연령대별 평균 총 콜레스테롤 지수', histfunc='avg', text_auto=True,\n",
    "    facet_col='연령대', facet_col_wrap=3,\n",
    "    width=1200, height=800,\n",
    ")\n",
    "fig.update\n",
    "fig.update_xaxes(type='category', ticksuffix='kg',)\n",
    "fig.update_yaxes(ticksuffix='mg/dl', )\n",
    "fig.show()\n"
   ]
  },
  {
   "cell_type": "code",
   "execution_count": null,
   "metadata": {
    "ExecuteTime": {
     "end_time": "2022-05-27T14:23:22.989114Z",
     "start_time": "2022-05-27T14:23:22.959953Z"
    }
   },
   "outputs": [],
   "source": [
    "# 채중 - 요단백 (결측치 제거)\n",
    "wgt_yo = wgt.dropna(how='any', axis=0)\n",
    "wgt_yo.head(2)"
   ]
  },
  {
   "cell_type": "code",
   "execution_count": null,
   "metadata": {
    "ExecuteTime": {
     "end_time": "2022-05-27T14:23:23.175451Z",
     "start_time": "2022-05-27T14:23:22.990204Z"
    }
   },
   "outputs": [],
   "source": [
    "# 체중 - 콜레스테롤 (boxplot/요단백)\n",
    "fig = px.box(wgt_yo, x='체중(5Kg 단위)', y='총 콜레스테롤', points='all',\n",
    "       color=\"요단백\", boxmode=\"overlay\",\n",
    "       title='체중에 따른 요단백 등급별 총 콜레스테롤 통계')\n",
    "fig.update_yaxes(ticksuffix='cm')\n",
    "fig.show()"
   ]
  },
  {
   "cell_type": "code",
   "execution_count": null,
   "metadata": {
    "ExecuteTime": {
     "end_time": "2022-05-27T14:23:23.297459Z",
     "start_time": "2022-05-27T14:23:23.177098Z"
    }
   },
   "outputs": [],
   "source": [
    "# 체중 - 콜레스테롤 (요단백)\n",
    "fig = px.histogram(wgt_yo, x='체중(5Kg 단위)', y='총 콜레스테롤', color='요단백',\n",
    "        barmode='group', title='체중에 따른 요단백 등급별 평균 콜레스테롤 지수', histfunc='avg', text_auto=True,)\n",
    "fig.update_xaxes(type='category', ticksuffix='kg')\n",
    "fig.update_yaxes(ticksuffix='mg/dl')\n",
    "fig.show()"
   ]
  },
  {
   "cell_type": "code",
   "execution_count": null,
   "metadata": {
    "ExecuteTime": {
     "end_time": "2022-05-27T14:23:23.397908Z",
     "start_time": "2022-05-27T14:23:23.298680Z"
    }
   },
   "outputs": [],
   "source": [
    "# 요단백 등급별 count\n",
    "px.histogram(wgt_yo, x = '요단백', barmode='relative', color='요단백', text_auto=True)"
   ]
  },
  {
   "cell_type": "code",
   "execution_count": null,
   "metadata": {
    "ExecuteTime": {
     "end_time": "2022-05-27T14:23:24.109503Z",
     "start_time": "2022-05-27T14:23:23.399003Z"
    }
   },
   "outputs": [],
   "source": [
    "# 체중 - 흡연상태 (성별)\n",
    "fig = px.histogram(wgt, x='체중(5Kg 단위)', y='흡연상태', color='성별',\n",
    "        barmode='group', title='체중에 따른 남성/여성 흡연자 수', histfunc='count', text_auto=True,\n",
    "        category_orders={'흡연상태': [1, 2, 3]})\n",
    "fig.update_xaxes(type='category', ticksuffix='kg')\n",
    "fig.update_yaxes(ticksuffix='명')\n",
    "fig.show()"
   ]
  },
  {
   "cell_type": "code",
   "execution_count": null,
   "metadata": {
    "ExecuteTime": {
     "end_time": "2022-05-27T14:23:24.923837Z",
     "start_time": "2022-05-27T14:23:24.110830Z"
    }
   },
   "outputs": [],
   "source": [
    "# 체중 - 허리둘레 (연령대)\n",
    "fig = px.histogram(\n",
    "    wgt, x='체중(5Kg 단위)', y='흡연상태', color='연령대',\n",
    "    barmode='relative', title='체중에 따른 연령대별 흡연자 수', histfunc='count', text_auto=True,\n",
    "    facet_col='연령대', facet_col_wrap=3,\n",
    "    width=1200, height=800,\n",
    ")\n",
    "fig.update\n",
    "fig.update_xaxes(type='category', ticksuffix='kg',)\n",
    "fig.update_yaxes(ticksuffix='명', )\n",
    "fig.show()\n"
   ]
  },
  {
   "cell_type": "code",
   "execution_count": null,
   "metadata": {},
   "outputs": [],
   "source": [
    "wgt.head()"
   ]
  },
  {
   "cell_type": "code",
   "execution_count": null,
   "metadata": {
    "ExecuteTime": {
     "end_time": "2022-05-27T14:23:25.249569Z",
     "start_time": "2022-05-27T14:23:24.925093Z"
    }
   },
   "outputs": [],
   "source": [
    "# 체중 - 흡연상태 (성별)\n",
    "fig = px.histogram(wgt_, x='체중(5Kg 단위)', y='흡연상태', color='흡연상태',\n",
    "        barmode='group',\n",
    "         title='체중에 따른 흡연상태 (1:안핀다 2:끊었다 3:피운다)',\n",
    "        histfunc='count',\n",
    "         text_auto=True,\n",
    "        category_orders={'흡연상태': [1, 2, 3]}, )\n",
    "fig.update_xaxes(type='category', ticksuffix='kg')\n",
    "fig.update_yaxes(ticksuffix='명')\n",
    "fig.show()"
   ]
  },
  {
   "cell_type": "code",
   "execution_count": null,
   "metadata": {
    "ExecuteTime": {
     "end_time": "2022-05-27T14:23:56.331587Z",
     "start_time": "2022-05-27T14:23:55.977392Z"
    }
   },
   "outputs": [],
   "source": [
    "# 연령대별 - 음주여부\n",
    "px.histogram(wgt_.sort_values('연령대'), x='연령대', barmode='relative', color='음주여부',\n",
    "             text_auto=True, title='연령대별 음주여부')\n"
   ]
  },
  {
   "cell_type": "code",
   "execution_count": null,
   "metadata": {
    "ExecuteTime": {
     "end_time": "2022-05-27T14:24:00.202133Z",
     "start_time": "2022-05-27T14:23:59.854461Z"
    }
   },
   "outputs": [],
   "source": [
    "# 체중 - 음주여부\n",
    "fig = px.histogram(wgt_, x='체중(5Kg 단위)', color='음주여부',\n",
    "        barmode='group', title='체중에 따른 음주여부 (1:마신다 0:안마신다)', histfunc='count', text_auto=True,)\n",
    "fig.update_xaxes(type='category', ticksuffix='kg')\n",
    "fig.update_yaxes(ticksuffix='명')\n",
    "fig.show()"
   ]
  },
  {
   "cell_type": "markdown",
   "metadata": {},
   "source": [
    "---\n",
    "----\n",
    "\n",
    "<center><h2><b>지도 시각화</b></h2></center>\n"
   ]
  },
  {
   "cell_type": "code",
   "execution_count": null,
   "metadata": {
    "ExecuteTime": {
     "end_time": "2022-05-27T14:24:02.930667Z",
     "start_time": "2022-05-27T14:24:02.904529Z"
    }
   },
   "outputs": [],
   "source": [
    "import json\n",
    "\n",
    "state_geo = './data/TL_SCCO_CTPRVN.json'\n",
    "state_geo\n",
    " \n",
    " # 시도기준 경계 JSON 파일을 들고 온다.\n",
    "with open(state_geo, encoding='utf-8') as file:\n",
    "    sido_map = json.load(file)\n"
   ]
  },
  {
   "cell_type": "code",
   "execution_count": null,
   "metadata": {
    "ExecuteTime": {
     "end_time": "2022-05-27T14:24:04.617432Z",
     "start_time": "2022-05-27T14:24:04.607318Z"
    }
   },
   "outputs": [],
   "source": [
    "# 올바른 값이 들어있는지 확인\n",
    "sido_map['features'][0]['properties']['CTP_KOR_NM']"
   ]
  },
  {
   "cell_type": "code",
   "execution_count": null,
   "metadata": {
    "ExecuteTime": {
     "end_time": "2022-05-27T14:24:06.026729Z",
     "start_time": "2022-05-27T14:24:05.997874Z"
    }
   },
   "outputs": [],
   "source": [
    "# 시도명으로 평균치를 그룹핑 한다.\n",
    "sido = df.groupby('시도명', as_index=False).mean()\n",
    "sido.head(2)\n"
   ]
  },
  {
   "cell_type": "code",
   "execution_count": null,
   "metadata": {
    "ExecuteTime": {
     "end_time": "2022-05-27T14:23:25.254621Z",
     "start_time": "2022-05-27T14:23:25.254611Z"
    }
   },
   "outputs": [],
   "source": [
    "# 시도기준 위도/경도\n",
    "# locs = { \n",
    "#     '경기도':   (37.567167, 127.190292),\n",
    "#     '서울특별시':     (37.487935, 126.857758),\n",
    "#     '부산광역시':    (35.198362, 129.053922),\n",
    "#     '경상북도':  (36.248647, 128.664734),\n",
    "#     '경상남도': (35.259787, 128.664734),\n",
    "#     '인천광역시':  (37.469221, 126.573234),\n",
    "#     '대구광역시': (35.798838, 128.583052),\n",
    "#     '충청남도': (36.557229, 126.779757),\n",
    "#     '전라남도':  (34.819400, 126.893113),\n",
    "#     '전라북도':  (35.716705, 127.144185),\n",
    "#     '대전광역시':   (36.321655, 127.378953),\n",
    "#     '강원도': (37.555837, 128.209315),\n",
    "#     '광주광역시': (35.126033, 126.831302),\n",
    "#     '울산광역시': (35.519301, 129.239078),\n",
    "#     '충청북도': (36.628503, 127.929344),\n",
    "#     '세종특별자치시':    (36.48, 127.29),\n",
    "#     '제주특별자치도':   (33.364805, 126.542671),\n",
    "# }"
   ]
  },
  {
   "cell_type": "code",
   "execution_count": null,
   "metadata": {
    "ExecuteTime": {
     "end_time": "2022-05-27T14:24:15.193831Z",
     "start_time": "2022-05-27T14:24:15.186529Z"
    }
   },
   "outputs": [],
   "source": [
    "# 위도경도 매핑\n",
    "\n",
    "locs = {\n",
    "    '경기도': (37.95, 126.95),\n",
    "    '서울특별시': (37.58, 126.7),\n",
    "    '부산광역시':(35.198362, 129.053922),\n",
    "    '경상북도':  (36.63, 128.46),\n",
    "    '경상남도': (35.5, 128),\n",
    "    '인천광역시':  (37.5, 125.8),\n",
    "    '대구광역시': (35.96, 128.32),\n",
    "    '충청남도': (36.69, 126),\n",
    "    '전라남도':  (34.819400, 126.893113),\n",
    "    '전라북도':  (35.86, 126.85),\n",
    "    '대전광역시':   (36.321655, 127.378953),\n",
    "    '강원도': (37.88, 128),\n",
    "    '광주광역시': (35.28, 126.49),\n",
    "    '울산광역시': (35.8, 129.5),\n",
    "    '충청북도': (37.19, 127.50),\n",
    "    '세종특별자치시':    (36.7, 127.07),\n",
    "    '제주특별자치도':   (33.62, 126.11),\n",
    "}\n",
    "\n",
    "locs\n"
   ]
  },
  {
   "cell_type": "code",
   "execution_count": null,
   "metadata": {
    "ExecuteTime": {
     "end_time": "2022-05-27T14:24:15.201210Z",
     "start_time": "2022-05-27T14:24:15.195772Z"
    }
   },
   "outputs": [],
   "source": [
    "# 숫자만 뽑아내기\n",
    "# import re\n",
    "# re.findall('\\d+', str(sido.loc[dfdf['시도명'] == '부산광역시', '허리둘레'])) \n",
    "\n",
    "(sido.loc[sido['시도명'] == '부산광역시', '허리둘레']).to_string().split(' ')[-1]\n"
   ]
  },
  {
   "cell_type": "code",
   "execution_count": null,
   "metadata": {
    "ExecuteTime": {
     "end_time": "2022-05-27T14:24:18.849409Z",
     "start_time": "2022-05-27T14:24:18.825289Z"
    }
   },
   "outputs": [],
   "source": [
    "sido.head()"
   ]
  },
  {
   "cell_type": "code",
   "execution_count": null,
   "metadata": {
    "ExecuteTime": {
     "end_time": "2022-05-27T14:24:21.974110Z",
     "start_time": "2022-05-27T14:24:21.935042Z"
    }
   },
   "outputs": [],
   "source": [
    "sido_s = df.groupby(by=['시도명', '성별']).mean()\n",
    "sido_s.head()"
   ]
  },
  {
   "cell_type": "code",
   "execution_count": null,
   "metadata": {
    "ExecuteTime": {
     "end_time": "2022-05-27T14:24:24.073846Z",
     "start_time": "2022-05-27T14:24:24.059995Z"
    }
   },
   "outputs": [],
   "source": [
    "sido_s.loc[('서울특별시', '여성'), '허리둘레']\n"
   ]
  },
  {
   "cell_type": "code",
   "execution_count": null,
   "metadata": {
    "ExecuteTime": {
     "end_time": "2022-05-27T14:24:25.450021Z",
     "start_time": "2022-05-27T14:24:25.426445Z"
    }
   },
   "outputs": [],
   "source": [
    "sido_h = sido.groupby('시도명').mean()\n",
    "sido_h.head()\n"
   ]
  },
  {
   "cell_type": "code",
   "execution_count": null,
   "metadata": {
    "ExecuteTime": {
     "end_time": "2022-05-27T14:24:43.107087Z",
     "start_time": "2022-05-27T14:24:42.994980Z"
    }
   },
   "outputs": [],
   "source": [
    "# 지도 그려보기\n",
    "import folium\n",
    "from folium.features import DivIcon\n",
    "\n",
    "# 도화지 그리기\n",
    "m = folium.Map(location=[35.8, 128.071503], zoom_start=7,)\n",
    "\n",
    "# Choropleth 맵을 그린다.\n",
    "ch = folium.Choropleth(\n",
    "    geo_data=sido_map,\n",
    "    name='choropleth',\n",
    "    data=sido,\n",
    "    columns=['시도명', '허리둘레'],  # 매핑되는 값\n",
    "    key_on='feature.properties.CTP_KOR_NM',  # 시도명 - CTP_KOR_NM 이 맞아야 지도 매핑 가능\n",
    "    fill_color='YlGnBu',  # 지도 컬러 설정\n",
    "    fill_opacity=0.7,  # 지도 투명\n",
    "    line_opacity=1,  # 선 투명\n",
    "    line_weight=1.5,  # 선 굵기\n",
    "    line_color='#000',  # 선 색\n",
    "    legend_name='허리둘레',  # 범례 이름\n",
    "    #  highlight=True, # 하이라이트 설정\n",
    ").add_to(m)\n",
    "\n",
    "# 맵에 text를 추가한다.\n",
    "for key, value in locs.items():\n",
    "    # Marker 를 이용해서 텍스트 추가\n",
    "    folium.map.Marker(\n",
    "        [value[0], value[1]],  # 위/경도 위치에 text가 추가된다.\n",
    "        icon=DivIcon(\n",
    "            icon_size=(250, 36),\n",
    "            icon_anchor=(0, 0),\n",
    "\n",
    "            # div 태그 추가\n",
    "            html='<div style=\"\\\n",
    "                font-size: 1.1rem;\\\n",
    "                color: black;\\\n",
    "                background-color:rgba(255, 255, 255, 0.3);\\\n",
    "                width:85px;\\\n",
    "                text-align:center;\\\n",
    "                margin:0px;\">'\n",
    "            + \"<b>\"\n",
    "            + key + ': ' + str(round(sido_h.loc[key, '허리둘레'], 2))\n",
    "            # + \"<br/><span style='color: red; margin: 0px;'>\"\n",
    "            # + (sido_s.loc[sido['시도명'] == key, '허리둘레']).to_string().split(' ')[-1] + '</span>'\n",
    "            + \"<br/><span style='color: red; margin: 0px;'>여성: \"\n",
    "            + str(round(sido_s.loc[(key, '여성'), '허리둘레'], 2)) + '</span>'\n",
    "            + \"<br/><span style='color: blue; margin: 0px;'>남성: \"\n",
    "            + str(round(sido_s.loc[(key, '남성'), '허리둘레'], 2)) + '</span>'\n",
    "            + '</b></div>',\n",
    "        )).add_to(m)\n",
    "\n",
    "# layer에 지도 추가\n",
    "folium.LayerControl().add_to(m)\n",
    "\n",
    "# 타이틀 추가\n",
    "folium.map.Marker(\n",
    "    [34.2, 126.8],\n",
    "    icon=DivIcon(\n",
    "        icon_size=(500,36),\n",
    "        icon_anchor=(0,0),\n",
    "        html='<div style=\"font-size: 3rem; background-color:black;color:white;text-align:center;\">'\n",
    "        +'<b>도시에 따른 성별 허리둘레 지수<b></div>',\n",
    "        )\n",
    "    ).add_to(m)\n",
    "\n",
    "# 툴팁 추가\n",
    "# ch.geojson.add_child(\n",
    "#     folium.features.GeoJsonTooltip(['CTP_KOR_NM'], labels=False)\n",
    "# )\n",
    "\n",
    "# html 파일로 만들기\n",
    "# m.save('save.html')\n",
    "\n",
    "m  # 지도를 그린다.\n"
   ]
  },
  {
   "cell_type": "code",
   "execution_count": null,
   "metadata": {
    "ExecuteTime": {
     "end_time": "2022-05-27T14:24:50.671535Z",
     "start_time": "2022-05-27T14:24:47.110875Z"
    }
   },
   "outputs": [],
   "source": [
    "# folium 맵 사진으로 저장하기\n",
    "# conda install -c conda-forge pyppeteer\n",
    "from folium import utilities\n",
    "from pyppeteer import launch\n",
    "\n",
    "html = m.get_root().render()\n",
    "browser = await launch(headless=True)\n",
    "\n",
    "page = await browser.newPage()\n",
    "with utilities.temp_html_filepath(html) as fname:\n",
    "    await page.goto('file://{path}'.format(path=fname))\n",
    "\n",
    "img_data = await page.screenshot({'path': f'output/out.png', 'fullPage': 'true', })\n",
    "await browser.close()"
   ]
  },
  {
   "cell_type": "markdown",
   "metadata": {},
   "source": [
    "-----\n",
    "### 지도 만드는 함수"
   ]
  },
  {
   "cell_type": "code",
   "execution_count": null,
   "metadata": {
    "ExecuteTime": {
     "end_time": "2022-05-27T14:24:53.280885Z",
     "start_time": "2022-05-27T14:24:53.264724Z"
    }
   },
   "outputs": [],
   "source": [
    "from folium import utilities\n",
    "from pyppeteer import launch\n",
    "\n",
    "# 만든 지도를 png 파일로 캡쳐해서 저장하는 함수\n",
    "# @asyncio.coroutine\n",
    "async def map_to_png(target, m):\n",
    "    html = m.get_root().render()\n",
    "    browser = await launch(headless=True)\n",
    "\n",
    "    page = await browser.newPage()\n",
    "    with utilities.temp_html_filepath(html) as fname:\n",
    "        await page.goto('file://{path}'.format(path=fname))\n",
    "\n",
    "    img_data = await page.screenshot({'path': f'output/out_{target}.png', 'fullPage': 'true', })\n",
    "    await browser.close()"
   ]
  },
  {
   "cell_type": "code",
   "execution_count": null,
   "metadata": {
    "ExecuteTime": {
     "end_time": "2022-05-27T14:24:55.937240Z",
     "start_time": "2022-05-27T14:24:55.912748Z"
    }
   },
   "outputs": [],
   "source": [
    "from folium.features import DivIcon\n",
    "import folium\n",
    "\n",
    "\n",
    "\n",
    "# 지도 그리는 함수\n",
    "def load_map(target):\n",
    "    m = folium.Map(location=[35.8, 128.071503], zoom_start=7,)\n",
    "\n",
    "    # Choropleth 맵을 그린다.\n",
    "    ch = folium.Choropleth(\n",
    "        geo_data=sido_map,\n",
    "        name='choropleth',\n",
    "        data=sido,\n",
    "        columns=['시도명', target],  # 매핑되는 값\n",
    "        key_on='feature.properties.CTP_KOR_NM',  # 시도명 - CTP_KOR_NM 이 맞아야 지도 매핑 가능\n",
    "        fill_color='YlGnBu',  # 지도 컬러 설정\n",
    "        fill_opacity=0.7,  # 지도 투명\n",
    "        line_opacity=1,  # 선 투명\n",
    "        line_weight=1.5,  # 선 굵기\n",
    "        line_color='#000',  # 선 색\n",
    "        legend_name=target,  # 범례 이름\n",
    "    ).add_to(m)\n",
    "\n",
    "    # 맵에 text를 추가한다.\n",
    "    for key, value in locs.items():\n",
    "        # Marker 를 이용해서 텍스트 추가\n",
    "        folium.map.Marker(\n",
    "            [value[0], value[1]],  # 위/경도 위치에 text가 추가된다.\n",
    "            icon=DivIcon(\n",
    "                icon_size=(250, 36),\n",
    "                icon_anchor=(0, 0),\n",
    "\n",
    "                # div 태그 추가\n",
    "                html='<div style=\"\\\n",
    "                    font-size: 1.1rem;\\\n",
    "                    color: black;\\\n",
    "                    background-color:rgba(255, 255, 255, 0.3);\\\n",
    "                    width:85px;\\\n",
    "                    text-align:center;\\\n",
    "                    margin:0px;\">'\n",
    "                + \"<b>\"\n",
    "                + key + ': ' + str(round(sido_h.loc[key, target], 2))\n",
    "                + \"<br/><span style='color: red; margin: 0px;'>여성: \"\n",
    "                + str(round(sido_s.loc[(key, '여성'), target], 2)) + '</span>'\n",
    "                + \"<br/><span style='color: blue; margin: 0px;'>남성: \"\n",
    "                + str(round(sido_s.loc[(key, '남성'), target], 2)) + '</span>'\n",
    "                + '</b></div>',\n",
    "            )).add_to(m)\n",
    "\n",
    "    # layer에 지도 추가\n",
    "    folium.LayerControl().add_to(m)\n",
    "\n",
    "    # title 추가\n",
    "    folium.map.Marker(\n",
    "    [34.2, 126.8],\n",
    "    icon=DivIcon(\n",
    "        icon_size=(500,36),\n",
    "        icon_anchor=(0,0),\n",
    "        html='<div style=\"font-size: 3rem; background-color:black;color:white;text-align:center;\">'\n",
    "        +f'<b>도시에 따른 성별 {target} 지수<b></div>',\n",
    "        )\n",
    "    ).add_to(m)\n",
    "\n",
    "    return m\n",
    "\n",
    "    "
   ]
  },
  {
   "cell_type": "code",
   "execution_count": null,
   "metadata": {
    "ExecuteTime": {
     "end_time": "2022-05-27T14:23:25.264814Z",
     "start_time": "2022-05-27T14:23:25.264804Z"
    }
   },
   "outputs": [],
   "source": [
    "# 함수 test 허리둘레 지도 시각화\n",
    "target = '허리둘레'\n",
    "waste_m = load_map(target)\n",
    "await map_to_png(target, waste_m)\n"
   ]
  },
  {
   "cell_type": "code",
   "execution_count": null,
   "metadata": {
    "ExecuteTime": {
     "end_time": "2022-05-27T14:25:53.339566Z",
     "start_time": "2022-05-27T14:25:20.031272Z"
    }
   },
   "outputs": [],
   "source": [
    "# 수치형 변수 모두 지도 시각화\n",
    "for col in sido.columns[1:]: \n",
    "    m = load_map(col)\n",
    "    await map_to_png(col, m)\n"
   ]
  }
 ],
 "metadata": {
  "interpreter": {
   "hash": "dd2bdfad1ab26db227c1843957763d3a174f8536cb6672a59b557f5fb4c2622b"
  },
  "kernelspec": {
   "display_name": "Python 3 (ipykernel)",
   "language": "python",
   "name": "python3"
  },
  "language_info": {
   "codemirror_mode": {
    "name": "ipython",
    "version": 3
   },
   "file_extension": ".py",
   "mimetype": "text/x-python",
   "name": "python",
   "nbconvert_exporter": "python",
   "pygments_lexer": "ipython3",
   "version": "3.9.12"
  }
 },
 "nbformat": 4,
 "nbformat_minor": 2
}
