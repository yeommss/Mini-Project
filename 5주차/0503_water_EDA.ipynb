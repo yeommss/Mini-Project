{
 "cells": [
  {
   "cell_type": "markdown",
   "metadata": {},
   "source": [
    "이거는 수질 오염 데이터\n",
    "- 일단 tidy data..\n",
    "- binary 처리\n",
    "- category 화"
   ]
  },
  {
   "cell_type": "code",
   "execution_count": 45,
   "metadata": {},
   "outputs": [],
   "source": [
    "# 라이브러리 불러오기\n",
    "import pandas as pd\n",
    "import numpy as np\n",
    "import seaborn as sns\n",
    "import matplotlib.pyplot as plt"
   ]
  },
  {
   "cell_type": "code",
   "execution_count": 4,
   "metadata": {},
   "outputs": [],
   "source": [
    "def get_font_family():\n",
    "    \"\"\"\n",
    "    시스템 환경에 따른 기본 폰트명을 반환하는 함수\n",
    "    \"\"\"\n",
    "    import platform\n",
    "    system_name = platform.system()\n",
    "\n",
    "    if system_name == \"Darwin\":\n",
    "        font_family = \"AppleGothic\"\n",
    "    elif system_name == \"Windows\":\n",
    "        font_family = \"Malgun Gothic\"\n",
    "    else:\n",
    "        # Linux(colab)\n",
    "        !apt-get install fonts-nanum - qq > /dev/null\n",
    "        !fc-cache - fv\n",
    "\n",
    "        import matplotlib as mpl\n",
    "        mpl.font_manager._rebuild()\n",
    "        findfont = mpl.font_manager.fontManager.findfont\n",
    "        mpl.font_manager.findfont = findfont\n",
    "        mpl.backends.backend_agg.findfont = findfont\n",
    "\n",
    "        font_family = \"NanumBarunGothic\"\n",
    "    return font_family\n",
    "\n",
    "\n",
    "# style 설정은 꼭 폰트설정 위에서 합니다.\n",
    "# style 에 폰트 설정이 들어있으면 한글폰트가 초기화 되어 한글이 깨집니다.\n",
    "plt.style.use(\"seaborn\")\n",
    "# 폰트설정\n",
    "plt.rc(\"font\", family=get_font_family())\n",
    "\n",
    "# 마이너스폰트 설정\n",
    "plt.rc(\"axes\", unicode_minus=False)\n",
    "\n",
    "# 그래프에 retina display 적용\n",
    "%config InlineBackend.figure_format = 'retina'\n"
   ]
  },
  {
   "cell_type": "code",
   "execution_count": 48,
   "metadata": {},
   "outputs": [
    {
     "data": {
      "text/plain": [
       "['data/water/호소의_수질현황_20220609184509.csv',\n",
       " 'data/water/호소의_수질현황_20220609184440.csv',\n",
       " 'data/water/호소의_수질현황_20220609184529.csv',\n",
       " 'data/water/호소의_수질현황_20220609184413.csv']"
      ]
     },
     "execution_count": 48,
     "metadata": {},
     "output_type": "execute_result"
    }
   ],
   "source": [
    "# 폴더 내 데이터 확인\n",
    "from glob import glob\n",
    "\n",
    "file_list = glob('data/water/*.csv')\n",
    "file_list"
   ]
  },
  {
   "cell_type": "code",
   "execution_count": 79,
   "metadata": {},
   "outputs": [
    {
     "data": {
      "text/html": [
       "<div>\n",
       "<style scoped>\n",
       "    .dataframe tbody tr th:only-of-type {\n",
       "        vertical-align: middle;\n",
       "    }\n",
       "\n",
       "    .dataframe tbody tr th {\n",
       "        vertical-align: top;\n",
       "    }\n",
       "\n",
       "    .dataframe thead th {\n",
       "        text-align: right;\n",
       "    }\n",
       "</style>\n",
       "<table border=\"1\" class=\"dataframe\">\n",
       "  <thead>\n",
       "    <tr style=\"text-align: right;\">\n",
       "      <th></th>\n",
       "      <th>수계별(1)</th>\n",
       "      <th>수계별(2)</th>\n",
       "      <th>항목</th>\n",
       "      <th>2020.04</th>\n",
       "      <th>2020.05</th>\n",
       "      <th>2020.06</th>\n",
       "      <th>2020.07</th>\n",
       "      <th>2020.08</th>\n",
       "      <th>2020.09</th>\n",
       "      <th>2020.10</th>\n",
       "      <th>2020.11</th>\n",
       "      <th>2020.12</th>\n",
       "    </tr>\n",
       "  </thead>\n",
       "  <tbody>\n",
       "    <tr>\n",
       "      <th>0</th>\n",
       "      <td>한강</td>\n",
       "      <td>화천댐1(파로호)</td>\n",
       "      <td>생물화학적산소요구량 BOD (㎎/ℓ)</td>\n",
       "      <td>1.1</td>\n",
       "      <td>0.7</td>\n",
       "      <td>1.8</td>\n",
       "      <td>0.9</td>\n",
       "      <td>1.9</td>\n",
       "      <td>1.2</td>\n",
       "      <td>0.6</td>\n",
       "      <td>0.5</td>\n",
       "      <td>1.0</td>\n",
       "    </tr>\n",
       "    <tr>\n",
       "      <th>1</th>\n",
       "      <td>한강</td>\n",
       "      <td>화천댐1(파로호)</td>\n",
       "      <td>용존산소 DO (㎎/ℓ)</td>\n",
       "      <td>12.4</td>\n",
       "      <td>11.1</td>\n",
       "      <td>10.0</td>\n",
       "      <td>9.7</td>\n",
       "      <td>10.2</td>\n",
       "      <td>9.0</td>\n",
       "      <td>8.6</td>\n",
       "      <td>9.8</td>\n",
       "      <td>10.0</td>\n",
       "    </tr>\n",
       "    <tr>\n",
       "      <th>2</th>\n",
       "      <td>한강</td>\n",
       "      <td>화천댐1(파로호)</td>\n",
       "      <td>수온 (℃)</td>\n",
       "      <td>6.6</td>\n",
       "      <td>12.4</td>\n",
       "      <td>15.4</td>\n",
       "      <td>19.5</td>\n",
       "      <td>22.7</td>\n",
       "      <td>18.0</td>\n",
       "      <td>18.2</td>\n",
       "      <td>13.8</td>\n",
       "      <td>10.2</td>\n",
       "    </tr>\n",
       "    <tr>\n",
       "      <th>3</th>\n",
       "      <td>한강</td>\n",
       "      <td>화천댐1(파로호)</td>\n",
       "      <td>카드뮴 Cd (㎎/ℓ)</td>\n",
       "      <td>-</td>\n",
       "      <td>-</td>\n",
       "      <td>0.00020</td>\n",
       "      <td>-</td>\n",
       "      <td>-</td>\n",
       "      <td>0.00000</td>\n",
       "      <td>-</td>\n",
       "      <td>-</td>\n",
       "      <td>0.00000</td>\n",
       "    </tr>\n",
       "    <tr>\n",
       "      <th>4</th>\n",
       "      <td>한강</td>\n",
       "      <td>화천댐1(파로호)</td>\n",
       "      <td>시안 CN (㎎/ℓ)</td>\n",
       "      <td>-</td>\n",
       "      <td>-</td>\n",
       "      <td>0.00</td>\n",
       "      <td>-</td>\n",
       "      <td>-</td>\n",
       "      <td>0.00</td>\n",
       "      <td>-</td>\n",
       "      <td>-</td>\n",
       "      <td>0.00</td>\n",
       "    </tr>\n",
       "  </tbody>\n",
       "</table>\n",
       "</div>"
      ],
      "text/plain": [
       "  수계별(1)     수계별(2)                    항목 2020.04 2020.05  2020.06 2020.07  \\\n",
       "0     한강  화천댐1(파로호)  생물화학적산소요구량 BOD (㎎/ℓ)     1.1     0.7      1.8     0.9   \n",
       "1     한강  화천댐1(파로호)         용존산소 DO (㎎/ℓ)    12.4    11.1     10.0     9.7   \n",
       "2     한강  화천댐1(파로호)                수온 (℃)     6.6    12.4     15.4    19.5   \n",
       "3     한강  화천댐1(파로호)          카드뮴 Cd (㎎/ℓ)       -       -  0.00020       -   \n",
       "4     한강  화천댐1(파로호)           시안 CN (㎎/ℓ)       -       -     0.00       -   \n",
       "\n",
       "  2020.08  2020.09 2020.10 2020.11  2020.12  \n",
       "0     1.9      1.2     0.6     0.5      1.0  \n",
       "1    10.2      9.0     8.6     9.8     10.0  \n",
       "2    22.7     18.0    18.2    13.8     10.2  \n",
       "3       -  0.00000       -       -  0.00000  \n",
       "4       -     0.00       -       -     0.00  "
      ]
     },
     "execution_count": 79,
     "metadata": {},
     "output_type": "execute_result"
    }
   ],
   "source": [
    "# 데이터 가져오기\n",
    "dfs = [pd.read_csv(name, encoding='cp949') for name in file_list]\n",
    "dfs[0].head()"
   ]
  },
  {
   "cell_type": "code",
   "execution_count": 114,
   "metadata": {},
   "outputs": [
    {
     "data": {
      "text/plain": [
       "(Index(['수계별(1)', '수계별(2)', '항목', '2020.01', '2020.02', '2020.03', '2020.04',\n",
       "        '2020.05', '2020.06', '2020.07', '2020.08', '2020.09', '2020.10',\n",
       "        '2020.11', '2020.12'],\n",
       "       dtype='object'),\n",
       " Index(['수계별(1)', '수계별(2)', '항목', '2019.01', '2019.02', '2019.03', '2019.04',\n",
       "        '2019.05', '2019.06', '2019.07', '2019.08', '2019.09', '2019.10',\n",
       "        '2019.11', '2019.12'],\n",
       "       dtype='object'))"
      ]
     },
     "execution_count": 114,
     "metadata": {},
     "output_type": "execute_result"
    }
   ],
   "source": [
    "# 19년도, 20년도 병합\n",
    "df_19_m = pd.merge(dfs[2], dfs[0])\n",
    "df_20_m = pd.merge(dfs[1], dfs[3])\n",
    "df_19_m.columns, df_20_m.columns"
   ]
  },
  {
   "cell_type": "code",
   "execution_count": 138,
   "metadata": {},
   "outputs": [
    {
     "data": {
      "text/html": [
       "<div>\n",
       "<style scoped>\n",
       "    .dataframe tbody tr th:only-of-type {\n",
       "        vertical-align: middle;\n",
       "    }\n",
       "\n",
       "    .dataframe tbody tr th {\n",
       "        vertical-align: top;\n",
       "    }\n",
       "\n",
       "    .dataframe thead th {\n",
       "        text-align: right;\n",
       "    }\n",
       "</style>\n",
       "<table border=\"1\" class=\"dataframe\">\n",
       "  <thead>\n",
       "    <tr style=\"text-align: right;\">\n",
       "      <th></th>\n",
       "      <th>강명</th>\n",
       "      <th>댐명</th>\n",
       "      <th>항목</th>\n",
       "      <th>시점</th>\n",
       "      <th>오염지수</th>\n",
       "    </tr>\n",
       "  </thead>\n",
       "  <tbody>\n",
       "    <tr>\n",
       "      <th>0</th>\n",
       "      <td>한강</td>\n",
       "      <td>화천댐1(파로호)</td>\n",
       "      <td>생물화학적산소요구량 BOD (㎎/ℓ)</td>\n",
       "      <td>2019.01</td>\n",
       "      <td>1.0</td>\n",
       "    </tr>\n",
       "    <tr>\n",
       "      <th>1</th>\n",
       "      <td>한강</td>\n",
       "      <td>화천댐1(파로호)</td>\n",
       "      <td>용존산소 DO (㎎/ℓ)</td>\n",
       "      <td>2019.01</td>\n",
       "      <td>10.3</td>\n",
       "    </tr>\n",
       "    <tr>\n",
       "      <th>2</th>\n",
       "      <td>한강</td>\n",
       "      <td>화천댐1(파로호)</td>\n",
       "      <td>수온 (℃)</td>\n",
       "      <td>2019.01</td>\n",
       "      <td>5.3</td>\n",
       "    </tr>\n",
       "    <tr>\n",
       "      <th>3</th>\n",
       "      <td>한강</td>\n",
       "      <td>화천댐1(파로호)</td>\n",
       "      <td>카드뮴 Cd (㎎/ℓ)</td>\n",
       "      <td>2019.01</td>\n",
       "      <td>-</td>\n",
       "    </tr>\n",
       "    <tr>\n",
       "      <th>4</th>\n",
       "      <td>한강</td>\n",
       "      <td>화천댐1(파로호)</td>\n",
       "      <td>시안 CN (㎎/ℓ)</td>\n",
       "      <td>2019.01</td>\n",
       "      <td>-</td>\n",
       "    </tr>\n",
       "  </tbody>\n",
       "</table>\n",
       "</div>"
      ],
      "text/plain": [
       "   강명         댐명                    항목       시점  오염지수\n",
       "0  한강  화천댐1(파로호)  생물화학적산소요구량 BOD (㎎/ℓ)  2019.01   1.0\n",
       "1  한강  화천댐1(파로호)         용존산소 DO (㎎/ℓ)  2019.01  10.3\n",
       "2  한강  화천댐1(파로호)                수온 (℃)  2019.01   5.3\n",
       "3  한강  화천댐1(파로호)          카드뮴 Cd (㎎/ℓ)  2019.01     -\n",
       "4  한강  화천댐1(파로호)           시안 CN (㎎/ℓ)  2019.01     -"
      ]
     },
     "execution_count": 138,
     "metadata": {},
     "output_type": "execute_result"
    }
   ],
   "source": [
    "# tidy data, 컬럼명 변경\n",
    "cols = ['강명', '댐명', '항목', '시점', '오염지수']\n",
    "df_19 = df_19_m.melt(id_vars=['수계별(1)', '수계별(2)', '항목'], var_name='시점')\n",
    "df_20 = df_20_m.melt(id_vars=['수계별(1)', '수계별(2)', '항목'], var_name='시점')\n",
    "df_19.columns = cols\n",
    "df_20.columns = cols\n",
    "df_20.head()\n"
   ]
  },
  {
   "cell_type": "code",
   "execution_count": 139,
   "metadata": {},
   "outputs": [
    {
     "data": {
      "text/plain": [
       "(Index(['강명', '댐명', '항목', '시점', '오염지수'], dtype='object'),\n",
       " Index(['강명', '댐명', '항목', '시점', '오염지수'], dtype='object'))"
      ]
     },
     "execution_count": 139,
     "metadata": {},
     "output_type": "execute_result"
    }
   ],
   "source": [
    "# 안쓰는 컬럼 삭제\n",
    "# del df_19['수계별(1)']\n",
    "# del df_20['수계별(1)']\n",
    "# del df_19['시점']\n",
    "# del df_20['시점']\n",
    "df_19.columns, df_20.columns\n"
   ]
  },
  {
   "cell_type": "code",
   "execution_count": 140,
   "metadata": {},
   "outputs": [
    {
     "data": {
      "text/plain": [
       "((21168, 5), (20280, 5))"
      ]
     },
     "execution_count": 140,
     "metadata": {},
     "output_type": "execute_result"
    }
   ],
   "source": [
    "# shape 확인\n",
    "df_19.shape, df_20.shape"
   ]
  },
  {
   "cell_type": "code",
   "execution_count": 141,
   "metadata": {},
   "outputs": [
    {
     "data": {
      "text/plain": [
       "강명      object\n",
       "댐명      object\n",
       "항목      object\n",
       "시점      object\n",
       "오염지수    object\n",
       "dtype: object"
      ]
     },
     "execution_count": 141,
     "metadata": {},
     "output_type": "execute_result"
    }
   ],
   "source": [
    "# dtype 확인\n",
    "df_19.dtypes"
   ]
  },
  {
   "cell_type": "code",
   "execution_count": 144,
   "metadata": {},
   "outputs": [
    {
     "data": {
      "text/plain": [
       "(강명       object\n",
       " 댐명       object\n",
       " 항목       object\n",
       " 시점       object\n",
       " 오염지수    float64\n",
       " dtype: object,\n",
       " 강명       object\n",
       " 댐명       object\n",
       " 항목       object\n",
       " 시점       object\n",
       " 오염지수    float64\n",
       " dtype: object)"
      ]
     },
     "execution_count": 144,
     "metadata": {},
     "output_type": "execute_result"
    }
   ],
   "source": [
    "# 수치형으로 타입 변경\n",
    "df_19['오염지수'] = pd.to_numeric(df_19['오염지수'], errors='coerce', downcast='unsigned')\n",
    "df_20['오염지수'] = pd.to_numeric(df_20['오염지수'], errors='coerce', downcast='unsigned')\n",
    "df_19.dtypes, df_20.dtypes"
   ]
  },
  {
   "cell_type": "code",
   "execution_count": 145,
   "metadata": {},
   "outputs": [
    {
     "data": {
      "text/plain": [
       "강명      category\n",
       "댐명      category\n",
       "항목      category\n",
       "시점      category\n",
       "오염지수     float64\n",
       "dtype: object"
      ]
     },
     "execution_count": 145,
     "metadata": {},
     "output_type": "execute_result"
    }
   ],
   "source": [
    "# downcast\n",
    "ocols = df_19.select_dtypes('object').columns\n",
    "df_19[ocols] = df_19[ocols].astype('category')\n",
    "df_19.dtypes"
   ]
  },
  {
   "cell_type": "code",
   "execution_count": 148,
   "metadata": {},
   "outputs": [
    {
     "data": {
      "text/plain": [
       "강명      category\n",
       "댐명      category\n",
       "항목      category\n",
       "시점      category\n",
       "오염지수     float64\n",
       "dtype: object"
      ]
     },
     "execution_count": 148,
     "metadata": {},
     "output_type": "execute_result"
    }
   ],
   "source": [
    "# downcast\n",
    "ocols = df_20.select_dtypes('object').columns\n",
    "df_20[ocols] = df_20[ocols].astype('category')\n",
    "df_20.dtypes\n"
   ]
  },
  {
   "cell_type": "code",
   "execution_count": 157,
   "metadata": {},
   "outputs": [
    {
     "name": "stdout",
     "output_type": "stream",
     "text": [
      "<class 'pandas.core.frame.DataFrame'>\n",
      "RangeIndex: 21168 entries, 0 to 21167\n",
      "Data columns (total 5 columns):\n",
      " #   Column  Non-Null Count  Dtype   \n",
      "---  ------  --------------  -----   \n",
      " 0   강명      21168 non-null  category\n",
      " 1   댐명      21168 non-null  category\n",
      " 2   항목      21168 non-null  category\n",
      " 3   시점      21168 non-null  category\n",
      " 4   오염지수    11787 non-null  float64 \n",
      "dtypes: category(4), float64(1)\n",
      "memory usage: 296.8 KB\n"
     ]
    }
   ],
   "source": [
    "# info 확인\n",
    "df_19.info(memory_usage='deep')"
   ]
  },
  {
   "cell_type": "code",
   "execution_count": 161,
   "metadata": {},
   "outputs": [
    {
     "data": {
      "text/html": [
       "<div>\n",
       "<style scoped>\n",
       "    .dataframe tbody tr th:only-of-type {\n",
       "        vertical-align: middle;\n",
       "    }\n",
       "\n",
       "    .dataframe tbody tr th {\n",
       "        vertical-align: top;\n",
       "    }\n",
       "\n",
       "    .dataframe thead th {\n",
       "        text-align: right;\n",
       "    }\n",
       "</style>\n",
       "<table border=\"1\" class=\"dataframe\">\n",
       "  <thead>\n",
       "    <tr style=\"text-align: right;\">\n",
       "      <th></th>\n",
       "      <th>강명</th>\n",
       "      <th>댐명</th>\n",
       "      <th>항목</th>\n",
       "      <th>시점</th>\n",
       "      <th>오염지수</th>\n",
       "    </tr>\n",
       "  </thead>\n",
       "  <tbody>\n",
       "    <tr>\n",
       "      <th>0</th>\n",
       "      <td>한강</td>\n",
       "      <td>화천댐1(파로호)</td>\n",
       "      <td>생물화학적산소요구량 BOD (㎎/ℓ)</td>\n",
       "      <td>2020.01</td>\n",
       "      <td>0.4</td>\n",
       "    </tr>\n",
       "    <tr>\n",
       "      <th>1</th>\n",
       "      <td>한강</td>\n",
       "      <td>화천댐1(파로호)</td>\n",
       "      <td>용존산소 DO (㎎/ℓ)</td>\n",
       "      <td>2020.01</td>\n",
       "      <td>10.7</td>\n",
       "    </tr>\n",
       "    <tr>\n",
       "      <th>2</th>\n",
       "      <td>한강</td>\n",
       "      <td>화천댐1(파로호)</td>\n",
       "      <td>수온 (℃)</td>\n",
       "      <td>2020.01</td>\n",
       "      <td>6.5</td>\n",
       "    </tr>\n",
       "    <tr>\n",
       "      <th>3</th>\n",
       "      <td>한강</td>\n",
       "      <td>화천댐1(파로호)</td>\n",
       "      <td>카드뮴 Cd (㎎/ℓ)</td>\n",
       "      <td>2020.01</td>\n",
       "      <td>NaN</td>\n",
       "    </tr>\n",
       "    <tr>\n",
       "      <th>4</th>\n",
       "      <td>한강</td>\n",
       "      <td>화천댐1(파로호)</td>\n",
       "      <td>시안 CN (㎎/ℓ)</td>\n",
       "      <td>2020.01</td>\n",
       "      <td>NaN</td>\n",
       "    </tr>\n",
       "  </tbody>\n",
       "</table>\n",
       "</div>"
      ],
      "text/plain": [
       "   강명         댐명                    항목       시점  오염지수\n",
       "0  한강  화천댐1(파로호)  생물화학적산소요구량 BOD (㎎/ℓ)  2020.01   0.4\n",
       "1  한강  화천댐1(파로호)         용존산소 DO (㎎/ℓ)  2020.01  10.7\n",
       "2  한강  화천댐1(파로호)                수온 (℃)  2020.01   6.5\n",
       "3  한강  화천댐1(파로호)          카드뮴 Cd (㎎/ℓ)  2020.01   NaN\n",
       "4  한강  화천댐1(파로호)           시안 CN (㎎/ℓ)  2020.01   NaN"
      ]
     },
     "execution_count": 161,
     "metadata": {},
     "output_type": "execute_result"
    }
   ],
   "source": [
    "df_19.head()"
   ]
  },
  {
   "cell_type": "code",
   "execution_count": 168,
   "metadata": {},
   "outputs": [
    {
     "data": {
      "text/html": [
       "<div>\n",
       "<style scoped>\n",
       "    .dataframe tbody tr th:only-of-type {\n",
       "        vertical-align: middle;\n",
       "    }\n",
       "\n",
       "    .dataframe tbody tr th {\n",
       "        vertical-align: top;\n",
       "    }\n",
       "\n",
       "    .dataframe thead th {\n",
       "        text-align: right;\n",
       "    }\n",
       "</style>\n",
       "<table border=\"1\" class=\"dataframe\">\n",
       "  <thead>\n",
       "    <tr style=\"text-align: right;\">\n",
       "      <th></th>\n",
       "      <th>강명</th>\n",
       "      <th>댐명</th>\n",
       "      <th>항목</th>\n",
       "      <th>시점</th>\n",
       "      <th>오염지수</th>\n",
       "    </tr>\n",
       "  </thead>\n",
       "  <tbody>\n",
       "    <tr>\n",
       "      <th>0</th>\n",
       "      <td>한강</td>\n",
       "      <td>화천댐1(파로호)</td>\n",
       "      <td>생물화학적산소요구량 BOD (㎎/ℓ)</td>\n",
       "      <td>2020.01</td>\n",
       "      <td>0.4</td>\n",
       "    </tr>\n",
       "    <tr>\n",
       "      <th>1</th>\n",
       "      <td>한강</td>\n",
       "      <td>화천댐1(파로호)</td>\n",
       "      <td>용존산소 DO (㎎/ℓ)</td>\n",
       "      <td>2020.01</td>\n",
       "      <td>10.7</td>\n",
       "    </tr>\n",
       "    <tr>\n",
       "      <th>2</th>\n",
       "      <td>한강</td>\n",
       "      <td>화천댐1(파로호)</td>\n",
       "      <td>수온 (℃)</td>\n",
       "      <td>2020.01</td>\n",
       "      <td>6.5</td>\n",
       "    </tr>\n",
       "    <tr>\n",
       "      <th>3</th>\n",
       "      <td>한강</td>\n",
       "      <td>화천댐1(파로호)</td>\n",
       "      <td>카드뮴 Cd (㎎/ℓ)</td>\n",
       "      <td>2020.01</td>\n",
       "      <td>0.0</td>\n",
       "    </tr>\n",
       "    <tr>\n",
       "      <th>4</th>\n",
       "      <td>한강</td>\n",
       "      <td>화천댐1(파로호)</td>\n",
       "      <td>시안 CN (㎎/ℓ)</td>\n",
       "      <td>2020.01</td>\n",
       "      <td>0.0</td>\n",
       "    </tr>\n",
       "  </tbody>\n",
       "</table>\n",
       "</div>"
      ],
      "text/plain": [
       "   강명         댐명                    항목       시점  오염지수\n",
       "0  한강  화천댐1(파로호)  생물화학적산소요구량 BOD (㎎/ℓ)  2020.01   0.4\n",
       "1  한강  화천댐1(파로호)         용존산소 DO (㎎/ℓ)  2020.01  10.7\n",
       "2  한강  화천댐1(파로호)                수온 (℃)  2020.01   6.5\n",
       "3  한강  화천댐1(파로호)          카드뮴 Cd (㎎/ℓ)  2020.01   0.0\n",
       "4  한강  화천댐1(파로호)           시안 CN (㎎/ℓ)  2020.01   0.0"
      ]
     },
     "execution_count": 168,
     "metadata": {},
     "output_type": "execute_result"
    }
   ],
   "source": [
    "# 결측치 채워넣기\n",
    "df_19['오염지수'] = df_19['오염지수'].fillna(0)\n",
    "df_20['오염지수'] = df_20['오염지수'].fillna(0)\n",
    "df_19.head()"
   ]
  },
  {
   "cell_type": "code",
   "execution_count": 183,
   "metadata": {},
   "outputs": [],
   "source": [
    "# 그룹핑\n",
    "df_19_g = df_19.groupby(by=['강명', '항목', '시점'], as_index=False).mean()\n",
    "df_20_g = df_20.groupby(by=['강명', '항목', '시점'], as_index=False).mean()\n"
   ]
  },
  {
   "cell_type": "code",
   "execution_count": 188,
   "metadata": {},
   "outputs": [
    {
     "data": {
      "text/html": [
       "<div>\n",
       "<style scoped>\n",
       "    .dataframe tbody tr th:only-of-type {\n",
       "        vertical-align: middle;\n",
       "    }\n",
       "\n",
       "    .dataframe tbody tr th {\n",
       "        vertical-align: top;\n",
       "    }\n",
       "\n",
       "    .dataframe thead th {\n",
       "        text-align: right;\n",
       "    }\n",
       "</style>\n",
       "<table border=\"1\" class=\"dataframe\">\n",
       "  <thead>\n",
       "    <tr style=\"text-align: right;\">\n",
       "      <th></th>\n",
       "      <th>강명</th>\n",
       "      <th>항목</th>\n",
       "      <th>시점</th>\n",
       "      <th>오염지수</th>\n",
       "    </tr>\n",
       "  </thead>\n",
       "  <tbody>\n",
       "    <tr>\n",
       "      <th>0</th>\n",
       "      <td>금강</td>\n",
       "      <td>6가크롬 Cr6+ (㎎/ℓ)</td>\n",
       "      <td>2020.01</td>\n",
       "      <td>0.0</td>\n",
       "    </tr>\n",
       "    <tr>\n",
       "      <th>1</th>\n",
       "      <td>금강</td>\n",
       "      <td>6가크롬 Cr6+ (㎎/ℓ)</td>\n",
       "      <td>2020.02</td>\n",
       "      <td>0.0</td>\n",
       "    </tr>\n",
       "    <tr>\n",
       "      <th>2</th>\n",
       "      <td>금강</td>\n",
       "      <td>6가크롬 Cr6+ (㎎/ℓ)</td>\n",
       "      <td>2020.03</td>\n",
       "      <td>0.0</td>\n",
       "    </tr>\n",
       "    <tr>\n",
       "      <th>3</th>\n",
       "      <td>금강</td>\n",
       "      <td>6가크롬 Cr6+ (㎎/ℓ)</td>\n",
       "      <td>2020.04</td>\n",
       "      <td>0.0</td>\n",
       "    </tr>\n",
       "    <tr>\n",
       "      <th>4</th>\n",
       "      <td>금강</td>\n",
       "      <td>6가크롬 Cr6+ (㎎/ℓ)</td>\n",
       "      <td>2020.05</td>\n",
       "      <td>0.0</td>\n",
       "    </tr>\n",
       "    <tr>\n",
       "      <th>...</th>\n",
       "      <td>...</td>\n",
       "      <td>...</td>\n",
       "      <td>...</td>\n",
       "      <td>...</td>\n",
       "    </tr>\n",
       "    <tr>\n",
       "      <th>1507</th>\n",
       "      <td>회야강</td>\n",
       "      <td>카드뮴 Cd (㎎/ℓ)</td>\n",
       "      <td>2020.08</td>\n",
       "      <td>0.0</td>\n",
       "    </tr>\n",
       "    <tr>\n",
       "      <th>1508</th>\n",
       "      <td>회야강</td>\n",
       "      <td>카드뮴 Cd (㎎/ℓ)</td>\n",
       "      <td>2020.09</td>\n",
       "      <td>0.0</td>\n",
       "    </tr>\n",
       "    <tr>\n",
       "      <th>1509</th>\n",
       "      <td>회야강</td>\n",
       "      <td>카드뮴 Cd (㎎/ℓ)</td>\n",
       "      <td>2020.10</td>\n",
       "      <td>0.0</td>\n",
       "    </tr>\n",
       "    <tr>\n",
       "      <th>1510</th>\n",
       "      <td>회야강</td>\n",
       "      <td>카드뮴 Cd (㎎/ℓ)</td>\n",
       "      <td>2020.11</td>\n",
       "      <td>0.0</td>\n",
       "    </tr>\n",
       "    <tr>\n",
       "      <th>1511</th>\n",
       "      <td>회야강</td>\n",
       "      <td>카드뮴 Cd (㎎/ℓ)</td>\n",
       "      <td>2020.12</td>\n",
       "      <td>0.0</td>\n",
       "    </tr>\n",
       "  </tbody>\n",
       "</table>\n",
       "<p>1512 rows × 4 columns</p>\n",
       "</div>"
      ],
      "text/plain": [
       "       강명               항목       시점  오염지수\n",
       "0      금강  6가크롬 Cr6+ (㎎/ℓ)  2020.01   0.0\n",
       "1      금강  6가크롬 Cr6+ (㎎/ℓ)  2020.02   0.0\n",
       "2      금강  6가크롬 Cr6+ (㎎/ℓ)  2020.03   0.0\n",
       "3      금강  6가크롬 Cr6+ (㎎/ℓ)  2020.04   0.0\n",
       "4      금강  6가크롬 Cr6+ (㎎/ℓ)  2020.05   0.0\n",
       "...   ...              ...      ...   ...\n",
       "1507  회야강     카드뮴 Cd (㎎/ℓ)  2020.08   0.0\n",
       "1508  회야강     카드뮴 Cd (㎎/ℓ)  2020.09   0.0\n",
       "1509  회야강     카드뮴 Cd (㎎/ℓ)  2020.10   0.0\n",
       "1510  회야강     카드뮴 Cd (㎎/ℓ)  2020.11   0.0\n",
       "1511  회야강     카드뮴 Cd (㎎/ℓ)  2020.12   0.0\n",
       "\n",
       "[1512 rows x 4 columns]"
      ]
     },
     "execution_count": 188,
     "metadata": {},
     "output_type": "execute_result"
    }
   ],
   "source": [
    "df_19_g"
   ]
  },
  {
   "cell_type": "code",
   "execution_count": 198,
   "metadata": {},
   "outputs": [
    {
     "data": {
      "text/plain": [
       "0"
      ]
     },
     "execution_count": 198,
     "metadata": {},
     "output_type": "execute_result"
    }
   ],
   "source": [
    "# concat 할 수 있는지 확인\n",
    "((df_20_g['강명'] == df_19_g['강명']) == False).sum()\n",
    "((df_20_g['항목'] == df_19_g['항목']) == False).sum()"
   ]
  },
  {
   "cell_type": "code",
   "execution_count": 224,
   "metadata": {},
   "outputs": [
    {
     "data": {
      "text/html": [
       "<div>\n",
       "<style scoped>\n",
       "    .dataframe tbody tr th:only-of-type {\n",
       "        vertical-align: middle;\n",
       "    }\n",
       "\n",
       "    .dataframe tbody tr th {\n",
       "        vertical-align: top;\n",
       "    }\n",
       "\n",
       "    .dataframe thead th {\n",
       "        text-align: right;\n",
       "    }\n",
       "</style>\n",
       "<table border=\"1\" class=\"dataframe\">\n",
       "  <thead>\n",
       "    <tr style=\"text-align: right;\">\n",
       "      <th></th>\n",
       "      <th>강명</th>\n",
       "      <th>항목</th>\n",
       "      <th>시점</th>\n",
       "      <th>오염지수</th>\n",
       "      <th>시점</th>\n",
       "      <th>오염지수</th>\n",
       "    </tr>\n",
       "  </thead>\n",
       "  <tbody>\n",
       "    <tr>\n",
       "      <th>0</th>\n",
       "      <td>금강</td>\n",
       "      <td>6가크롬 Cr6+ (㎎/ℓ)</td>\n",
       "      <td>2020.01</td>\n",
       "      <td>0.0</td>\n",
       "      <td>2019.01</td>\n",
       "      <td>0.0</td>\n",
       "    </tr>\n",
       "    <tr>\n",
       "      <th>1</th>\n",
       "      <td>금강</td>\n",
       "      <td>6가크롬 Cr6+ (㎎/ℓ)</td>\n",
       "      <td>2020.02</td>\n",
       "      <td>0.0</td>\n",
       "      <td>2019.02</td>\n",
       "      <td>0.0</td>\n",
       "    </tr>\n",
       "    <tr>\n",
       "      <th>2</th>\n",
       "      <td>금강</td>\n",
       "      <td>6가크롬 Cr6+ (㎎/ℓ)</td>\n",
       "      <td>2020.03</td>\n",
       "      <td>0.0</td>\n",
       "      <td>2019.03</td>\n",
       "      <td>0.0</td>\n",
       "    </tr>\n",
       "    <tr>\n",
       "      <th>3</th>\n",
       "      <td>금강</td>\n",
       "      <td>6가크롬 Cr6+ (㎎/ℓ)</td>\n",
       "      <td>2020.04</td>\n",
       "      <td>0.0</td>\n",
       "      <td>2019.04</td>\n",
       "      <td>0.0</td>\n",
       "    </tr>\n",
       "    <tr>\n",
       "      <th>4</th>\n",
       "      <td>금강</td>\n",
       "      <td>6가크롬 Cr6+ (㎎/ℓ)</td>\n",
       "      <td>2020.05</td>\n",
       "      <td>0.0</td>\n",
       "      <td>2019.05</td>\n",
       "      <td>0.0</td>\n",
       "    </tr>\n",
       "  </tbody>\n",
       "</table>\n",
       "</div>"
      ],
      "text/plain": [
       "   강명               항목       시점  오염지수       시점  오염지수\n",
       "0  금강  6가크롬 Cr6+ (㎎/ℓ)  2020.01   0.0  2019.01   0.0\n",
       "1  금강  6가크롬 Cr6+ (㎎/ℓ)  2020.02   0.0  2019.02   0.0\n",
       "2  금강  6가크롬 Cr6+ (㎎/ℓ)  2020.03   0.0  2019.03   0.0\n",
       "3  금강  6가크롬 Cr6+ (㎎/ℓ)  2020.04   0.0  2019.04   0.0\n",
       "4  금강  6가크롬 Cr6+ (㎎/ℓ)  2020.05   0.0  2019.05   0.0"
      ]
     },
     "execution_count": 224,
     "metadata": {},
     "output_type": "execute_result"
    }
   ],
   "source": [
    "# concat\n",
    "water = pd.concat([df_19_g, df_20_g.loc[:, ['시점', '오염지수']]], axis=1)\n",
    "water.head()"
   ]
  },
  {
   "cell_type": "code",
   "execution_count": 225,
   "metadata": {},
   "outputs": [],
   "source": [
    "# 데이터 저장\n",
    "water.to_csv('output/water/water_1920.csv', index=False)"
   ]
  },
  {
   "cell_type": "code",
   "execution_count": null,
   "metadata": {},
   "outputs": [],
   "source": []
  }
 ],
 "metadata": {
  "interpreter": {
   "hash": "dd2bdfad1ab26db227c1843957763d3a174f8536cb6672a59b557f5fb4c2622b"
  },
  "kernelspec": {
   "display_name": "Python 3.9.12 ('base')",
   "language": "python",
   "name": "python3"
  },
  "language_info": {
   "codemirror_mode": {
    "name": "ipython",
    "version": 3
   },
   "file_extension": ".py",
   "mimetype": "text/x-python",
   "name": "python",
   "nbconvert_exporter": "python",
   "pygments_lexer": "ipython3",
   "version": "3.9.12"
  },
  "orig_nbformat": 4
 },
 "nbformat": 4,
 "nbformat_minor": 2
}
