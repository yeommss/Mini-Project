{
 "cells": [
  {
   "cell_type": "markdown",
   "metadata": {},
   "source": [
    "<center><h1><b>5주차 ✅ EDA</b></h1></center>"
   ]
  },
  {
   "cell_type": "markdown",
   "metadata": {},
   "source": [
    "---\n",
    "----\n",
    "\n",
    "<center><h2><b>데이터 가져오기 및 초기 가공 (merge) </b></h2></center>\n"
   ]
  },
  {
   "cell_type": "code",
   "execution_count": 1,
   "metadata": {},
   "outputs": [],
   "source": [
    "import pandas as pd\n",
    "import numpy as np\n",
    "import matplotlib.pyplot as plt\n",
    "import seaborn as sns\n",
    "import plotly.express as px\n",
    "# import cufflinks as cf"
   ]
  },
  {
   "cell_type": "code",
   "execution_count": 2,
   "metadata": {},
   "outputs": [],
   "source": [
    "pd.set_option('display.max_columns', None)"
   ]
  },
  {
   "cell_type": "code",
   "execution_count": 121,
   "metadata": {},
   "outputs": [
    {
     "data": {
      "text/plain": [
       "['data/water/수질오염.csv']"
      ]
     },
     "execution_count": 121,
     "metadata": {},
     "output_type": "execute_result"
    }
   ],
   "source": [
    "from glob import glob\n",
    "\n",
    "glob('data/water/*')"
   ]
  },
  {
   "cell_type": "markdown",
   "metadata": {},
   "source": [
    "## 수질오염"
   ]
  },
  {
   "cell_type": "code",
   "execution_count": 124,
   "metadata": {},
   "outputs": [
    {
     "data": {
      "text/html": [
       "<div>\n",
       "<style scoped>\n",
       "    .dataframe tbody tr th:only-of-type {\n",
       "        vertical-align: middle;\n",
       "    }\n",
       "\n",
       "    .dataframe tbody tr th {\n",
       "        vertical-align: top;\n",
       "    }\n",
       "\n",
       "    .dataframe thead th {\n",
       "        text-align: right;\n",
       "    }\n",
       "</style>\n",
       "<table border=\"1\" class=\"dataframe\">\n",
       "  <thead>\n",
       "    <tr style=\"text-align: right;\">\n",
       "      <th></th>\n",
       "      <th>수계별</th>\n",
       "      <th>항목</th>\n",
       "      <th>단위</th>\n",
       "      <th>2019.01 월</th>\n",
       "      <th>2019.02 월</th>\n",
       "      <th>2019.03 월</th>\n",
       "      <th>2019.04 월</th>\n",
       "      <th>2019.05 월</th>\n",
       "      <th>2019.06 월</th>\n",
       "      <th>2019.07 월</th>\n",
       "      <th>2019.08 월</th>\n",
       "      <th>2019.09 월</th>\n",
       "      <th>2019.10 월</th>\n",
       "      <th>2019.11 월</th>\n",
       "      <th>2019.12 월</th>\n",
       "      <th>2020.01 월</th>\n",
       "      <th>2020.02 월</th>\n",
       "      <th>2020.03 월</th>\n",
       "      <th>2020.04 월</th>\n",
       "      <th>2020.05 월</th>\n",
       "      <th>2020.06 월</th>\n",
       "      <th>2020.07 월</th>\n",
       "      <th>2020.08 월</th>\n",
       "      <th>2020.09 월</th>\n",
       "      <th>2020.10 월</th>\n",
       "      <th>2020.11 월</th>\n",
       "      <th>2020.12 월</th>\n",
       "      <th>Unnamed: 27</th>\n",
       "    </tr>\n",
       "  </thead>\n",
       "  <tbody>\n",
       "    <tr>\n",
       "      <th>0</th>\n",
       "      <td>화천댐1(파로호)</td>\n",
       "      <td>생물화학적산소요구량 BOD[㎎/ℓ]</td>\n",
       "      <td>㎎/ℓ</td>\n",
       "      <td>1.0</td>\n",
       "      <td>NaN</td>\n",
       "      <td>0.30000</td>\n",
       "      <td>0.7</td>\n",
       "      <td>1.1</td>\n",
       "      <td>1.10000</td>\n",
       "      <td>0.9</td>\n",
       "      <td>0.6</td>\n",
       "      <td>0.40000</td>\n",
       "      <td>0.6</td>\n",
       "      <td>0.4</td>\n",
       "      <td>0.70000</td>\n",
       "      <td>0.4</td>\n",
       "      <td>0.5</td>\n",
       "      <td>0.30000</td>\n",
       "      <td>1.1</td>\n",
       "      <td>0.7</td>\n",
       "      <td>1.80000</td>\n",
       "      <td>0.9</td>\n",
       "      <td>1.9</td>\n",
       "      <td>1.2</td>\n",
       "      <td>0.6</td>\n",
       "      <td>0.5</td>\n",
       "      <td>1.00000</td>\n",
       "      <td>NaN</td>\n",
       "    </tr>\n",
       "    <tr>\n",
       "      <th>1</th>\n",
       "      <td>화천댐1(파로호)</td>\n",
       "      <td>용존산소 DO[㎎/ℓ]</td>\n",
       "      <td>㎎/ℓ</td>\n",
       "      <td>10.3</td>\n",
       "      <td>NaN</td>\n",
       "      <td>12.40000</td>\n",
       "      <td>11.4</td>\n",
       "      <td>10.9</td>\n",
       "      <td>9.50000</td>\n",
       "      <td>10.2</td>\n",
       "      <td>8.5</td>\n",
       "      <td>8.40000</td>\n",
       "      <td>7.9</td>\n",
       "      <td>8.8</td>\n",
       "      <td>10.50000</td>\n",
       "      <td>10.7</td>\n",
       "      <td>11.9</td>\n",
       "      <td>12.10000</td>\n",
       "      <td>12.4</td>\n",
       "      <td>11.1</td>\n",
       "      <td>10.00000</td>\n",
       "      <td>9.7</td>\n",
       "      <td>10.2</td>\n",
       "      <td>9.0</td>\n",
       "      <td>8.6</td>\n",
       "      <td>9.8</td>\n",
       "      <td>10.00000</td>\n",
       "      <td>NaN</td>\n",
       "    </tr>\n",
       "    <tr>\n",
       "      <th>2</th>\n",
       "      <td>화천댐1(파로호)</td>\n",
       "      <td>카드뮴 Cd[㎎/ℓ]</td>\n",
       "      <td>㎎/ℓ</td>\n",
       "      <td>NaN</td>\n",
       "      <td>NaN</td>\n",
       "      <td>0.00039</td>\n",
       "      <td>NaN</td>\n",
       "      <td>NaN</td>\n",
       "      <td>0.00000</td>\n",
       "      <td>NaN</td>\n",
       "      <td>NaN</td>\n",
       "      <td>0.00000</td>\n",
       "      <td>NaN</td>\n",
       "      <td>NaN</td>\n",
       "      <td>0.00000</td>\n",
       "      <td>NaN</td>\n",
       "      <td>NaN</td>\n",
       "      <td>0.00000</td>\n",
       "      <td>NaN</td>\n",
       "      <td>NaN</td>\n",
       "      <td>0.00020</td>\n",
       "      <td>NaN</td>\n",
       "      <td>NaN</td>\n",
       "      <td>0.0</td>\n",
       "      <td>NaN</td>\n",
       "      <td>NaN</td>\n",
       "      <td>0.00000</td>\n",
       "      <td>NaN</td>\n",
       "    </tr>\n",
       "    <tr>\n",
       "      <th>3</th>\n",
       "      <td>화천댐1(파로호)</td>\n",
       "      <td>시안 CN[㎎/ℓ]</td>\n",
       "      <td>㎎/ℓ</td>\n",
       "      <td>NaN</td>\n",
       "      <td>NaN</td>\n",
       "      <td>0.00000</td>\n",
       "      <td>NaN</td>\n",
       "      <td>NaN</td>\n",
       "      <td>0.00000</td>\n",
       "      <td>NaN</td>\n",
       "      <td>NaN</td>\n",
       "      <td>0.00000</td>\n",
       "      <td>NaN</td>\n",
       "      <td>NaN</td>\n",
       "      <td>0.00000</td>\n",
       "      <td>NaN</td>\n",
       "      <td>NaN</td>\n",
       "      <td>0.00000</td>\n",
       "      <td>NaN</td>\n",
       "      <td>NaN</td>\n",
       "      <td>0.00000</td>\n",
       "      <td>NaN</td>\n",
       "      <td>NaN</td>\n",
       "      <td>0.0</td>\n",
       "      <td>NaN</td>\n",
       "      <td>NaN</td>\n",
       "      <td>0.00000</td>\n",
       "      <td>NaN</td>\n",
       "    </tr>\n",
       "    <tr>\n",
       "      <th>4</th>\n",
       "      <td>화천댐1(파로호)</td>\n",
       "      <td>납 Pb[㎎/ℓ]</td>\n",
       "      <td>㎎/ℓ</td>\n",
       "      <td>NaN</td>\n",
       "      <td>NaN</td>\n",
       "      <td>0.00152</td>\n",
       "      <td>NaN</td>\n",
       "      <td>NaN</td>\n",
       "      <td>0.00045</td>\n",
       "      <td>NaN</td>\n",
       "      <td>NaN</td>\n",
       "      <td>0.00024</td>\n",
       "      <td>NaN</td>\n",
       "      <td>NaN</td>\n",
       "      <td>0.00301</td>\n",
       "      <td>NaN</td>\n",
       "      <td>NaN</td>\n",
       "      <td>0.00339</td>\n",
       "      <td>NaN</td>\n",
       "      <td>NaN</td>\n",
       "      <td>0.00064</td>\n",
       "      <td>NaN</td>\n",
       "      <td>NaN</td>\n",
       "      <td>0.0</td>\n",
       "      <td>NaN</td>\n",
       "      <td>NaN</td>\n",
       "      <td>0.00247</td>\n",
       "      <td>NaN</td>\n",
       "    </tr>\n",
       "  </tbody>\n",
       "</table>\n",
       "</div>"
      ],
      "text/plain": [
       "         수계별                   항목   단위  2019.01 월  2019.02 월  2019.03 월  \\\n",
       "0  화천댐1(파로호)  생물화학적산소요구량 BOD[㎎/ℓ]  ㎎/ℓ        1.0        NaN    0.30000   \n",
       "1  화천댐1(파로호)         용존산소 DO[㎎/ℓ]  ㎎/ℓ       10.3        NaN   12.40000   \n",
       "2  화천댐1(파로호)          카드뮴 Cd[㎎/ℓ]  ㎎/ℓ        NaN        NaN    0.00039   \n",
       "3  화천댐1(파로호)           시안 CN[㎎/ℓ]  ㎎/ℓ        NaN        NaN    0.00000   \n",
       "4  화천댐1(파로호)            납 Pb[㎎/ℓ]  ㎎/ℓ        NaN        NaN    0.00152   \n",
       "\n",
       "   2019.04 월  2019.05 월  2019.06 월  2019.07 월  2019.08 월  2019.09 월  \\\n",
       "0        0.7        1.1    1.10000        0.9        0.6    0.40000   \n",
       "1       11.4       10.9    9.50000       10.2        8.5    8.40000   \n",
       "2        NaN        NaN    0.00000        NaN        NaN    0.00000   \n",
       "3        NaN        NaN    0.00000        NaN        NaN    0.00000   \n",
       "4        NaN        NaN    0.00045        NaN        NaN    0.00024   \n",
       "\n",
       "   2019.10 월  2019.11 월  2019.12 월  2020.01 월  2020.02 월  2020.03 월  \\\n",
       "0        0.6        0.4    0.70000        0.4        0.5    0.30000   \n",
       "1        7.9        8.8   10.50000       10.7       11.9   12.10000   \n",
       "2        NaN        NaN    0.00000        NaN        NaN    0.00000   \n",
       "3        NaN        NaN    0.00000        NaN        NaN    0.00000   \n",
       "4        NaN        NaN    0.00301        NaN        NaN    0.00339   \n",
       "\n",
       "   2020.04 월  2020.05 월  2020.06 월  2020.07 월  2020.08 월  2020.09 월  \\\n",
       "0        1.1        0.7    1.80000        0.9        1.9        1.2   \n",
       "1       12.4       11.1   10.00000        9.7       10.2        9.0   \n",
       "2        NaN        NaN    0.00020        NaN        NaN        0.0   \n",
       "3        NaN        NaN    0.00000        NaN        NaN        0.0   \n",
       "4        NaN        NaN    0.00064        NaN        NaN        0.0   \n",
       "\n",
       "   2020.10 월  2020.11 월  2020.12 월  Unnamed: 27  \n",
       "0        0.6        0.5    1.00000          NaN  \n",
       "1        8.6        9.8   10.00000          NaN  \n",
       "2        NaN        NaN    0.00000          NaN  \n",
       "3        NaN        NaN    0.00000          NaN  \n",
       "4        NaN        NaN    0.00247          NaN  "
      ]
     },
     "execution_count": 124,
     "metadata": {},
     "output_type": "execute_result"
    }
   ],
   "source": [
    "water_raw = pd.read_csv('data/water/수질오염.csv', encoding='cp949')\n",
    "water_raw.head()"
   ]
  },
  {
   "cell_type": "code",
   "execution_count": 126,
   "metadata": {},
   "outputs": [
    {
     "data": {
      "text/html": [
       "<div>\n",
       "<style scoped>\n",
       "    .dataframe tbody tr th:only-of-type {\n",
       "        vertical-align: middle;\n",
       "    }\n",
       "\n",
       "    .dataframe tbody tr th {\n",
       "        vertical-align: top;\n",
       "    }\n",
       "\n",
       "    .dataframe thead th {\n",
       "        text-align: right;\n",
       "    }\n",
       "</style>\n",
       "<table border=\"1\" class=\"dataframe\">\n",
       "  <thead>\n",
       "    <tr style=\"text-align: right;\">\n",
       "      <th></th>\n",
       "      <th>수계별</th>\n",
       "      <th>항목</th>\n",
       "      <th>단위</th>\n",
       "      <th>시점</th>\n",
       "      <th>value</th>\n",
       "    </tr>\n",
       "  </thead>\n",
       "  <tbody>\n",
       "    <tr>\n",
       "      <th>0</th>\n",
       "      <td>화천댐1(파로호)</td>\n",
       "      <td>생물화학적산소요구량 BOD[㎎/ℓ]</td>\n",
       "      <td>㎎/ℓ</td>\n",
       "      <td>2019.01 월</td>\n",
       "      <td>1.0</td>\n",
       "    </tr>\n",
       "    <tr>\n",
       "      <th>1</th>\n",
       "      <td>화천댐1(파로호)</td>\n",
       "      <td>용존산소 DO[㎎/ℓ]</td>\n",
       "      <td>㎎/ℓ</td>\n",
       "      <td>2019.01 월</td>\n",
       "      <td>10.3</td>\n",
       "    </tr>\n",
       "    <tr>\n",
       "      <th>2</th>\n",
       "      <td>화천댐1(파로호)</td>\n",
       "      <td>카드뮴 Cd[㎎/ℓ]</td>\n",
       "      <td>㎎/ℓ</td>\n",
       "      <td>2019.01 월</td>\n",
       "      <td>NaN</td>\n",
       "    </tr>\n",
       "    <tr>\n",
       "      <th>3</th>\n",
       "      <td>화천댐1(파로호)</td>\n",
       "      <td>시안 CN[㎎/ℓ]</td>\n",
       "      <td>㎎/ℓ</td>\n",
       "      <td>2019.01 월</td>\n",
       "      <td>NaN</td>\n",
       "    </tr>\n",
       "    <tr>\n",
       "      <th>4</th>\n",
       "      <td>화천댐1(파로호)</td>\n",
       "      <td>납 Pb[㎎/ℓ]</td>\n",
       "      <td>㎎/ℓ</td>\n",
       "      <td>2019.01 월</td>\n",
       "      <td>NaN</td>\n",
       "    </tr>\n",
       "  </tbody>\n",
       "</table>\n",
       "</div>"
      ],
      "text/plain": [
       "         수계별                   항목   단위         시점  value\n",
       "0  화천댐1(파로호)  생물화학적산소요구량 BOD[㎎/ℓ]  ㎎/ℓ  2019.01 월    1.0\n",
       "1  화천댐1(파로호)         용존산소 DO[㎎/ℓ]  ㎎/ℓ  2019.01 월   10.3\n",
       "2  화천댐1(파로호)          카드뮴 Cd[㎎/ℓ]  ㎎/ℓ  2019.01 월    NaN\n",
       "3  화천댐1(파로호)           시안 CN[㎎/ℓ]  ㎎/ℓ  2019.01 월    NaN\n",
       "4  화천댐1(파로호)            납 Pb[㎎/ℓ]  ㎎/ℓ  2019.01 월    NaN"
      ]
     },
     "execution_count": 126,
     "metadata": {},
     "output_type": "execute_result"
    }
   ],
   "source": [
    "water = water_raw.melt(id_vars=['수계별', '항목', '단위'], var_name='시점', )\n",
    "water.head()"
   ]
  },
  {
   "cell_type": "code",
   "execution_count": 113,
   "metadata": {},
   "outputs": [
    {
     "data": {
      "text/plain": [
       "(43920, 5)"
      ]
     },
     "execution_count": 113,
     "metadata": {},
     "output_type": "execute_result"
    }
   ],
   "source": [
    "water.shape"
   ]
  },
  {
   "cell_type": "code",
   "execution_count": 111,
   "metadata": {},
   "outputs": [
    {
     "name": "stdout",
     "output_type": "stream",
     "text": [
      "<class 'pandas.core.frame.DataFrame'>\n",
      "RangeIndex: 43920 entries, 0 to 43919\n",
      "Data columns (total 5 columns):\n",
      " #   Column  Non-Null Count  Dtype \n",
      "---  ------  --------------  ----- \n",
      " 0   수계별(1)  41256 non-null  object\n",
      " 1   수계별(2)  41256 non-null  object\n",
      " 2   항목      41256 non-null  object\n",
      " 3   시점      43920 non-null  object\n",
      " 4   value   42822 non-null  object\n",
      "dtypes: object(5)\n",
      "memory usage: 1.7+ MB\n"
     ]
    }
   ],
   "source": [
    "water.info()"
   ]
  },
  {
   "cell_type": "code",
   "execution_count": 112,
   "metadata": {},
   "outputs": [
    {
     "data": {
      "text/plain": [
       "수계별(1)    object\n",
       "수계별(2)    object\n",
       "항목        object\n",
       "시점        object\n",
       "value     object\n",
       "dtype: object"
      ]
     },
     "execution_count": 112,
     "metadata": {},
     "output_type": "execute_result"
    }
   ],
   "source": [
    "water.dtypes"
   ]
  },
  {
   "cell_type": "code",
   "execution_count": 99,
   "metadata": {},
   "outputs": [
    {
     "name": "stderr",
     "output_type": "stream",
     "text": [
      "/var/folders/21/dvhd5rm144sbp9s362bjvx400000gn/T/ipykernel_93809/3542657401.py:1: FutureWarning: Dropping invalid columns in DataFrameGroupBy.mean is deprecated. In a future version, a TypeError will be raised. Before calling .mean, select only columns which should be valid for the function.\n",
      "  water_df.groupby('수계별(1)').mean()\n"
     ]
    },
    {
     "data": {
      "text/html": [
       "<div>\n",
       "<style scoped>\n",
       "    .dataframe tbody tr th:only-of-type {\n",
       "        vertical-align: middle;\n",
       "    }\n",
       "\n",
       "    .dataframe tbody tr th {\n",
       "        vertical-align: top;\n",
       "    }\n",
       "\n",
       "    .dataframe thead th {\n",
       "        text-align: right;\n",
       "    }\n",
       "</style>\n",
       "<table border=\"1\" class=\"dataframe\">\n",
       "  <thead>\n",
       "    <tr style=\"text-align: right;\">\n",
       "      <th></th>\n",
       "    </tr>\n",
       "    <tr>\n",
       "      <th>수계별(1)</th>\n",
       "    </tr>\n",
       "  </thead>\n",
       "  <tbody>\n",
       "    <tr>\n",
       "      <th>금강</th>\n",
       "    </tr>\n",
       "    <tr>\n",
       "      <th>기타</th>\n",
       "    </tr>\n",
       "    <tr>\n",
       "      <th>낙동강</th>\n",
       "    </tr>\n",
       "    <tr>\n",
       "      <th>만경강</th>\n",
       "    </tr>\n",
       "    <tr>\n",
       "      <th>삽교천</th>\n",
       "    </tr>\n",
       "    <tr>\n",
       "      <th>섬진강</th>\n",
       "    </tr>\n",
       "    <tr>\n",
       "      <th>수어천</th>\n",
       "    </tr>\n",
       "    <tr>\n",
       "      <th>안성천</th>\n",
       "    </tr>\n",
       "    <tr>\n",
       "      <th>영산강</th>\n",
       "    </tr>\n",
       "    <tr>\n",
       "      <th>탐진강</th>\n",
       "    </tr>\n",
       "    <tr>\n",
       "      <th>태화강</th>\n",
       "    </tr>\n",
       "    <tr>\n",
       "      <th>한강</th>\n",
       "    </tr>\n",
       "    <tr>\n",
       "      <th>형산강</th>\n",
       "    </tr>\n",
       "    <tr>\n",
       "      <th>회야강</th>\n",
       "    </tr>\n",
       "  </tbody>\n",
       "</table>\n",
       "</div>"
      ],
      "text/plain": [
       "Empty DataFrame\n",
       "Columns: []\n",
       "Index: [금강, 기타, 낙동강, 만경강, 삽교천, 섬진강, 수어천, 안성천, 영산강, 탐진강, 태화강, 한강, 형산강, 회야강]"
      ]
     },
     "execution_count": 99,
     "metadata": {},
     "output_type": "execute_result"
    }
   ],
   "source": [
    "water.rename(columns={'수계별(1)':'강명', '수계별(2)': '댐명', })"
   ]
  },
  {
   "cell_type": "markdown",
   "metadata": {},
   "source": [
    "----"
   ]
  },
  {
   "cell_type": "code",
   "execution_count": null,
   "metadata": {},
   "outputs": [],
   "source": [
    "air_raw = pd.read_csv"
   ]
  }
 ],
 "metadata": {
  "interpreter": {
   "hash": "dd2bdfad1ab26db227c1843957763d3a174f8536cb6672a59b557f5fb4c2622b"
  },
  "kernelspec": {
   "display_name": "Python 3.9.12 ('base')",
   "language": "python",
   "name": "python3"
  },
  "language_info": {
   "codemirror_mode": {
    "name": "ipython",
    "version": 3
   },
   "file_extension": ".py",
   "mimetype": "text/x-python",
   "name": "python",
   "nbconvert_exporter": "python",
   "pygments_lexer": "ipython3",
   "version": "3.9.12"
  },
  "orig_nbformat": 4
 },
 "nbformat": 4,
 "nbformat_minor": 2
}
